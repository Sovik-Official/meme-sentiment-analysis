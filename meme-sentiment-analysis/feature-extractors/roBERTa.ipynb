{
  "cells": [
    {
      "cell_type": "code",
      "execution_count": 2,
      "metadata": {
        "id": "0YUF9DN_zPxS"
      },
      "outputs": [],
      "source": [
        "import pandas as pd\n",
        "import numpy as np\n",
        "\n",
        "import yaml\n",
        "\n",
        "import tensorflow as tf\n",
        "from transformers import AutoTokenizer, TFAutoModel\n"
      ]
    },
    {
      "cell_type": "code",
      "execution_count": 4,
      "metadata": {},
      "outputs": [],
      "source": [
        "with open(\"../../config.yaml\", \"r\") as stream:\n",
        "    try:\n",
        "        configs = yaml.safe_load(stream)\n",
        "    except yaml.YAMLError as exc:\n",
        "        print(exc)"
      ]
    },
    {
      "cell_type": "code",
      "execution_count": 7,
      "metadata": {},
      "outputs": [
        {
          "data": {
            "text/plain": [
              "'B:\\\\utils\\\\Documentos\\\\MDC\\\\projeto_final\\\\meme-sentiment-analysis/datasets/processed/train.csv'"
            ]
          },
          "execution_count": 7,
          "metadata": {},
          "output_type": "execute_result"
        }
      ],
      "source": [
        "TT = 'train' #(T)rain or (T)est\n",
        "PATH_TO_EXTRACTED_FEATURES = configs['ROOT_DIR'] + configs['PATH_TO_EXTRACTED_FEATURES']\n",
        "PATH_TO_TRAIN_DS_PROCESSED = str(configs['ROOT_DIR'] + configs['PATH_TO_TRAIN_DS_PROCESSED'])\n",
        "PATH_TO_MODELS             = str(configs['ROOT_DIR'] + configs['PATH_TO_MODELS'])"
      ]
    },
    {
      "cell_type": "code",
      "execution_count": 6,
      "metadata": {
        "colab": {
          "base_uri": "https://localhost:8080/",
          "height": 206
        },
        "id": "3LQZtcVmJeMc",
        "outputId": "0e83611e-2eb4-48cf-dfb7-9266d39ccaba"
      },
      "outputs": [
        {
          "data": {
            "text/html": [
              "<div>\n",
              "<style scoped>\n",
              "    .dataframe tbody tr th:only-of-type {\n",
              "        vertical-align: middle;\n",
              "    }\n",
              "\n",
              "    .dataframe tbody tr th {\n",
              "        vertical-align: top;\n",
              "    }\n",
              "\n",
              "    .dataframe thead th {\n",
              "        text-align: right;\n",
              "    }\n",
              "</style>\n",
              "<table border=\"1\" class=\"dataframe\">\n",
              "  <thead>\n",
              "    <tr style=\"text-align: right;\">\n",
              "      <th></th>\n",
              "      <th>image_name</th>\n",
              "      <th>text</th>\n",
              "      <th>humour</th>\n",
              "      <th>sarcasm</th>\n",
              "      <th>offensive</th>\n",
              "      <th>motivational</th>\n",
              "      <th>target</th>\n",
              "    </tr>\n",
              "  </thead>\n",
              "  <tbody>\n",
              "    <tr>\n",
              "      <th>0</th>\n",
              "      <td>image_1415.jpeg</td>\n",
              "      <td>if you want to view paradis simpli look around...</td>\n",
              "      <td>not_funny</td>\n",
              "      <td>not_sarcastic</td>\n",
              "      <td>not_offensive</td>\n",
              "      <td>motivational</td>\n",
              "      <td>positive</td>\n",
              "    </tr>\n",
              "    <tr>\n",
              "      <th>1</th>\n",
              "      <td>image_6460.png</td>\n",
              "      <td>if i had a brick for everi lie hillari told i ...</td>\n",
              "      <td>hilarious</td>\n",
              "      <td>general</td>\n",
              "      <td>very_offensive</td>\n",
              "      <td>motivational</td>\n",
              "      <td>positive</td>\n",
              "    </tr>\n",
              "    <tr>\n",
              "      <th>2</th>\n",
              "      <td>image_2303.png</td>\n",
              "      <td>that thing over there can i eat that</td>\n",
              "      <td>very_funny</td>\n",
              "      <td>general</td>\n",
              "      <td>not_offensive</td>\n",
              "      <td>motivational</td>\n",
              "      <td>very_positive</td>\n",
              "    </tr>\n",
              "    <tr>\n",
              "      <th>3</th>\n",
              "      <td>image_2417.png</td>\n",
              "      <td>my dad point to liam and said when did david b...</td>\n",
              "      <td>not_funny</td>\n",
              "      <td>general</td>\n",
              "      <td>very_offensive</td>\n",
              "      <td>motivational</td>\n",
              "      <td>neutral</td>\n",
              "    </tr>\n",
              "    <tr>\n",
              "      <th>4</th>\n",
              "      <td>image_11.jpg</td>\n",
              "      <td>probabl the first man to do year challeng chen...</td>\n",
              "      <td>funny</td>\n",
              "      <td>general</td>\n",
              "      <td>very_offensive</td>\n",
              "      <td>motivational</td>\n",
              "      <td>negative</td>\n",
              "    </tr>\n",
              "  </tbody>\n",
              "</table>\n",
              "</div>"
            ],
            "text/plain": [
              "        image_name                                               text  \\\n",
              "0  image_1415.jpeg  if you want to view paradis simpli look around...   \n",
              "1   image_6460.png  if i had a brick for everi lie hillari told i ...   \n",
              "2   image_2303.png               that thing over there can i eat that   \n",
              "3   image_2417.png  my dad point to liam and said when did david b...   \n",
              "4     image_11.jpg  probabl the first man to do year challeng chen...   \n",
              "\n",
              "       humour        sarcasm       offensive  motivational         target  \n",
              "0   not_funny  not_sarcastic   not_offensive  motivational       positive  \n",
              "1   hilarious        general  very_offensive  motivational       positive  \n",
              "2  very_funny        general   not_offensive  motivational  very_positive  \n",
              "3   not_funny        general  very_offensive  motivational        neutral  \n",
              "4       funny        general  very_offensive  motivational       negative  "
            ]
          },
          "execution_count": 6,
          "metadata": {},
          "output_type": "execute_result"
        }
      ],
      "source": [
        "base = pd.read_csv(PATH_TO_TRAIN_DS_PROCESSED)\n",
        "base.head()"
      ]
    },
    {
      "cell_type": "markdown",
      "metadata": {
        "id": "hs_UBBbKpJHk"
      },
      "source": [
        "## RoBERTa"
      ]
    },
    {
      "cell_type": "code",
      "execution_count": 8,
      "metadata": {
        "id": "enqt898gWOEU"
      },
      "outputs": [],
      "source": [
        "model_name = \"roberta-base\""
      ]
    },
    {
      "cell_type": "code",
      "execution_count": 148,
      "metadata": {
        "colab": {
          "base_uri": "https://localhost:8080/"
        },
        "id": "4qPQKR_hTZq4",
        "outputId": "9f700b8b-7e7d-414d-c85e-0828229cd65f"
      },
      "outputs": [
        {
          "name": "stderr",
          "output_type": "stream",
          "text": [
            "Some layers from the model checkpoint at B:\\utils\\Documentos\\MDC\\projeto_final\\meme-sentiment-analysis/meme-sentiment-analysis/models/saved/models/roberta-base/ were not used when initializing TFRobertaModel: ['classifier']\n",
            "- This IS expected if you are initializing TFRobertaModel from the checkpoint of a model trained on another task or with another architecture (e.g. initializing a BertForSequenceClassification model from a BertForPreTraining model).\n",
            "- This IS NOT expected if you are initializing TFRobertaModel from the checkpoint of a model that you expect to be exactly identical (initializing a BertForSequenceClassification model from a BertForSequenceClassification model).\n",
            "Some layers of TFRobertaModel were not initialized from the model checkpoint at B:\\utils\\Documentos\\MDC\\projeto_final\\meme-sentiment-analysis/meme-sentiment-analysis/models/saved/models/roberta-base/ and are newly initialized: ['roberta/pooler/dense/kernel:0', 'roberta/pooler/dense/bias:0']\n",
            "You should probably TRAIN this model on a down-stream task to be able to use it for predictions and inference.\n"
          ]
        }
      ],
      "source": [
        "tok = AutoTokenizer.from_pretrained(model_name)\n",
        "model = TFAutoModel.from_pretrained(PATH_TO_MODELS + model_name + '/')"
      ]
    },
    {
      "cell_type": "code",
      "execution_count": 149,
      "metadata": {
        "id": "Q6amcv6BWOEV"
      },
      "outputs": [],
      "source": [
        "extracted_features = np.zeros(768)\n",
        "extracted_features.shape = (1, 768)\n",
        "\n",
        "for i in range(0, len(base.text.values.tolist()) - 100, 100):\n",
        "  input_ids = tf.constant(tok(base.text.values.tolist()[ i : i + 100], padding='max_length', truncation=True)['input_ids'])\n",
        "  outputs = model(input_ids)\n",
        "  last_hidden_states = outputs[0]\n",
        "  embeddings = last_hidden_states.numpy()[:, 0, :]\n",
        "  extracted_features = np.concatenate((extracted_features, embeddings), axis=0)\n",
        "  \n",
        "input_ids = tf.constant(tok(base.text.values.tolist()[ i + 100 : len(base.text.values.tolist()) + 1], padding='max_length', truncation=True)['input_ids'])\n",
        "outputs = model(input_ids)\n",
        "last_hidden_states = outputs[0]\n",
        "embeddings = last_hidden_states.numpy()[:, 0, :]\n",
        "extracted_features = np.concatenate((extracted_features, embeddings), axis=0)"
      ]
    },
    {
      "cell_type": "code",
      "execution_count": 151,
      "metadata": {},
      "outputs": [],
      "source": [
        "pd.DataFrame(extracted_features).to_csv(PATH_TO_EXTRACTED_FEATURES + model_name + \"-\" + TT + \".csv\")"
      ]
    }
  ],
  "metadata": {
    "colab": {
      "collapsed_sections": [],
      "name": "BERT-EfficientNetV2B0-extractors.ipynb",
      "provenance": []
    },
    "kernelspec": {
      "display_name": "Python 3.7.0 64-bit",
      "language": "python",
      "name": "python3"
    },
    "language_info": {
      "codemirror_mode": {
        "name": "ipython",
        "version": 3
      },
      "file_extension": ".py",
      "mimetype": "text/x-python",
      "name": "python",
      "nbconvert_exporter": "python",
      "pygments_lexer": "ipython3",
      "version": "3.7.0"
    },
    "vscode": {
      "interpreter": {
        "hash": "f2487189b5835e73c5fa6cd7f2ed518f6fa1ff6c9bd8da44d17cb8ab10f576c2"
      }
    }
  },
  "nbformat": 4,
  "nbformat_minor": 0
}
