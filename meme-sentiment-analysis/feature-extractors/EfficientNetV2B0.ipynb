{
 "cells": [
  {
   "cell_type": "code",
   "execution_count": 2,
   "id": "dcf4d7df-80af-4c39-9736-b9fdf5d767bc",
   "metadata": {},
   "outputs": [],
   "source": [
    "import tensorflow as tf\n",
    "from keras.models import Model\n",
    "from tensorflow.keras.preprocessing import image\n",
    "from tensorflow.keras.preprocessing.image import ImageDataGenerator\n",
    "\n",
    "import pandas as pd\n",
    "import numpy as np\n",
    "\n",
    "from tqdm import tqdm\n",
    "import yaml"
   ]
  },
  {
   "cell_type": "code",
   "execution_count": 3,
   "id": "3c063bc6",
   "metadata": {},
   "outputs": [],
   "source": [
    "with open(\"../../config.yaml\", \"r\") as stream:\n",
    "    try:\n",
    "        configs = yaml.safe_load(stream)\n",
    "    except yaml.YAMLError as exc:\n",
    "        print(exc)"
   ]
  },
  {
   "cell_type": "code",
   "execution_count": 4,
   "id": "3a3e30f6",
   "metadata": {},
   "outputs": [],
   "source": [
    "TT = 'train' #(T)rain or (T)est\n",
    "PATH_TO_EXTRACTED_FEATURES = configs['ROOT_DIR'] + configs['PATH_TO_EXTRACTED_FEATURES']\n",
    "PATH_TO_TRAIN_DS_PROCESSED = str(configs['ROOT_DIR'] + configs['PATH_TO_TRAIN_DS_PROCESSED'])\n",
    "PATH_TO_MODELS             = str(configs['ROOT_DIR'] + configs['PATH_TO_MODELS'])\n",
    "PATH_TO_WEIGHTS            = str(configs['ROOT_DIR'] + configs['PATH_TO_WEIGHTS'])"
   ]
  },
  {
   "cell_type": "code",
   "execution_count": 5,
   "id": "8fc74276-8a68-435d-be5f-ca017bd7d52f",
   "metadata": {
    "executionInfo": {
     "elapsed": 9,
     "status": "ok",
     "timestamp": 1657489518331,
     "user": {
      "displayName": "Vitor Hugo de Sousa Ferreira",
      "userId": "07661415699331402133"
     },
     "user_tz": 180
    },
    "id": "3LQZtcVmJeMc"
   },
   "outputs": [
    {
     "data": {
      "text/html": [
       "<div>\n",
       "<style scoped>\n",
       "    .dataframe tbody tr th:only-of-type {\n",
       "        vertical-align: middle;\n",
       "    }\n",
       "\n",
       "    .dataframe tbody tr th {\n",
       "        vertical-align: top;\n",
       "    }\n",
       "\n",
       "    .dataframe thead th {\n",
       "        text-align: right;\n",
       "    }\n",
       "</style>\n",
       "<table border=\"1\" class=\"dataframe\">\n",
       "  <thead>\n",
       "    <tr style=\"text-align: right;\">\n",
       "      <th></th>\n",
       "      <th>image_name</th>\n",
       "      <th>text</th>\n",
       "      <th>humour</th>\n",
       "      <th>sarcasm</th>\n",
       "      <th>offensive</th>\n",
       "      <th>motivational</th>\n",
       "      <th>target</th>\n",
       "    </tr>\n",
       "  </thead>\n",
       "  <tbody>\n",
       "    <tr>\n",
       "      <th>0</th>\n",
       "      <td>image_1415.jpeg</td>\n",
       "      <td>if you want to view paradis simpli look around...</td>\n",
       "      <td>not_funny</td>\n",
       "      <td>not_sarcastic</td>\n",
       "      <td>not_offensive</td>\n",
       "      <td>motivational</td>\n",
       "      <td>positive</td>\n",
       "    </tr>\n",
       "    <tr>\n",
       "      <th>1</th>\n",
       "      <td>image_6460.png</td>\n",
       "      <td>if i had a brick for everi lie hillari told i ...</td>\n",
       "      <td>hilarious</td>\n",
       "      <td>general</td>\n",
       "      <td>very_offensive</td>\n",
       "      <td>motivational</td>\n",
       "      <td>positive</td>\n",
       "    </tr>\n",
       "    <tr>\n",
       "      <th>2</th>\n",
       "      <td>image_2303.png</td>\n",
       "      <td>that thing over there can i eat that</td>\n",
       "      <td>very_funny</td>\n",
       "      <td>general</td>\n",
       "      <td>not_offensive</td>\n",
       "      <td>motivational</td>\n",
       "      <td>very_positive</td>\n",
       "    </tr>\n",
       "    <tr>\n",
       "      <th>3</th>\n",
       "      <td>image_2417.png</td>\n",
       "      <td>my dad point to liam and said when did david b...</td>\n",
       "      <td>not_funny</td>\n",
       "      <td>general</td>\n",
       "      <td>very_offensive</td>\n",
       "      <td>motivational</td>\n",
       "      <td>neutral</td>\n",
       "    </tr>\n",
       "    <tr>\n",
       "      <th>4</th>\n",
       "      <td>image_11.jpg</td>\n",
       "      <td>probabl the first man to do year challeng chen...</td>\n",
       "      <td>funny</td>\n",
       "      <td>general</td>\n",
       "      <td>very_offensive</td>\n",
       "      <td>motivational</td>\n",
       "      <td>negative</td>\n",
       "    </tr>\n",
       "  </tbody>\n",
       "</table>\n",
       "</div>"
      ],
      "text/plain": [
       "        image_name                                               text  \\\n",
       "0  image_1415.jpeg  if you want to view paradis simpli look around...   \n",
       "1   image_6460.png  if i had a brick for everi lie hillari told i ...   \n",
       "2   image_2303.png               that thing over there can i eat that   \n",
       "3   image_2417.png  my dad point to liam and said when did david b...   \n",
       "4     image_11.jpg  probabl the first man to do year challeng chen...   \n",
       "\n",
       "       humour        sarcasm       offensive  motivational         target  \n",
       "0   not_funny  not_sarcastic   not_offensive  motivational       positive  \n",
       "1   hilarious        general  very_offensive  motivational       positive  \n",
       "2  very_funny        general   not_offensive  motivational  very_positive  \n",
       "3   not_funny        general  very_offensive  motivational        neutral  \n",
       "4       funny        general  very_offensive  motivational       negative  "
      ]
     },
     "execution_count": 5,
     "metadata": {},
     "output_type": "execute_result"
    }
   ],
   "source": [
    "base = pd.read_csv(PATH_TO_TRAIN_DS_PROCESSED)\n",
    "base.head()"
   ]
  },
  {
   "cell_type": "markdown",
   "id": "ea02bfdd-8ea1-4241-8b67-5a21764ee88a",
   "metadata": {},
   "source": [
    "## EfficientNetV2B0 for feature extraction"
   ]
  },
  {
   "cell_type": "code",
   "execution_count": 7,
   "id": "39d11d0a",
   "metadata": {},
   "outputs": [],
   "source": [
    "model_name = \"EfficientNet\""
   ]
  },
  {
   "cell_type": "code",
   "execution_count": 3,
   "id": "9fd28491-ecea-4c83-a2e6-36a6463395a0",
   "metadata": {},
   "outputs": [
    {
     "name": "stderr",
     "output_type": "stream",
     "text": [
      "100%|██████████| 1369/1369 [00:45<00:00, 30.11it/s]\n"
     ]
    }
   ],
   "source": [
    "width = 100\n",
    "height = 100\n",
    "X_base = []\n",
    "X_base_path = []\n",
    "for i in tqdm(base['image_name']):\n",
    "    path = \"dataset/images/\"+i\n",
    "    img = image.load_img(path,target_size=(width,height,3))\n",
    "    img = image.img_to_array(img)\n",
    "    X_base.append(img)\n",
    "    X_base_path.append(path)"
   ]
  },
  {
   "cell_type": "code",
   "execution_count": 4,
   "id": "dcaf3954-a71b-4bcc-93ce-552a94a4ba1b",
   "metadata": {},
   "outputs": [],
   "source": [
    "X_base = np.array(X_base)\n",
    "Y_base = base.target.astype('category')\n",
    "Y_train_code = Y_base.cat.codes\n",
    "n_classes = len(np.unique(base.target.unique()))\n",
    "Y_base = tf.keras.utils.to_categorical(Y_train_code, n_classes)\n",
    "\n",
    "datagen_image = ImageDataGenerator(brightness_range=[0.7,1.5],preprocessing_function=tf.keras.applications.resnet50.preprocess_input,channel_shift_range=20)\n",
    "\n",
    "train_batches = datagen_image.flow(X_base, np.array(Y_base), shuffle=False, batch_size=64)"
   ]
  },
  {
   "cell_type": "markdown",
   "id": "e3c35ba1-f76d-4f31-8bb1-1d7f52232335",
   "metadata": {},
   "source": [
    "### Cria o modelo extrator de features"
   ]
  },
  {
   "cell_type": "code",
   "execution_count": 5,
   "id": "1353f09c-095b-48e2-a483-6e4bb2718706",
   "metadata": {},
   "outputs": [],
   "source": [
    "model_EfficientNetV2B0 = tf.keras.models.load_model(PATH_TO_WEIGHTS + 'EfficientNetV2B0_frozen.h5')\n",
    "\n",
    "for layer in model_EfficientNetV2B0.layers:\n",
    "    layer.trainable = False\n",
    "\n",
    "model_img = Model(model_EfficientNetV2B0.input, model_EfficientNetV2B0.layers[-2].output)\n",
    "feats_img_train = model_img.predict(X_base)"
   ]
  },
  {
   "cell_type": "code",
   "execution_count": 6,
   "id": "c6322cc4-dcc9-43bb-a83b-ed199fb4c3ba",
   "metadata": {},
   "outputs": [],
   "source": [
    "pd.DataFrame(feats_img_train).to_csv(PATH_TO_EXTRACTED_FEATURES + model_name + \"-\" + TT + \".csv\")"
   ]
  }
 ],
 "metadata": {
  "kernelspec": {
   "display_name": "Python 3.7.0 64-bit",
   "language": "python",
   "name": "python3"
  },
  "language_info": {
   "codemirror_mode": {
    "name": "ipython",
    "version": 3
   },
   "file_extension": ".py",
   "mimetype": "text/x-python",
   "name": "python",
   "nbconvert_exporter": "python",
   "pygments_lexer": "ipython3",
   "version": "3.7.0"
  },
  "vscode": {
   "interpreter": {
    "hash": "f2487189b5835e73c5fa6cd7f2ed518f6fa1ff6c9bd8da44d17cb8ab10f576c2"
   }
  }
 },
 "nbformat": 4,
 "nbformat_minor": 5
}
