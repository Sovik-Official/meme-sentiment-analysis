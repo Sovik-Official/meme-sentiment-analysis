{
 "cells": [
  {
   "cell_type": "code",
   "execution_count": 137,
   "metadata": {},
   "outputs": [
    {
     "name": "stdout",
     "output_type": "stream",
     "text": [
      "Requirement already satisfied: transformers in d:\\programas\\python37\\lib\\site-packages (4.20.1)\n",
      "Requirement already satisfied: regex!=2019.12.17 in d:\\programas\\python37\\lib\\site-packages (from transformers) (2022.6.2)\n",
      "Requirement already satisfied: pyyaml>=5.1 in d:\\programas\\python37\\lib\\site-packages (from transformers) (6.0)\n"
     ]
    },
    {
     "name": "stderr",
     "output_type": "stream",
     "text": [
      "WARNING: Ignoring invalid distribution -ip (d:\\programas\\python37\\lib\\site-packages)\n",
      "WARNING: Ignoring invalid distribution -ip (d:\\programas\\python37\\lib\\site-packages)\n",
      "WARNING: Ignoring invalid distribution -ip (d:\\programas\\python37\\lib\\site-packages)\n",
      "WARNING: Ignoring invalid distribution -ip (d:\\programas\\python37\\lib\\site-packages)\n",
      "WARNING: Ignoring invalid distribution -ip (d:\\programas\\python37\\lib\\site-packages)\n",
      "WARNING: Ignoring invalid distribution -ip (d:\\programas\\python37\\lib\\site-packages)\n",
      "WARNING: You are using pip version 21.2.2; however, version 22.1.2 is available.\n",
      "You should consider upgrading via the 'd:\\programas\\python37\\python.exe -m pip install --upgrade pip' command.\n"
     ]
    },
    {
     "name": "stdout",
     "output_type": "stream",
     "text": [
      "Requirement already satisfied: requests in d:\\programas\\python37\\lib\\site-packages (from transformers) (2.26.0)\n",
      "Requirement already satisfied: packaging>=20.0 in d:\\programas\\python37\\lib\\site-packages (from transformers) (21.0)\n",
      "Requirement already satisfied: importlib-metadata in d:\\programas\\python37\\lib\\site-packages (from transformers) (4.11.3)\n",
      "Requirement already satisfied: tokenizers!=0.11.3,<0.13,>=0.11.1 in d:\\programas\\python37\\lib\\site-packages (from transformers) (0.12.1)\n",
      "Requirement already satisfied: huggingface-hub<1.0,>=0.1.0 in d:\\programas\\python37\\lib\\site-packages (from transformers) (0.8.1)\n",
      "Requirement already satisfied: numpy>=1.17 in d:\\programas\\python37\\lib\\site-packages (from transformers) (1.20.2)\n",
      "Requirement already satisfied: tqdm>=4.27 in d:\\programas\\python37\\lib\\site-packages (from transformers) (4.64.0)\n",
      "Requirement already satisfied: filelock in d:\\programas\\python37\\lib\\site-packages (from transformers) (3.7.1)\n",
      "Requirement already satisfied: typing-extensions>=3.7.4.3 in d:\\programas\\python37\\lib\\site-packages (from huggingface-hub<1.0,>=0.1.0->transformers) (3.10.0.0)\n",
      "Requirement already satisfied: pyparsing>=2.0.2 in d:\\programas\\python37\\lib\\site-packages (from packaging>=20.0->transformers) (2.4.7)\n",
      "Requirement already satisfied: colorama in d:\\programas\\python37\\lib\\site-packages (from tqdm>=4.27->transformers) (0.4.4)\n",
      "Requirement already satisfied: zipp>=0.5 in d:\\programas\\python37\\lib\\site-packages (from importlib-metadata->transformers) (3.5.0)\n",
      "Requirement already satisfied: idna<4,>=2.5 in d:\\programas\\python37\\lib\\site-packages (from requests->transformers) (3.2)\n",
      "Requirement already satisfied: certifi>=2017.4.17 in d:\\programas\\python37\\lib\\site-packages (from requests->transformers) (2020.12.5)\n",
      "Requirement already satisfied: urllib3<1.27,>=1.21.1 in d:\\programas\\python37\\lib\\site-packages (from requests->transformers) (1.26.6)\n",
      "Requirement already satisfied: charset-normalizer~=2.0.0 in d:\\programas\\python37\\lib\\site-packages (from requests->transformers) (2.0.3)\n",
      "Requirement already satisfied: datasets in d:\\programas\\python37\\lib\\site-packages (2.3.2)\n",
      "Requirement already satisfied: aiohttp in d:\\programas\\python37\\lib\\site-packages (from datasets) (3.8.1)\n",
      "Requirement already satisfied: packaging in d:\\programas\\python37\\lib\\site-packages (from datasets) (21.0)\n",
      "Requirement already satisfied: pyarrow>=6.0.0 in d:\\programas\\python37\\lib\\site-packages (from datasets) (8.0.0)\n",
      "Requirement already satisfied: responses<0.19 in d:\\programas\\python37\\lib\\site-packages (from datasets) (0.18.0)\n",
      "Requirement already satisfied: xxhash in d:\\programas\\python37\\lib\\site-packages (from datasets) (3.0.0)\n",
      "Requirement already satisfied: huggingface-hub<1.0.0,>=0.1.0 in d:\\programas\\python37\\lib\\site-packages (from datasets) (0.8.1)\n",
      "Requirement already satisfied: importlib-metadata in d:\\programas\\python37\\lib\\site-packages (from datasets) (4.11.3)\n",
      "Requirement already satisfied: fsspec[http]>=2021.05.0 in d:\\programas\\python37\\lib\\site-packages (from datasets) (2022.5.0)\n",
      "Requirement already satisfied: requests>=2.19.0 in d:\\programas\\python37\\lib\\site-packages (from datasets) (2.26.0)\n",
      "Requirement already satisfied: dill<0.3.6 in d:\\programas\\python37\\lib\\site-packages (from datasets) (0.3.5.1)\n",
      "Requirement already satisfied: numpy>=1.17 in d:\\programas\\python37\\lib\\site-packages (from datasets) (1.20.2)\n",
      "Requirement already satisfied: pandas in d:\\programas\\python37\\lib\\site-packages (from datasets) (1.1.5)\n",
      "Requirement already satisfied: multiprocess in d:\\programas\\python37\\lib\\site-packages (from datasets) (0.70.13)\n",
      "Requirement already satisfied: tqdm>=4.62.1 in d:\\programas\\python37\\lib\\site-packages (from datasets) (4.64.0)\n",
      "Requirement already satisfied: filelock in d:\\programas\\python37\\lib\\site-packages (from huggingface-hub<1.0.0,>=0.1.0->datasets) (3.7.1)\n",
      "Requirement already satisfied: typing-extensions>=3.7.4.3 in d:\\programas\\python37\\lib\\site-packages (from huggingface-hub<1.0.0,>=0.1.0->datasets) (3.10.0.0)\n",
      "Requirement already satisfied: pyyaml>=5.1 in d:\\programas\\python37\\lib\\site-packages (from huggingface-hub<1.0.0,>=0.1.0->datasets) (6.0)\n",
      "Requirement already satisfied: pyparsing>=2.0.2 in d:\\programas\\python37\\lib\\site-packages (from packaging->datasets) (2.4.7)\n",
      "Requirement already satisfied: charset-normalizer~=2.0.0 in d:\\programas\\python37\\lib\\site-packages (from requests>=2.19.0->datasets) (2.0.3)\n",
      "Requirement already satisfied: certifi>=2017.4.17 in d:\\programas\\python37\\lib\\site-packages (from requests>=2.19.0->datasets) (2020.12.5)\n",
      "Requirement already satisfied: urllib3<1.27,>=1.21.1 in d:\\programas\\python37\\lib\\site-packages (from requests>=2.19.0->datasets) (1.26.6)\n",
      "Requirement already satisfied: idna<4,>=2.5 in d:\\programas\\python37\\lib\\site-packages (from requests>=2.19.0->datasets) (3.2)\n",
      "Requirement already satisfied: colorama in d:\\programas\\python37\\lib\\site-packages (from tqdm>=4.62.1->datasets) (0.4.4)\n",
      "Requirement already satisfied: async-timeout<5.0,>=4.0.0a3 in d:\\programas\\python37\\lib\\site-packages (from aiohttp->datasets) (4.0.2)\n",
      "Requirement already satisfied: attrs>=17.3.0 in d:\\programas\\python37\\lib\\site-packages (from aiohttp->datasets) (21.2.0)\n",
      "Requirement already satisfied: multidict<7.0,>=4.5 in d:\\programas\\python37\\lib\\site-packages (from aiohttp->datasets) (6.0.2)\n",
      "Requirement already satisfied: yarl<2.0,>=1.0 in d:\\programas\\python37\\lib\\site-packages (from aiohttp->datasets) (1.7.2)\n",
      "Requirement already satisfied: asynctest==0.13.0 in d:\\programas\\python37\\lib\\site-packages (from aiohttp->datasets) (0.13.0)\n",
      "Requirement already satisfied: aiosignal>=1.1.2 in d:\\programas\\python37\\lib\\site-packages (from aiohttp->datasets) (1.2.0)\n",
      "Requirement already satisfied: frozenlist>=1.1.1 in d:\\programas\\python37\\lib\\site-packages (from aiohttp->datasets) (1.3.0)\n",
      "Requirement already satisfied: zipp>=0.5 in d:\\programas\\python37\\lib\\site-packages (from importlib-metadata->datasets) (3.5.0)\n",
      "Requirement already satisfied: python-dateutil>=2.7.3 in d:\\programas\\python37\\lib\\site-packages (from pandas->datasets) (2.8.1)\n",
      "Requirement already satisfied: pytz>=2017.2 in d:\\programas\\python37\\lib\\site-packages (from pandas->datasets) (2021.1)\n",
      "Requirement already satisfied: six>=1.5 in d:\\programas\\python37\\lib\\site-packages (from python-dateutil>=2.7.3->pandas->datasets) (1.16.0)\n"
     ]
    },
    {
     "name": "stderr",
     "output_type": "stream",
     "text": [
      "WARNING: Ignoring invalid distribution -ip (d:\\programas\\python37\\lib\\site-packages)\n",
      "WARNING: Ignoring invalid distribution -ip (d:\\programas\\python37\\lib\\site-packages)\n",
      "WARNING: Ignoring invalid distribution -ip (d:\\programas\\python37\\lib\\site-packages)\n",
      "WARNING: Ignoring invalid distribution -ip (d:\\programas\\python37\\lib\\site-packages)\n",
      "WARNING: Ignoring invalid distribution -ip (d:\\programas\\python37\\lib\\site-packages)\n",
      "WARNING: Ignoring invalid distribution -ip (d:\\programas\\python37\\lib\\site-packages)\n",
      "WARNING: You are using pip version 21.2.2; however, version 22.1.2 is available.\n",
      "You should consider upgrading via the 'd:\\programas\\python37\\python.exe -m pip install --upgrade pip' command.\n"
     ]
    }
   ],
   "source": [
    "! pip install transformers\n",
    "! pip install datasets"
   ]
  },
  {
   "cell_type": "code",
   "execution_count": 1,
   "metadata": {},
   "outputs": [],
   "source": [
    "import pandas as pd\n",
    "import numpy as np\n",
    "from sklearn.model_selection import train_test_split\n",
    "from datasets import Dataset\n",
    "from transformers import TFAutoModelForSequenceClassification, AutoTokenizer, DataCollatorWithPadding\n",
    "import tensorflow as tf\n",
    "from sklearn.utils import class_weight \n",
    "import keras\n",
    "\n",
    "from sklearn.metrics import confusion_matrix\n",
    "from sklearn.metrics import balanced_accuracy_score\n",
    "from sklearn.metrics import f1_score\n",
    "\n",
    "import matplotlib.pyplot as plt\n",
    "import seaborn as sns\n",
    "\n",
    "import yaml"
   ]
  },
  {
   "cell_type": "code",
   "execution_count": 2,
   "metadata": {},
   "outputs": [],
   "source": [
    "with open(\"../../config.yaml\", \"r\") as stream:\n",
    "    try:\n",
    "        configs = yaml.safe_load(stream)\n",
    "    except yaml.YAMLError as exc:\n",
    "        print(exc)"
   ]
  },
  {
   "cell_type": "code",
   "execution_count": 3,
   "metadata": {},
   "outputs": [],
   "source": [
    "PATH_TO_TRAIN_DS_PROCESSED = str(configs['ROOT_DIR'] + configs['PATH_TO_TRAIN_DS_PROCESSED'])"
   ]
  },
  {
   "cell_type": "code",
   "execution_count": 4,
   "metadata": {},
   "outputs": [
    {
     "data": {
      "text/html": [
       "<div>\n",
       "<style scoped>\n",
       "    .dataframe tbody tr th:only-of-type {\n",
       "        vertical-align: middle;\n",
       "    }\n",
       "\n",
       "    .dataframe tbody tr th {\n",
       "        vertical-align: top;\n",
       "    }\n",
       "\n",
       "    .dataframe thead th {\n",
       "        text-align: right;\n",
       "    }\n",
       "</style>\n",
       "<table border=\"1\" class=\"dataframe\">\n",
       "  <thead>\n",
       "    <tr style=\"text-align: right;\">\n",
       "      <th></th>\n",
       "      <th>image_name</th>\n",
       "      <th>text</th>\n",
       "      <th>humour</th>\n",
       "      <th>sarcasm</th>\n",
       "      <th>offensive</th>\n",
       "      <th>motivational</th>\n",
       "      <th>target</th>\n",
       "    </tr>\n",
       "  </thead>\n",
       "  <tbody>\n",
       "    <tr>\n",
       "      <th>0</th>\n",
       "      <td>image_1415.jpeg</td>\n",
       "      <td>if you want to view paradis simpli look around...</td>\n",
       "      <td>not_funny</td>\n",
       "      <td>not_sarcastic</td>\n",
       "      <td>not_offensive</td>\n",
       "      <td>motivational</td>\n",
       "      <td>positive</td>\n",
       "    </tr>\n",
       "    <tr>\n",
       "      <th>1</th>\n",
       "      <td>image_6460.png</td>\n",
       "      <td>if i had a brick for everi lie hillari told i ...</td>\n",
       "      <td>hilarious</td>\n",
       "      <td>general</td>\n",
       "      <td>very_offensive</td>\n",
       "      <td>motivational</td>\n",
       "      <td>positive</td>\n",
       "    </tr>\n",
       "    <tr>\n",
       "      <th>2</th>\n",
       "      <td>image_2303.png</td>\n",
       "      <td>that thing over there can i eat that</td>\n",
       "      <td>very_funny</td>\n",
       "      <td>general</td>\n",
       "      <td>not_offensive</td>\n",
       "      <td>motivational</td>\n",
       "      <td>very_positive</td>\n",
       "    </tr>\n",
       "    <tr>\n",
       "      <th>3</th>\n",
       "      <td>image_2417.png</td>\n",
       "      <td>my dad point to liam and said when did david b...</td>\n",
       "      <td>not_funny</td>\n",
       "      <td>general</td>\n",
       "      <td>very_offensive</td>\n",
       "      <td>motivational</td>\n",
       "      <td>neutral</td>\n",
       "    </tr>\n",
       "    <tr>\n",
       "      <th>4</th>\n",
       "      <td>image_11.jpg</td>\n",
       "      <td>probabl the first man to do year challeng chen...</td>\n",
       "      <td>funny</td>\n",
       "      <td>general</td>\n",
       "      <td>very_offensive</td>\n",
       "      <td>motivational</td>\n",
       "      <td>negative</td>\n",
       "    </tr>\n",
       "  </tbody>\n",
       "</table>\n",
       "</div>"
      ],
      "text/plain": [
       "        image_name                                               text  \\\n",
       "0  image_1415.jpeg  if you want to view paradis simpli look around...   \n",
       "1   image_6460.png  if i had a brick for everi lie hillari told i ...   \n",
       "2   image_2303.png               that thing over there can i eat that   \n",
       "3   image_2417.png  my dad point to liam and said when did david b...   \n",
       "4     image_11.jpg  probabl the first man to do year challeng chen...   \n",
       "\n",
       "       humour        sarcasm       offensive  motivational         target  \n",
       "0   not_funny  not_sarcastic   not_offensive  motivational       positive  \n",
       "1   hilarious        general  very_offensive  motivational       positive  \n",
       "2  very_funny        general   not_offensive  motivational  very_positive  \n",
       "3   not_funny        general  very_offensive  motivational        neutral  \n",
       "4       funny        general  very_offensive  motivational       negative  "
      ]
     },
     "execution_count": 4,
     "metadata": {},
     "output_type": "execute_result"
    }
   ],
   "source": [
    "base = pd.read_csv(PATH_TO_TRAIN_DS_PROCESSED)\n",
    "base.head()"
   ]
  },
  {
   "cell_type": "code",
   "execution_count": 4,
   "metadata": {},
   "outputs": [
    {
     "data": {
      "text/html": [
       "<div>\n",
       "<style scoped>\n",
       "    .dataframe tbody tr th:only-of-type {\n",
       "        vertical-align: middle;\n",
       "    }\n",
       "\n",
       "    .dataframe tbody tr th {\n",
       "        vertical-align: top;\n",
       "    }\n",
       "\n",
       "    .dataframe thead th {\n",
       "        text-align: right;\n",
       "    }\n",
       "</style>\n",
       "<table border=\"1\" class=\"dataframe\">\n",
       "  <thead>\n",
       "    <tr style=\"text-align: right;\">\n",
       "      <th></th>\n",
       "      <th>text</th>\n",
       "      <th>target</th>\n",
       "    </tr>\n",
       "  </thead>\n",
       "  <tbody>\n",
       "    <tr>\n",
       "      <th>0</th>\n",
       "      <td>if you want to view paradis simpli look around...</td>\n",
       "      <td>positive</td>\n",
       "    </tr>\n",
       "    <tr>\n",
       "      <th>1</th>\n",
       "      <td>if i had a brick for everi lie hillari told i ...</td>\n",
       "      <td>positive</td>\n",
       "    </tr>\n",
       "    <tr>\n",
       "      <th>2</th>\n",
       "      <td>that thing over there can i eat that</td>\n",
       "      <td>very_positive</td>\n",
       "    </tr>\n",
       "    <tr>\n",
       "      <th>3</th>\n",
       "      <td>my dad point to liam and said when did david b...</td>\n",
       "      <td>neutral</td>\n",
       "    </tr>\n",
       "    <tr>\n",
       "      <th>4</th>\n",
       "      <td>probabl the first man to do year challeng chen...</td>\n",
       "      <td>negative</td>\n",
       "    </tr>\n",
       "  </tbody>\n",
       "</table>\n",
       "</div>"
      ],
      "text/plain": [
       "                                                text         target\n",
       "0  if you want to view paradis simpli look around...       positive\n",
       "1  if i had a brick for everi lie hillari told i ...       positive\n",
       "2               that thing over there can i eat that  very_positive\n",
       "3  my dad point to liam and said when did david b...        neutral\n",
       "4  probabl the first man to do year challeng chen...       negative"
      ]
     },
     "execution_count": 4,
     "metadata": {},
     "output_type": "execute_result"
    }
   ],
   "source": [
    "base.drop(columns=['image_name', 'humour', 'sarcasm','offensive','motivational'], inplace=True)\n",
    "base.head()"
   ]
  },
  {
   "cell_type": "markdown",
   "metadata": {},
   "source": [
    "#### Considerando somente as labels 'negative', 'neutral' e 'positive'."
   ]
  },
  {
   "cell_type": "code",
   "execution_count": 5,
   "metadata": {},
   "outputs": [
    {
     "data": {
      "text/html": [
       "<div>\n",
       "<style scoped>\n",
       "    .dataframe tbody tr th:only-of-type {\n",
       "        vertical-align: middle;\n",
       "    }\n",
       "\n",
       "    .dataframe tbody tr th {\n",
       "        vertical-align: top;\n",
       "    }\n",
       "\n",
       "    .dataframe thead th {\n",
       "        text-align: right;\n",
       "    }\n",
       "</style>\n",
       "<table border=\"1\" class=\"dataframe\">\n",
       "  <thead>\n",
       "    <tr style=\"text-align: right;\">\n",
       "      <th></th>\n",
       "      <th>text</th>\n",
       "      <th>target</th>\n",
       "    </tr>\n",
       "  </thead>\n",
       "  <tbody>\n",
       "    <tr>\n",
       "      <th>0</th>\n",
       "      <td>if you want to view paradis simpli look around...</td>\n",
       "      <td>2</td>\n",
       "    </tr>\n",
       "    <tr>\n",
       "      <th>1</th>\n",
       "      <td>if i had a brick for everi lie hillari told i ...</td>\n",
       "      <td>2</td>\n",
       "    </tr>\n",
       "    <tr>\n",
       "      <th>2</th>\n",
       "      <td>that thing over there can i eat that</td>\n",
       "      <td>2</td>\n",
       "    </tr>\n",
       "    <tr>\n",
       "      <th>3</th>\n",
       "      <td>my dad point to liam and said when did david b...</td>\n",
       "      <td>1</td>\n",
       "    </tr>\n",
       "    <tr>\n",
       "      <th>4</th>\n",
       "      <td>probabl the first man to do year challeng chen...</td>\n",
       "      <td>0</td>\n",
       "    </tr>\n",
       "  </tbody>\n",
       "</table>\n",
       "</div>"
      ],
      "text/plain": [
       "                                                text  target\n",
       "0  if you want to view paradis simpli look around...       2\n",
       "1  if i had a brick for everi lie hillari told i ...       2\n",
       "2               that thing over there can i eat that       2\n",
       "3  my dad point to liam and said when did david b...       1\n",
       "4  probabl the first man to do year challeng chen...       0"
      ]
     },
     "execution_count": 5,
     "metadata": {},
     "output_type": "execute_result"
    }
   ],
   "source": [
    "base.target.replace(\"very_positive\", \n",
    "           \"positive\", \n",
    "           inplace=True)\n",
    "base.target.replace(\"very_negative\", \n",
    "           \"negative\", \n",
    "           inplace=True)    \n",
    "NUM_LABELS = len(base.target.unique())\n",
    "base.target = base.target.astype('category').cat.codes\n",
    "\n",
    "base.head()"
   ]
  },
  {
   "cell_type": "code",
   "execution_count": 6,
   "metadata": {},
   "outputs": [
    {
     "name": "stdout",
     "output_type": "stream",
     "text": [
      "(4362, 2) (1091, 2)\n"
     ]
    }
   ],
   "source": [
    "train, val = train_test_split(base, test_size=0.2, random_state=SEED)\n",
    "print(train.shape, val.shape)"
   ]
  },
  {
   "cell_type": "code",
   "execution_count": 7,
   "metadata": {},
   "outputs": [],
   "source": [
    "dataset_train = Dataset.from_pandas(train, preserve_index=False)\n",
    "dataset_val = Dataset.from_pandas(val, preserve_index=False)"
   ]
  },
  {
   "cell_type": "code",
   "execution_count": 145,
   "metadata": {},
   "outputs": [
    {
     "data": {
      "text/plain": [
       "Dataset({\n",
       "    features: ['text', 'target'],\n",
       "    num_rows: 4362\n",
       "})"
      ]
     },
     "execution_count": 145,
     "metadata": {},
     "output_type": "execute_result"
    }
   ],
   "source": [
    "dataset_train"
   ]
  },
  {
   "cell_type": "code",
   "execution_count": 146,
   "metadata": {},
   "outputs": [
    {
     "data": {
      "text/plain": [
       "Dataset({\n",
       "    features: ['text', 'target'],\n",
       "    num_rows: 1091\n",
       "})"
      ]
     },
     "execution_count": 146,
     "metadata": {},
     "output_type": "execute_result"
    }
   ],
   "source": [
    "dataset_val"
   ]
  },
  {
   "cell_type": "markdown",
   "metadata": {},
   "source": [
    "# Utilização dos transformers"
   ]
  },
  {
   "cell_type": "code",
   "execution_count": 147,
   "metadata": {},
   "outputs": [],
   "source": [
    "model_name = \"bert-base-uncased\"\n",
    "tokenizer = AutoTokenizer.from_pretrained(model_name)"
   ]
  },
  {
   "cell_type": "code",
   "execution_count": 148,
   "metadata": {},
   "outputs": [
    {
     "data": {
      "application/vnd.jupyter.widget-view+json": {
       "model_id": "dd870e1af37f4b0b873f0aa27dd17117",
       "version_major": 2,
       "version_minor": 0
      },
      "text/plain": [
       "  0%|          | 0/4362 [00:00<?, ?ex/s]"
      ]
     },
     "metadata": {},
     "output_type": "display_data"
    },
    {
     "data": {
      "application/vnd.jupyter.widget-view+json": {
       "model_id": "6bcb08e062ae4c42abb2cf60ba671fba",
       "version_major": 2,
       "version_minor": 0
      },
      "text/plain": [
       "  0%|          | 0/1091 [00:00<?, ?ex/s]"
      ]
     },
     "metadata": {},
     "output_type": "display_data"
    }
   ],
   "source": [
    "def tokenize_function(sample):\n",
    "  return tokenizer(sample[\"text\"])\n",
    "\n",
    "tokenized_dataset_train = dataset_train.map(tokenize_function)\n",
    "tokenized_dataset_val = dataset_val.map(tokenize_function)"
   ]
  },
  {
   "cell_type": "code",
   "execution_count": 149,
   "metadata": {},
   "outputs": [
    {
     "data": {
      "text/plain": [
       "Dataset({\n",
       "    features: ['text', 'target', 'input_ids', 'token_type_ids', 'attention_mask'],\n",
       "    num_rows: 4362\n",
       "})"
      ]
     },
     "execution_count": 149,
     "metadata": {},
     "output_type": "execute_result"
    }
   ],
   "source": [
    "tokenized_dataset_train"
   ]
  },
  {
   "cell_type": "code",
   "execution_count": 150,
   "metadata": {},
   "outputs": [
    {
     "data": {
      "text/plain": [
       "Dataset({\n",
       "    features: ['text', 'target', 'input_ids', 'token_type_ids', 'attention_mask'],\n",
       "    num_rows: 1091\n",
       "})"
      ]
     },
     "execution_count": 150,
     "metadata": {},
     "output_type": "execute_result"
    }
   ],
   "source": [
    "tokenized_dataset_val"
   ]
  },
  {
   "cell_type": "code",
   "execution_count": 151,
   "metadata": {},
   "outputs": [],
   "source": [
    "data_collator = DataCollatorWithPadding(tokenizer=tokenizer, return_tensors=\"tf\")"
   ]
  },
  {
   "cell_type": "code",
   "execution_count": 152,
   "metadata": {},
   "outputs": [],
   "source": [
    "tf_train_dataset = tokenized_dataset_train.to_tf_dataset(\n",
    "    columns=[\"attention_mask\", \"input_ids\", \"token_type_ids\"],\n",
    "    label_cols=[\"target\"],\n",
    "    shuffle=True,\n",
    "    collate_fn=data_collator,\n",
    "    batch_size=8,\n",
    ")"
   ]
  },
  {
   "cell_type": "code",
   "execution_count": 153,
   "metadata": {},
   "outputs": [],
   "source": [
    "tf_val_dataset = tokenized_dataset_val.to_tf_dataset(\n",
    "    columns=[\"attention_mask\", \"input_ids\", \"token_type_ids\"],\n",
    "    label_cols=[\"target\"],\n",
    "    shuffle=False,\n",
    "    collate_fn=data_collator,\n",
    "    batch_size=8,\n",
    ")"
   ]
  },
  {
   "cell_type": "code",
   "execution_count": 154,
   "metadata": {},
   "outputs": [
    {
     "name": "stderr",
     "output_type": "stream",
     "text": [
      "All model checkpoint layers were used when initializing TFBertForSequenceClassification.\n",
      "\n",
      "Some layers of TFBertForSequenceClassification were not initialized from the model checkpoint at bert-base-uncased and are newly initialized: ['classifier']\n",
      "You should probably TRAIN this model on a down-stream task to be able to use it for predictions and inference.\n"
     ]
    }
   ],
   "source": [
    "model = TFAutoModelForSequenceClassification.from_pretrained(model_name, num_labels=NUM_LABELS)"
   ]
  },
  {
   "cell_type": "code",
   "execution_count": 13,
   "metadata": {},
   "outputs": [],
   "source": [
    "class BalancedSparseCategoricalAccuracy(keras.metrics.SparseCategoricalAccuracy):\n",
    "    def __init__(self, name='balanced_sparse_categorical_accuracy', dtype=None):\n",
    "        super().__init__(name, dtype=dtype)\n",
    "\n",
    "    def update_state(self, y_true, y_pred, sample_weight=None):\n",
    "        y_flat = y_true\n",
    "        if y_true.shape.ndims == y_pred.shape.ndims:\n",
    "            y_flat = tf.squeeze(y_flat, axis=[-1])\n",
    "        y_true_int = tf.cast(y_flat, tf.int32)\n",
    "\n",
    "        cls_counts = tf.math.bincount(y_true_int)\n",
    "        cls_counts = tf.math.reciprocal_no_nan(tf.cast(cls_counts, self.dtype))\n",
    "        weight = tf.gather(cls_counts, y_true_int)\n",
    "        return super().update_state(y_true, y_pred, sample_weight=weight)"
   ]
  },
  {
   "cell_type": "code",
   "execution_count": 156,
   "metadata": {},
   "outputs": [
    {
     "name": "stdout",
     "output_type": "stream",
     "text": [
      "Model: \"tf_bert_for_sequence_classification_5\"\n",
      "_________________________________________________________________\n",
      " Layer (type)                Output Shape              Param #   \n",
      "=================================================================\n",
      " bert (TFBertMainLayer)      multiple                  109482240 \n",
      "                                                                 \n",
      " dropout_227 (Dropout)       multiple                  0         \n",
      "                                                                 \n",
      " classifier (Dense)          multiple                  2307      \n",
      "                                                                 \n",
      "=================================================================\n",
      "Total params: 109,484,547\n",
      "Trainable params: 109,484,547\n",
      "Non-trainable params: 0\n",
      "_________________________________________________________________\n"
     ]
    }
   ],
   "source": [
    "opt = tf.keras.optimizers.Adam(learning_rate=1e-5)\n",
    "\n",
    "model.compile(\n",
    "    optimizer=opt,\n",
    "    loss=tf.keras.losses.SparseCategoricalCrossentropy(from_logits=True),\n",
    "    metrics=[BalancedSparseCategoricalAccuracy()]\n",
    ")\n",
    "model.summary()"
   ]
  },
  {
   "cell_type": "code",
   "execution_count": 157,
   "metadata": {},
   "outputs": [
    {
     "data": {
      "text/plain": [
       "{0: 3.5901234567901232, 1: 1.0699043414275202, 2: 0.5596612779060816}"
      ]
     },
     "execution_count": 157,
     "metadata": {},
     "output_type": "execute_result"
    }
   ],
   "source": [
    "weights = class_weight.compute_class_weight(class_weight='balanced', classes = np.unique(train.target) ,y = train.target).ravel()\n",
    "class_weights = dict((i,v) for i, v in enumerate(weights))\n",
    "class_weights"
   ]
  },
  {
   "cell_type": "code",
   "execution_count": 158,
   "metadata": {},
   "outputs": [
    {
     "name": "stdout",
     "output_type": "stream",
     "text": [
      "Epoch 1/10\n",
      "546/546 [==============================] - 1087s 2s/step - loss: 1.1087 - balanced_sparse_categorical_accuracy: 0.3387 - val_loss: 1.0852 - val_balanced_sparse_categorical_accuracy: 0.3500\n",
      "Epoch 2/10\n",
      "546/546 [==============================] - 1114s 2s/step - loss: 1.0885 - balanced_sparse_categorical_accuracy: 0.3791 - val_loss: 1.1292 - val_balanced_sparse_categorical_accuracy: 0.3089\n",
      "Epoch 3/10\n",
      "546/546 [==============================] - 1117s 2s/step - loss: 1.0253 - balanced_sparse_categorical_accuracy: 0.4424 - val_loss: 1.1493 - val_balanced_sparse_categorical_accuracy: 0.3112\n",
      "Epoch 4/10\n",
      "546/546 [==============================] - 1080s 2s/step - loss: 0.8227 - balanced_sparse_categorical_accuracy: 0.5835 - val_loss: 1.0161 - val_balanced_sparse_categorical_accuracy: 0.3447\n",
      "Epoch 5/10\n",
      "546/546 [==============================] - 1081s 2s/step - loss: 0.5737 - balanced_sparse_categorical_accuracy: 0.7169 - val_loss: 1.2015 - val_balanced_sparse_categorical_accuracy: 0.3475\n",
      "Epoch 6/10\n",
      "546/546 [==============================] - 1072s 2s/step - loss: 0.4310 - balanced_sparse_categorical_accuracy: 0.7854 - val_loss: 1.3925 - val_balanced_sparse_categorical_accuracy: 0.3452\n",
      "Epoch 7/10\n",
      "546/546 [==============================] - 1073s 2s/step - loss: 0.2911 - balanced_sparse_categorical_accuracy: 0.8628 - val_loss: 1.5615 - val_balanced_sparse_categorical_accuracy: 0.3461\n",
      "Epoch 8/10\n",
      "546/546 [==============================] - 1072s 2s/step - loss: 0.2072 - balanced_sparse_categorical_accuracy: 0.9134 - val_loss: 1.7661 - val_balanced_sparse_categorical_accuracy: 0.3557\n",
      "Epoch 9/10\n",
      "546/546 [==============================] - 1070s 2s/step - loss: 0.1497 - balanced_sparse_categorical_accuracy: 0.9416 - val_loss: 1.9509 - val_balanced_sparse_categorical_accuracy: 0.3556\n",
      "Epoch 10/10\n",
      "546/546 [==============================] - 1069s 2s/step - loss: 0.1122 - balanced_sparse_categorical_accuracy: 0.9590 - val_loss: 2.0996 - val_balanced_sparse_categorical_accuracy: 0.3616\n"
     ]
    },
    {
     "data": {
      "text/plain": [
       "<keras.callbacks.History at 0x235463c64e0>"
      ]
     },
     "execution_count": 158,
     "metadata": {},
     "output_type": "execute_result"
    }
   ],
   "source": [
    "model.fit(tf_train_dataset, validation_data=tf_val_dataset, epochs=10, class_weight = class_weights)"
   ]
  },
  {
   "cell_type": "code",
   "execution_count": 159,
   "metadata": {},
   "outputs": [
    {
     "name": "stdout",
     "output_type": "stream",
     "text": [
      "137/137 [==============================] - 85s 596ms/step\n"
     ]
    },
    {
     "data": {
      "text/plain": [
       "TFSequenceClassifierOutput(loss=None, logits=array([[-1.9628214 , -2.2423775 ,  3.4195797 ],\n",
       "       [-3.9515567 ,  0.67654884,  2.9428566 ],\n",
       "       [-3.4571269 ,  2.5008001 ,  1.1239804 ],\n",
       "       ...,\n",
       "       [-4.013348  ,  3.6279957 ,  0.74270785],\n",
       "       [-3.51136   ,  1.8514698 ,  1.7262945 ],\n",
       "       [-3.2769241 ,  0.7124794 ,  2.3186903 ]], dtype=float32), hidden_states=None, attentions=None)"
      ]
     },
     "execution_count": 159,
     "metadata": {},
     "output_type": "execute_result"
    }
   ],
   "source": [
    "preds = model.predict(tf_val_dataset, verbose=1)\n",
    "preds"
   ]
  },
  {
   "cell_type": "code",
   "execution_count": 167,
   "metadata": {},
   "outputs": [
    {
     "name": "stdout",
     "output_type": "stream",
     "text": [
      "137/137 [==============================] - 85s 621ms/step - loss: 2.0996 - balanced_sparse_categorical_accuracy: 0.3616\n",
      "Loss: 2.0996181964874268\n",
      "Accuracy: 0.3615765869617462\n"
     ]
    }
   ],
   "source": [
    "loss, accuracy = model.evaluate(tf_val_dataset)\n",
    "\n",
    "print(f'Loss: {loss}')\n",
    "print(f'Accuracy: {accuracy}')"
   ]
  },
  {
   "cell_type": "code",
   "execution_count": 168,
   "metadata": {},
   "outputs": [
    {
     "name": "stdout",
     "output_type": "stream",
     "text": [
      "546/546 [==============================] - 317s 581ms/step - loss: 0.0818 - balanced_sparse_categorical_accuracy: 0.9841\n",
      "Loss: 0.08179384469985962\n",
      "Accuracy: 0.984078049659729\n"
     ]
    }
   ],
   "source": [
    "loss, accuracy = model.evaluate(tf_train_dataset)\n",
    "\n",
    "print(f'Loss: {loss}')\n",
    "print(f'Accuracy: {accuracy}')"
   ]
  },
  {
   "cell_type": "code",
   "execution_count": 160,
   "metadata": {},
   "outputs": [
    {
     "data": {
      "text/plain": [
       "array([[-1.9628214 , -2.2423775 ,  3.4195797 ],\n",
       "       [-3.9515567 ,  0.67654884,  2.9428566 ],\n",
       "       [-3.4571269 ,  2.5008001 ,  1.1239804 ],\n",
       "       ...,\n",
       "       [-4.013348  ,  3.6279957 ,  0.74270785],\n",
       "       [-3.51136   ,  1.8514698 ,  1.7262945 ],\n",
       "       [-3.2769241 ,  0.7124794 ,  2.3186903 ]], dtype=float32)"
      ]
     },
     "execution_count": 160,
     "metadata": {},
     "output_type": "execute_result"
    }
   ],
   "source": [
    "preds['logits']"
   ]
  },
  {
   "cell_type": "code",
   "execution_count": 161,
   "metadata": {},
   "outputs": [
    {
     "data": {
      "text/plain": [
       "array([[4.5599621e-03, 3.4478747e-03, 9.9199218e-01],\n",
       "       [9.1737544e-04, 9.3865857e-02, 9.0521681e-01],\n",
       "       [2.0600301e-03, 7.9683483e-01, 2.0110512e-01],\n",
       "       ...,\n",
       "       [4.5458114e-04, 9.4668382e-01, 5.2861612e-02],\n",
       "       [2.4841274e-03, 5.2993333e-01, 4.6758258e-01],\n",
       "       [3.0838910e-03, 1.6659997e-01, 8.3031619e-01]], dtype=float32)"
      ]
     },
     "execution_count": 161,
     "metadata": {},
     "output_type": "execute_result"
    }
   ],
   "source": [
    "tf.nn.softmax(preds['logits']).numpy()"
   ]
  },
  {
   "cell_type": "markdown",
   "metadata": {},
   "source": [
    "# Salvando o modelo"
   ]
  },
  {
   "cell_type": "code",
   "execution_count": 162,
   "metadata": {},
   "outputs": [],
   "source": [
    "#model.save_weights(PATH_TO_WEIGHTS + model_name + '.hdf5')\n",
    "#model.save_pretrained(PATH_TO_MODELS + model_name)"
   ]
  },
  {
   "cell_type": "markdown",
   "metadata": {},
   "source": [
    "# Validação com a acurácia balanceada!"
   ]
  },
  {
   "cell_type": "code",
   "execution_count": 8,
   "metadata": {},
   "outputs": [],
   "source": [
    "model_name = \"bert-base-uncased\""
   ]
  },
  {
   "cell_type": "code",
   "execution_count": 9,
   "metadata": {},
   "outputs": [
    {
     "name": "stderr",
     "output_type": "stream",
     "text": [
      "All model checkpoint layers were used when initializing TFBertForSequenceClassification.\n",
      "\n",
      "Some layers of TFBertForSequenceClassification were not initialized from the model checkpoint at bert-base-uncased and are newly initialized: ['classifier']\n",
      "You should probably TRAIN this model on a down-stream task to be able to use it for predictions and inference.\n"
     ]
    }
   ],
   "source": [
    "tokenizer = AutoTokenizer.from_pretrained(model_name)\n",
    "model = TFAutoModelForSequenceClassification.from_pretrained(model_name, num_labels=3)\n",
    "model.load_weights(PATH_TO_WEIGHTS + model_name + '.hdf5')"
   ]
  },
  {
   "cell_type": "code",
   "execution_count": 10,
   "metadata": {},
   "outputs": [
    {
     "name": "stderr",
     "output_type": "stream",
     "text": [
      "Parameter 'function'=<function tokenize_function at 0x00000180122EB268> of the transform datasets.arrow_dataset.Dataset._map_single couldn't be hashed properly, a random hash was used instead. Make sure your transforms and parameters are serializable with pickle or dill for the dataset fingerprinting and caching to work. If you reuse this transform, the caching mechanism will consider it to be different from the previous calls and recompute everything. This warning is only showed once. Subsequent hashing failures won't be showed.\n"
     ]
    },
    {
     "data": {
      "application/vnd.jupyter.widget-view+json": {
       "model_id": "3467eb4aea77464b843a743dcc4f0a15",
       "version_major": 2,
       "version_minor": 0
      },
      "text/plain": [
       "  0%|          | 0/1091 [00:00<?, ?ex/s]"
      ]
     },
     "metadata": {},
     "output_type": "display_data"
    }
   ],
   "source": [
    "def tokenize_function(sample):\n",
    "  return tokenizer(sample[\"text\"])\n",
    "\n",
    "dataset_val = Dataset.from_pandas(val, preserve_index=False)\n",
    "tokenized_dataset_val = dataset_val.map(tokenize_function)"
   ]
  },
  {
   "cell_type": "code",
   "execution_count": 11,
   "metadata": {},
   "outputs": [],
   "source": [
    "data_collator = DataCollatorWithPadding(tokenizer=tokenizer, return_tensors=\"tf\")\n",
    "tf_val_dataset = tokenized_dataset_val.to_tf_dataset(\n",
    "    columns=[\"attention_mask\", \"input_ids\", \"token_type_ids\"],\n",
    "    label_cols=[\"target\"],\n",
    "    shuffle=False,\n",
    "    collate_fn=data_collator,\n",
    "    batch_size=8,\n",
    ")"
   ]
  },
  {
   "cell_type": "code",
   "execution_count": 14,
   "metadata": {},
   "outputs": [],
   "source": [
    "model.compile(\n",
    "    loss=tf.keras.losses.SparseCategoricalCrossentropy(from_logits=True),\n",
    "    metrics=[BalancedSparseCategoricalAccuracy()]\n",
    ")"
   ]
  },
  {
   "cell_type": "code",
   "execution_count": 15,
   "metadata": {},
   "outputs": [
    {
     "data": {
      "text/plain": [
       "TFSequenceClassifierOutput(loss=None, logits=array([[-1.9628214 , -2.2423775 ,  3.4195797 ],\n",
       "       [-3.9515567 ,  0.67654884,  2.9428566 ],\n",
       "       [-3.4571269 ,  2.5008001 ,  1.1239804 ],\n",
       "       ...,\n",
       "       [-4.013348  ,  3.6279957 ,  0.74270785],\n",
       "       [-3.51136   ,  1.8514698 ,  1.7262945 ],\n",
       "       [-3.2769241 ,  0.7124794 ,  2.3186903 ]], dtype=float32), hidden_states=None, attentions=None)"
      ]
     },
     "execution_count": 15,
     "metadata": {},
     "output_type": "execute_result"
    }
   ],
   "source": [
    "preds = model.predict(tf_val_dataset, verbose=3)\n",
    "preds"
   ]
  },
  {
   "cell_type": "code",
   "execution_count": 16,
   "metadata": {},
   "outputs": [],
   "source": [
    "prob = tf.nn.softmax(preds['logits']).numpy()\n",
    "y_pred = np.argmax(prob, axis=1)"
   ]
  },
  {
   "cell_type": "code",
   "execution_count": 17,
   "metadata": {},
   "outputs": [
    {
     "name": "stdout",
     "output_type": "stream",
     "text": [
      "Val - balanced_accuracy :  0.313025820936663\n",
      "Val - F1 :  0.302142979279197\n"
     ]
    }
   ],
   "source": [
    "print(\"Val - balanced_accuracy : \", balanced_accuracy_score(val.target,  y_pred))\n",
    "print(\"Val - F1 : \", f1_score(val.target, y_pred, average='macro'))"
   ]
  },
  {
   "cell_type": "code",
   "execution_count": 18,
   "metadata": {},
   "outputs": [
    {
     "data": {
      "image/png": "[encoded data removed]",
      "text/plain": [
       "<Figure size 720x288 with 2 Axes>"
      ]
     },
     "metadata": {
      "needs_background": "light"
     },
     "output_type": "display_data"
    }
   ],
   "source": [
    "labels = ['negative', 'neutral', 'positive']\n",
    "cm = confusion_matrix(val.target, y_pred)\n",
    "cmn = cm.astype('float') / cm.sum(axis=1)[:, np.newaxis]\n",
    "cm_df = pd.DataFrame(cmn,\n",
    "                     index = labels, \n",
    "                     columns = labels\n",
    "                     )\n",
    "\n",
    "plt.figure(figsize=(10,4))\n",
    "sns.heatmap(cm_df, annot=True ,fmt='g')\n",
    "plt.title('Confusion Matrix')\n",
    "plt.ylabel('Actual Values')\n",
    "plt.xlabel('Predicted Values')\n",
    "plt.show()"
   ]
  }
 ],
 "metadata": {
  "kernelspec": {
   "display_name": "Python 3.7.0 64-bit",
   "language": "python",
   "name": "python3"
  },
  "language_info": {
   "codemirror_mode": {
    "name": "ipython",
    "version": 3
   },
   "file_extension": ".py",
   "mimetype": "text/x-python",
   "name": "python",
   "nbconvert_exporter": "python",
   "pygments_lexer": "ipython3",
   "version": "3.7.0"
  },
  "orig_nbformat": 4,
  "vscode": {
   "interpreter": {
    "hash": "f2487189b5835e73c5fa6cd7f2ed518f6fa1ff6c9bd8da44d17cb8ab10f576c2"
   }
  }
 },
 "nbformat": 4,
 "nbformat_minor": 2
}
