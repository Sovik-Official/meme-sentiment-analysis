{
 "cells": [
  {
   "cell_type": "code",
   "execution_count": 1,
   "metadata": {},
   "outputs": [],
   "source": [
    "import pandas as pd\n",
    "import numpy as np\n",
    "from sklearn.model_selection import train_test_split\n",
    "\n",
    "from transformers import TFAutoModelForSequenceClassification, AutoTokenizer, DataCollatorWithPadding\n",
    "import tensorflow as tf\n",
    "from sklearn.utils import class_weight \n",
    "import keras\n",
    "\n",
    "from sklearn.metrics import confusion_matrix\n",
    "from sklearn.metrics import balanced_accuracy_score\n",
    "from sklearn.metrics import f1_score\n",
    "\n",
    "import matplotlib.pyplot as plt\n",
    "import seaborn as sns\n",
    "\n",
    "import tensorflow_hub as hub\n",
    "from tensorflow.keras.utils import plot_model\n",
    "import tensorflow_text as text\n",
    "\n",
    "from sklearn import metrics\n",
    "\n",
    "import yaml\n",
    "\n",
    "from matplotlib import pyplot as plt\n",
    "\n",
    "import pydot"
   ]
  },
  {
   "cell_type": "code",
   "execution_count": 2,
   "metadata": {},
   "outputs": [],
   "source": [
    "with open(\"../../config.yaml\", \"r\") as stream:\n",
    "    try:\n",
    "        configs = yaml.safe_load(stream)\n",
    "    except yaml.YAMLError as exc:\n",
    "        print(exc)"
   ]
  },
  {
   "cell_type": "code",
   "execution_count": 38,
   "metadata": {},
   "outputs": [],
   "source": [
    "SEED  = configs['SEED']\n",
    "PATH_TO_TRAIN_DS_PROCESSED = str(configs['ROOT_DIR'] + configs['PATH_TO_TRAIN_DS_PROCESSED'])\n",
    "PATH_TO_IMAGES_MULTIMODAL  = str(configs['ROOT_DIR'] + configs['PATH_TO_IMAGES_MULTIMODAL'])\n",
    "PATH_TO_MODELS  = str(configs['ROOT_DIR'] + configs['PATH_TO_MODELS'])"
   ]
  },
  {
   "cell_type": "code",
   "execution_count": 4,
   "metadata": {},
   "outputs": [
    {
     "name": "stdout",
     "output_type": "stream",
     "text": [
      "(5453, 7)\n"
     ]
    },
    {
     "data": {
      "text/html": [
       "<div>\n",
       "<style scoped>\n",
       "    .dataframe tbody tr th:only-of-type {\n",
       "        vertical-align: middle;\n",
       "    }\n",
       "\n",
       "    .dataframe tbody tr th {\n",
       "        vertical-align: top;\n",
       "    }\n",
       "\n",
       "    .dataframe thead th {\n",
       "        text-align: right;\n",
       "    }\n",
       "</style>\n",
       "<table border=\"1\" class=\"dataframe\">\n",
       "  <thead>\n",
       "    <tr style=\"text-align: right;\">\n",
       "      <th></th>\n",
       "      <th>image_name</th>\n",
       "      <th>text</th>\n",
       "      <th>humour</th>\n",
       "      <th>sarcasm</th>\n",
       "      <th>offensive</th>\n",
       "      <th>motivational</th>\n",
       "      <th>target</th>\n",
       "    </tr>\n",
       "  </thead>\n",
       "  <tbody>\n",
       "    <tr>\n",
       "      <th>0</th>\n",
       "      <td>image_1415.jpeg</td>\n",
       "      <td>if you want to view paradis simpli look around...</td>\n",
       "      <td>not_funny</td>\n",
       "      <td>not_sarcastic</td>\n",
       "      <td>not_offensive</td>\n",
       "      <td>motivational</td>\n",
       "      <td>positive</td>\n",
       "    </tr>\n",
       "    <tr>\n",
       "      <th>1</th>\n",
       "      <td>image_6460.png</td>\n",
       "      <td>if i had a brick for everi lie hillari told i ...</td>\n",
       "      <td>hilarious</td>\n",
       "      <td>general</td>\n",
       "      <td>very_offensive</td>\n",
       "      <td>motivational</td>\n",
       "      <td>positive</td>\n",
       "    </tr>\n",
       "    <tr>\n",
       "      <th>2</th>\n",
       "      <td>image_2303.png</td>\n",
       "      <td>that thing over there can i eat that</td>\n",
       "      <td>very_funny</td>\n",
       "      <td>general</td>\n",
       "      <td>not_offensive</td>\n",
       "      <td>motivational</td>\n",
       "      <td>very_positive</td>\n",
       "    </tr>\n",
       "    <tr>\n",
       "      <th>3</th>\n",
       "      <td>image_2417.png</td>\n",
       "      <td>my dad point to liam and said when did david b...</td>\n",
       "      <td>not_funny</td>\n",
       "      <td>general</td>\n",
       "      <td>very_offensive</td>\n",
       "      <td>motivational</td>\n",
       "      <td>neutral</td>\n",
       "    </tr>\n",
       "    <tr>\n",
       "      <th>4</th>\n",
       "      <td>image_11.jpg</td>\n",
       "      <td>probabl the first man to do year challeng chen...</td>\n",
       "      <td>funny</td>\n",
       "      <td>general</td>\n",
       "      <td>very_offensive</td>\n",
       "      <td>motivational</td>\n",
       "      <td>negative</td>\n",
       "    </tr>\n",
       "  </tbody>\n",
       "</table>\n",
       "</div>"
      ],
      "text/plain": [
       "        image_name                                               text  \\\n",
       "0  image_1415.jpeg  if you want to view paradis simpli look around...   \n",
       "1   image_6460.png  if i had a brick for everi lie hillari told i ...   \n",
       "2   image_2303.png               that thing over there can i eat that   \n",
       "3   image_2417.png  my dad point to liam and said when did david b...   \n",
       "4     image_11.jpg  probabl the first man to do year challeng chen...   \n",
       "\n",
       "       humour        sarcasm       offensive  motivational         target  \n",
       "0   not_funny  not_sarcastic   not_offensive  motivational       positive  \n",
       "1   hilarious        general  very_offensive  motivational       positive  \n",
       "2  very_funny        general   not_offensive  motivational  very_positive  \n",
       "3   not_funny        general  very_offensive  motivational        neutral  \n",
       "4       funny        general  very_offensive  motivational       negative  "
      ]
     },
     "execution_count": 4,
     "metadata": {},
     "output_type": "execute_result"
    }
   ],
   "source": [
    "base = pd.read_csv(PATH_TO_TRAIN_DS_PROCESSED)\n",
    "print(base.shape)\n",
    "base.head()"
   ]
  },
  {
   "cell_type": "code",
   "execution_count": 5,
   "metadata": {},
   "outputs": [
    {
     "name": "stdout",
     "output_type": "stream",
     "text": [
      "(5453, 7)\n"
     ]
    },
    {
     "data": {
      "text/html": [
       "<div>\n",
       "<style scoped>\n",
       "    .dataframe tbody tr th:only-of-type {\n",
       "        vertical-align: middle;\n",
       "    }\n",
       "\n",
       "    .dataframe tbody tr th {\n",
       "        vertical-align: top;\n",
       "    }\n",
       "\n",
       "    .dataframe thead th {\n",
       "        text-align: right;\n",
       "    }\n",
       "</style>\n",
       "<table border=\"1\" class=\"dataframe\">\n",
       "  <thead>\n",
       "    <tr style=\"text-align: right;\">\n",
       "      <th></th>\n",
       "      <th>image_name</th>\n",
       "      <th>text</th>\n",
       "      <th>humour</th>\n",
       "      <th>sarcasm</th>\n",
       "      <th>offensive</th>\n",
       "      <th>motivational</th>\n",
       "      <th>target</th>\n",
       "    </tr>\n",
       "  </thead>\n",
       "  <tbody>\n",
       "    <tr>\n",
       "      <th>0</th>\n",
       "      <td>image_1415.jpeg</td>\n",
       "      <td>if you want to view paradis simpli look around...</td>\n",
       "      <td>not_funny</td>\n",
       "      <td>not_sarcastic</td>\n",
       "      <td>not_offensive</td>\n",
       "      <td>motivational</td>\n",
       "      <td>positive</td>\n",
       "    </tr>\n",
       "    <tr>\n",
       "      <th>1</th>\n",
       "      <td>image_6460.png</td>\n",
       "      <td>if i had a brick for everi lie hillari told i ...</td>\n",
       "      <td>hilarious</td>\n",
       "      <td>general</td>\n",
       "      <td>very_offensive</td>\n",
       "      <td>motivational</td>\n",
       "      <td>positive</td>\n",
       "    </tr>\n",
       "    <tr>\n",
       "      <th>2</th>\n",
       "      <td>image_2303.png</td>\n",
       "      <td>that thing over there can i eat that</td>\n",
       "      <td>very_funny</td>\n",
       "      <td>general</td>\n",
       "      <td>not_offensive</td>\n",
       "      <td>motivational</td>\n",
       "      <td>very_positive</td>\n",
       "    </tr>\n",
       "    <tr>\n",
       "      <th>3</th>\n",
       "      <td>image_2417.png</td>\n",
       "      <td>my dad point to liam and said when did david b...</td>\n",
       "      <td>not_funny</td>\n",
       "      <td>general</td>\n",
       "      <td>very_offensive</td>\n",
       "      <td>motivational</td>\n",
       "      <td>neutral</td>\n",
       "    </tr>\n",
       "    <tr>\n",
       "      <th>4</th>\n",
       "      <td>image_11.jpeg</td>\n",
       "      <td>probabl the first man to do year challeng chen...</td>\n",
       "      <td>funny</td>\n",
       "      <td>general</td>\n",
       "      <td>very_offensive</td>\n",
       "      <td>motivational</td>\n",
       "      <td>negative</td>\n",
       "    </tr>\n",
       "  </tbody>\n",
       "</table>\n",
       "</div>"
      ],
      "text/plain": [
       "        image_name                                               text  \\\n",
       "0  image_1415.jpeg  if you want to view paradis simpli look around...   \n",
       "1   image_6460.png  if i had a brick for everi lie hillari told i ...   \n",
       "2   image_2303.png               that thing over there can i eat that   \n",
       "3   image_2417.png  my dad point to liam and said when did david b...   \n",
       "4    image_11.jpeg  probabl the first man to do year challeng chen...   \n",
       "\n",
       "       humour        sarcasm       offensive  motivational         target  \n",
       "0   not_funny  not_sarcastic   not_offensive  motivational       positive  \n",
       "1   hilarious        general  very_offensive  motivational       positive  \n",
       "2  very_funny        general   not_offensive  motivational  very_positive  \n",
       "3   not_funny        general  very_offensive  motivational        neutral  \n",
       "4       funny        general  very_offensive  motivational       negative  "
      ]
     },
     "execution_count": 5,
     "metadata": {},
     "output_type": "execute_result"
    }
   ],
   "source": [
    "#I don't know why, but we have to convert all images from jpg/JPG to jpeg or png. I've choice jpeg :D\n",
    "base.image_name = base.image_name.map(lambda x : x.replace('.jpg', '.jpeg').replace('.JPG','.jpeg'))\n",
    "print(base.shape)\n",
    "base.head()"
   ]
  },
  {
   "cell_type": "code",
   "execution_count": 6,
   "metadata": {},
   "outputs": [
    {
     "data": {
      "text/html": [
       "<div>\n",
       "<style scoped>\n",
       "    .dataframe tbody tr th:only-of-type {\n",
       "        vertical-align: middle;\n",
       "    }\n",
       "\n",
       "    .dataframe tbody tr th {\n",
       "        vertical-align: top;\n",
       "    }\n",
       "\n",
       "    .dataframe thead th {\n",
       "        text-align: right;\n",
       "    }\n",
       "</style>\n",
       "<table border=\"1\" class=\"dataframe\">\n",
       "  <thead>\n",
       "    <tr style=\"text-align: right;\">\n",
       "      <th></th>\n",
       "      <th>image_path</th>\n",
       "      <th>text</th>\n",
       "      <th>target</th>\n",
       "    </tr>\n",
       "  </thead>\n",
       "  <tbody>\n",
       "    <tr>\n",
       "      <th>0</th>\n",
       "      <td>B:\\utils\\Documentos\\MDC\\projeto_final\\meme-sen...</td>\n",
       "      <td>if you want to view paradis simpli look around...</td>\n",
       "      <td>positive</td>\n",
       "    </tr>\n",
       "    <tr>\n",
       "      <th>1</th>\n",
       "      <td>B:\\utils\\Documentos\\MDC\\projeto_final\\meme-sen...</td>\n",
       "      <td>if i had a brick for everi lie hillari told i ...</td>\n",
       "      <td>positive</td>\n",
       "    </tr>\n",
       "    <tr>\n",
       "      <th>2</th>\n",
       "      <td>B:\\utils\\Documentos\\MDC\\projeto_final\\meme-sen...</td>\n",
       "      <td>that thing over there can i eat that</td>\n",
       "      <td>very_positive</td>\n",
       "    </tr>\n",
       "    <tr>\n",
       "      <th>3</th>\n",
       "      <td>B:\\utils\\Documentos\\MDC\\projeto_final\\meme-sen...</td>\n",
       "      <td>my dad point to liam and said when did david b...</td>\n",
       "      <td>neutral</td>\n",
       "    </tr>\n",
       "    <tr>\n",
       "      <th>4</th>\n",
       "      <td>B:\\utils\\Documentos\\MDC\\projeto_final\\meme-sen...</td>\n",
       "      <td>probabl the first man to do year challeng chen...</td>\n",
       "      <td>negative</td>\n",
       "    </tr>\n",
       "  </tbody>\n",
       "</table>\n",
       "</div>"
      ],
      "text/plain": [
       "                                          image_path  \\\n",
       "0  B:\\utils\\Documentos\\MDC\\projeto_final\\meme-sen...   \n",
       "1  B:\\utils\\Documentos\\MDC\\projeto_final\\meme-sen...   \n",
       "2  B:\\utils\\Documentos\\MDC\\projeto_final\\meme-sen...   \n",
       "3  B:\\utils\\Documentos\\MDC\\projeto_final\\meme-sen...   \n",
       "4  B:\\utils\\Documentos\\MDC\\projeto_final\\meme-sen...   \n",
       "\n",
       "                                                text         target  \n",
       "0  if you want to view paradis simpli look around...       positive  \n",
       "1  if i had a brick for everi lie hillari told i ...       positive  \n",
       "2               that thing over there can i eat that  very_positive  \n",
       "3  my dad point to liam and said when did david b...        neutral  \n",
       "4  probabl the first man to do year challeng chen...       negative  "
      ]
     },
     "execution_count": 6,
     "metadata": {},
     "output_type": "execute_result"
    }
   ],
   "source": [
    "base['image_path'] = base.image_name.map(lambda x : PATH_TO_IMAGES_MULTIMODAL + x)\n",
    "base.drop(columns=['humour', 'sarcasm','offensive','motivational', 'image_name'], inplace=True)\n",
    "cols = base.columns.tolist()\n",
    "cols = cols[-1:] + cols[:-1]\n",
    "base = base[cols]\n",
    "base.head()"
   ]
  },
  {
   "cell_type": "markdown",
   "metadata": {},
   "source": [
    "#### Considerando somente as labels 'negative', 'neutral' e 'positive'."
   ]
  },
  {
   "cell_type": "code",
   "execution_count": 7,
   "metadata": {},
   "outputs": [
    {
     "data": {
      "text/html": [
       "<div>\n",
       "<style scoped>\n",
       "    .dataframe tbody tr th:only-of-type {\n",
       "        vertical-align: middle;\n",
       "    }\n",
       "\n",
       "    .dataframe tbody tr th {\n",
       "        vertical-align: top;\n",
       "    }\n",
       "\n",
       "    .dataframe thead th {\n",
       "        text-align: right;\n",
       "    }\n",
       "</style>\n",
       "<table border=\"1\" class=\"dataframe\">\n",
       "  <thead>\n",
       "    <tr style=\"text-align: right;\">\n",
       "      <th></th>\n",
       "      <th>image_path</th>\n",
       "      <th>text</th>\n",
       "      <th>target</th>\n",
       "    </tr>\n",
       "  </thead>\n",
       "  <tbody>\n",
       "    <tr>\n",
       "      <th>0</th>\n",
       "      <td>B:\\utils\\Documentos\\MDC\\projeto_final\\meme-sen...</td>\n",
       "      <td>if you want to view paradis simpli look around...</td>\n",
       "      <td>2</td>\n",
       "    </tr>\n",
       "    <tr>\n",
       "      <th>1</th>\n",
       "      <td>B:\\utils\\Documentos\\MDC\\projeto_final\\meme-sen...</td>\n",
       "      <td>if i had a brick for everi lie hillari told i ...</td>\n",
       "      <td>2</td>\n",
       "    </tr>\n",
       "    <tr>\n",
       "      <th>2</th>\n",
       "      <td>B:\\utils\\Documentos\\MDC\\projeto_final\\meme-sen...</td>\n",
       "      <td>that thing over there can i eat that</td>\n",
       "      <td>2</td>\n",
       "    </tr>\n",
       "    <tr>\n",
       "      <th>3</th>\n",
       "      <td>B:\\utils\\Documentos\\MDC\\projeto_final\\meme-sen...</td>\n",
       "      <td>my dad point to liam and said when did david b...</td>\n",
       "      <td>1</td>\n",
       "    </tr>\n",
       "    <tr>\n",
       "      <th>4</th>\n",
       "      <td>B:\\utils\\Documentos\\MDC\\projeto_final\\meme-sen...</td>\n",
       "      <td>probabl the first man to do year challeng chen...</td>\n",
       "      <td>0</td>\n",
       "    </tr>\n",
       "  </tbody>\n",
       "</table>\n",
       "</div>"
      ],
      "text/plain": [
       "                                          image_path  \\\n",
       "0  B:\\utils\\Documentos\\MDC\\projeto_final\\meme-sen...   \n",
       "1  B:\\utils\\Documentos\\MDC\\projeto_final\\meme-sen...   \n",
       "2  B:\\utils\\Documentos\\MDC\\projeto_final\\meme-sen...   \n",
       "3  B:\\utils\\Documentos\\MDC\\projeto_final\\meme-sen...   \n",
       "4  B:\\utils\\Documentos\\MDC\\projeto_final\\meme-sen...   \n",
       "\n",
       "                                                text  target  \n",
       "0  if you want to view paradis simpli look around...       2  \n",
       "1  if i had a brick for everi lie hillari told i ...       2  \n",
       "2               that thing over there can i eat that       2  \n",
       "3  my dad point to liam and said when did david b...       1  \n",
       "4  probabl the first man to do year challeng chen...       0  "
      ]
     },
     "execution_count": 7,
     "metadata": {},
     "output_type": "execute_result"
    }
   ],
   "source": [
    "base.target.replace(\"very_positive\", \n",
    "           \"positive\", \n",
    "           inplace=True)\n",
    "base.target.replace(\"very_negative\", \n",
    "           \"negative\", \n",
    "           inplace=True)    \n",
    "NUM_LABELS = len(base.target.unique())\n",
    "base.target = base.target.astype('category').cat.codes\n",
    "\n",
    "base.head()"
   ]
  },
  {
   "cell_type": "code",
   "execution_count": 8,
   "metadata": {},
   "outputs": [
    {
     "name": "stdout",
     "output_type": "stream",
     "text": [
      "(4362, 3) (1091, 3)\n"
     ]
    }
   ],
   "source": [
    "train_df, val_df = train_test_split(base, test_size=0.2, random_state=SEED)\n",
    "print(train_df.shape, val_df.shape)"
   ]
  },
  {
   "cell_type": "code",
   "execution_count": 9,
   "metadata": {},
   "outputs": [
    {
     "data": {
      "text/plain": [
       "{0: 3.5901234567901232, 1: 1.0699043414275202, 2: 0.5596612779060816}"
      ]
     },
     "execution_count": 9,
     "metadata": {},
     "output_type": "execute_result"
    }
   ],
   "source": [
    "weights = class_weight.compute_class_weight(class_weight='balanced', classes = np.unique(train_df.target) ,y = train_df.target).ravel()\n",
    "class_weights = dict((i,v) for i, v in enumerate(weights))\n",
    "class_weights"
   ]
  },
  {
   "cell_type": "markdown",
   "metadata": {},
   "source": [
    "# Multimodal"
   ]
  },
  {
   "cell_type": "code",
   "execution_count": 42,
   "metadata": {},
   "outputs": [],
   "source": [
    "model_name = \"multimodal\""
   ]
  },
  {
   "cell_type": "code",
   "execution_count": 10,
   "metadata": {},
   "outputs": [],
   "source": [
    "# Define TF Hub paths to the BERT encoder and its preprocessor\n",
    "bert_model_path = (\n",
    "    \"https://tfhub.dev/tensorflow/small_bert/bert_en_uncased_L-2_H-256_A-4/1\"\n",
    ")\n",
    "bert_preprocess_path = \"https://tfhub.dev/tensorflow/bert_en_uncased_preprocess/3\""
   ]
  },
  {
   "cell_type": "code",
   "execution_count": 11,
   "metadata": {},
   "outputs": [
    {
     "name": "stdout",
     "output_type": "stream",
     "text": [
      "You must install pydot (`pip install pydot`) and install graphviz (see instructions at https://graphviz.gitlab.io/download/) for plot_model/model_to_dot to work.\n"
     ]
    }
   ],
   "source": [
    "def make_bert_preprocessing_model(sentence_features, seq_length=100):\n",
    "    \"\"\"Returns Model mapping string features to BERT inputs.\n",
    "\n",
    "  Args:\n",
    "    sentence_features: A list with the names of string-valued features.\n",
    "    seq_length: An integer that defines the sequence length of BERT inputs.\n",
    "\n",
    "  Returns:\n",
    "    A Keras Model that can be called on a list or dict of string Tensors\n",
    "    (with the order or names, resp., given by sentence_features) and\n",
    "    returns a dict of tensors for input to BERT.\n",
    "  \"\"\"\n",
    "\n",
    "    input_segments = [\n",
    "        tf.keras.layers.Input(shape=(), dtype=tf.string, name=ft)\n",
    "        for ft in sentence_features\n",
    "    ]\n",
    "\n",
    "    # Tokenize the text to word pieces.\n",
    "    bert_preprocess = hub.load(bert_preprocess_path)\n",
    "    tokenizer = hub.KerasLayer(bert_preprocess.tokenize, name=\"tokenizer\")\n",
    "    segments = [tokenizer(s) for s in input_segments]\n",
    "\n",
    "    # Optional: Trim segments in a smart way to fit seq_length.\n",
    "    # Simple cases (like this example) can skip this step and let\n",
    "    # the next step apply a default truncation to approximately equal lengths.\n",
    "    truncated_segments = segments\n",
    "\n",
    "    # Pack inputs. The details (start/end token ids, dict of output tensors)\n",
    "    # are model-dependent, so this gets loaded from the SavedModel.\n",
    "    packer = hub.KerasLayer(\n",
    "        bert_preprocess.bert_pack_inputs,\n",
    "        arguments=dict(seq_length=seq_length),\n",
    "        name=\"packer\",\n",
    "    )\n",
    "    model_inputs = packer(truncated_segments)\n",
    "    return keras.Model(input_segments, model_inputs)\n",
    "\n",
    "\n",
    "bert_preprocess_model = make_bert_preprocessing_model([\"text\"])\n",
    "keras.utils.plot_model(bert_preprocess_model, show_shapes=True, show_dtype=True)"
   ]
  },
  {
   "cell_type": "code",
   "execution_count": 12,
   "metadata": {},
   "outputs": [],
   "source": [
    "def dataframe_to_dataset(dataframe):\n",
    "    columns = [\"image_path\", \"text\", \"target\"]\n",
    "    dataframe = dataframe[columns].copy()\n",
    "    labels = dataframe.pop(\"target\")\n",
    "    ds = tf.data.Dataset.from_tensor_slices((dict(dataframe), labels))\n",
    "    ds = ds.shuffle(buffer_size=len(dataframe))\n",
    "    return ds"
   ]
  },
  {
   "cell_type": "code",
   "execution_count": 13,
   "metadata": {},
   "outputs": [],
   "source": [
    "resize = (100, 100)\n",
    "bert_input_features = [\"input_word_ids\", \"input_type_ids\", \"input_mask\"]\n",
    "\n",
    "def preprocess_image(image_path):\n",
    "    extension = tf.strings.split(image_path)[-1]\n",
    "\n",
    "    image = tf.io.read_file(image_path)\n",
    "    if extension == b\"jpg\":\n",
    "        image = tf.image.decode_jpeg(image, 3)\n",
    "    else:\n",
    "        image = tf.image.decode_png(image, 3)\n",
    "    image = tf.image.resize(image, resize)\n",
    "    return image\n",
    "\n",
    "\n",
    "def preprocess_text(text):\n",
    "    text = tf.convert_to_tensor([text])\n",
    "    output = bert_preprocess_model([text])\n",
    "    output = {feature: tf.squeeze(output[feature]) for feature in bert_input_features}\n",
    "    return output\n",
    "\n",
    "\n",
    "def preprocess_text_and_image(sample):\n",
    "    image = preprocess_image(sample[\"image_path\"])\n",
    "    text = preprocess_text(sample[\"text\"])\n",
    "    return {\"image_path\": image, \"text\": text}"
   ]
  },
  {
   "cell_type": "code",
   "execution_count": 14,
   "metadata": {},
   "outputs": [],
   "source": [
    "batch_size = 32\n",
    "auto = tf.data.AUTOTUNE\n",
    "\n",
    "\n",
    "def prepare_dataset(dataframe, training=True):\n",
    "    ds = dataframe_to_dataset(dataframe)\n",
    "    if training:\n",
    "        ds = ds.shuffle(len(train_df))\n",
    "    ds = ds.map(lambda x, y: (preprocess_text_and_image(x), y)).cache()\n",
    "    ds = ds.batch(batch_size).prefetch(auto)\n",
    "    return ds\n",
    "\n",
    "\n",
    "train_ds = prepare_dataset(train_df)\n",
    "validation_ds = prepare_dataset(val_df, False)\n",
    "#test_ds = prepare_dataset(test_df, False)"
   ]
  },
  {
   "cell_type": "code",
   "execution_count": 15,
   "metadata": {},
   "outputs": [],
   "source": [
    "def project_embeddings(\n",
    "    embeddings, num_projection_layers, projection_dims, dropout_rate\n",
    "):\n",
    "    projected_embeddings = keras.layers.Dense(units=projection_dims)(embeddings)\n",
    "    for _ in range(num_projection_layers):\n",
    "        x = tf.nn.gelu(projected_embeddings)\n",
    "        x = keras.layers.Dense(projection_dims)(x)\n",
    "        x = keras.layers.Dropout(dropout_rate)(x)\n",
    "        x = keras.layers.Add()([projected_embeddings, x])\n",
    "        projected_embeddings = keras.layers.LayerNormalization()(x)\n",
    "    return projected_embeddings"
   ]
  },
  {
   "cell_type": "code",
   "execution_count": 16,
   "metadata": {},
   "outputs": [],
   "source": [
    "def create_vision_encoder(\n",
    "    num_projection_layers, projection_dims, dropout_rate, trainable=False\n",
    "):\n",
    "    # Load the pre-trained ResNet50V2 model to be used as the base encoder.\n",
    "    efficientNet = keras.applications.EfficientNetV2B0(\n",
    "        include_top=False, weights=\"imagenet\", pooling=\"avg\"\n",
    "    )\n",
    "    # Set the trainability of the base encoder.\n",
    "    for layer in efficientNet.layers:\n",
    "        layer.trainable = trainable\n",
    "\n",
    "    # Receive the images as inputs.\n",
    "    image = keras.Input(shape=(100, 100, 3), name=\"image\")\n",
    "\n",
    "    # Preprocess the input image.\n",
    "    preprocessed = tf.keras.applications.efficientnet_v2.preprocess_input(image)\n",
    "\n",
    "    # Generate the embeddings for the images using the EfficientNetV2B0 model\n",
    "    # concatenate them.\n",
    "    embedding = efficientNet(preprocessed)\n",
    "    embeddings = keras.layers.Concatenate()([embedding])\n",
    "\n",
    "    # Project the embeddings produced by the model.\n",
    "    outputs = project_embeddings(\n",
    "        embeddings, num_projection_layers, projection_dims, dropout_rate\n",
    "    )\n",
    "    # Create the vision encoder model.\n",
    "    return keras.Model([image], outputs, name=\"vision_encoder\")"
   ]
  },
  {
   "cell_type": "code",
   "execution_count": 17,
   "metadata": {},
   "outputs": [],
   "source": [
    "def create_text_encoder(\n",
    "    num_projection_layers, projection_dims, dropout_rate, trainable=False\n",
    "):\n",
    "    # Load the pre-trained BERT model to be used as the base encoder.\n",
    "    bert = hub.KerasLayer(bert_model_path, name=\"bert\")\n",
    "    # Set the trainability of the base encoder.\n",
    "    bert.trainable = trainable\n",
    "\n",
    "    # Receive the text as inputs.\n",
    "    bert_input_features = [\"input_type_ids\", \"input_mask\", \"input_word_ids\"]\n",
    "    inputs = {\n",
    "        feature: keras.Input(shape=(100,), dtype=tf.int32, name=feature)\n",
    "        for feature in bert_input_features\n",
    "    }\n",
    "\n",
    "    # Generate embeddings for the preprocessed text using the BERT model.\n",
    "    embeddings = bert(inputs)[\"pooled_output\"]\n",
    "\n",
    "    # Project the embeddings produced by the model.\n",
    "    outputs = project_embeddings(\n",
    "        embeddings, num_projection_layers, projection_dims, dropout_rate\n",
    "    )\n",
    "    # Create the text encoder model.\n",
    "    return keras.Model(inputs, outputs, name=\"text_encoder\")"
   ]
  },
  {
   "cell_type": "code",
   "execution_count": 18,
   "metadata": {},
   "outputs": [
    {
     "name": "stdout",
     "output_type": "stream",
     "text": [
      "You must install pydot (`pip install pydot`) and install graphviz (see instructions at https://graphviz.gitlab.io/download/) for plot_model/model_to_dot to work.\n"
     ]
    }
   ],
   "source": [
    "def create_multimodal_model(\n",
    "    num_projection_layers=1,\n",
    "    projection_dims=256,\n",
    "    dropout_rate=0.1,\n",
    "    vision_trainable=False,\n",
    "    text_trainable=False,\n",
    "):\n",
    "    # Receive the images as inputs.\n",
    "    image = keras.Input(shape=(100, 100, 3), name=\"image\")\n",
    "\n",
    "    # Receive the text as inputs.\n",
    "    bert_input_features = [\"input_type_ids\", \"input_mask\", \"input_word_ids\"]\n",
    "    text_inputs = {\n",
    "        feature: keras.Input(shape=(100,), dtype=tf.int32, name=feature)\n",
    "        for feature in bert_input_features\n",
    "    }\n",
    "\n",
    "    # Create the encoders.\n",
    "    vision_encoder = create_vision_encoder(\n",
    "        num_projection_layers, projection_dims, dropout_rate, vision_trainable\n",
    "    )\n",
    "    text_encoder = create_text_encoder(\n",
    "        num_projection_layers, projection_dims, dropout_rate, text_trainable\n",
    "    )\n",
    "\n",
    "    # Fetch the embedding projections.\n",
    "    vision_projections = vision_encoder([image])\n",
    "    text_projections = text_encoder(text_inputs)\n",
    "\n",
    "    # Concatenate the projections and pass through the classification layer.\n",
    "    concatenated = keras.layers.Concatenate()([vision_projections, text_projections])\n",
    "    outputs = keras.layers.Dense(3, activation=\"softmax\")(concatenated)\n",
    "    return keras.Model([image, text_inputs], outputs)\n",
    "\n",
    "\n",
    "multimodal_model = create_multimodal_model()\n",
    "keras.utils.plot_model(multimodal_model, show_shapes=True)"
   ]
  },
  {
   "cell_type": "code",
   "execution_count": 19,
   "metadata": {},
   "outputs": [],
   "source": [
    "class BalancedSparseCategoricalAccuracy(keras.metrics.SparseCategoricalAccuracy):\n",
    "    def __init__(self, name='balanced_sparse_categorical_accuracy', dtype=None):\n",
    "        super().__init__(name, dtype=dtype)\n",
    "\n",
    "    def update_state(self, y_true, y_pred, sample_weight=None):\n",
    "        y_flat = y_true\n",
    "        if y_true.shape.ndims == y_pred.shape.ndims:\n",
    "            y_flat = tf.squeeze(y_flat, axis=[-1])\n",
    "        y_true_int = tf.cast(y_flat, tf.int32)\n",
    "\n",
    "        cls_counts = tf.math.bincount(y_true_int)\n",
    "        cls_counts = tf.math.reciprocal_no_nan(tf.cast(cls_counts, self.dtype))\n",
    "        weight = tf.gather(cls_counts, y_true_int)\n",
    "        return super().update_state(y_true, y_pred, sample_weight=weight)"
   ]
  },
  {
   "cell_type": "code",
   "execution_count": 28,
   "metadata": {},
   "outputs": [
    {
     "name": "stdout",
     "output_type": "stream",
     "text": [
      "Model: \"model_1\"\n",
      "__________________________________________________________________________________________________\n",
      " Layer (type)                   Output Shape         Param #     Connected to                     \n",
      "==================================================================================================\n",
      " image (InputLayer)             [(None, 100, 100, 3  0           []                               \n",
      "                                )]                                                                \n",
      "                                                                                                  \n",
      " input_mask (InputLayer)        [(None, 100)]        0           []                               \n",
      "                                                                                                  \n",
      " input_type_ids (InputLayer)    [(None, 100)]        0           []                               \n",
      "                                                                                                  \n",
      " input_word_ids (InputLayer)    [(None, 100)]        0           []                               \n",
      "                                                                                                  \n",
      " vision_encoder (Functional)    (None, 256)          6313552     ['image[0][0]']                  \n",
      "                                                                                                  \n",
      " text_encoder (Functional)      (None, 256)          9723137     ['input_mask[0][0]',             \n",
      "                                                                  'input_type_ids[0][0]',         \n",
      "                                                                  'input_word_ids[0][0]']         \n",
      "                                                                                                  \n",
      " concatenate_1 (Concatenate)    (None, 512)          0           ['vision_encoder[0][0]',         \n",
      "                                                                  'text_encoder[0][0]']           \n",
      "                                                                                                  \n",
      " dense_4 (Dense)                (None, 3)            1539        ['concatenate_1[0][0]']          \n",
      "                                                                                                  \n",
      "==================================================================================================\n",
      "Total params: 16,038,228\n",
      "Trainable params: 527,875\n",
      "Non-trainable params: 15,510,353\n",
      "__________________________________________________________________________________________________\n"
     ]
    }
   ],
   "source": [
    "early =  tf.keras.callbacks.EarlyStopping(monitor='balanced_sparse_categorical_accuracy', patience = 10, restore_best_weights=True)\n",
    "\n",
    "multimodal_model.compile(\n",
    "    optimizer=\"adam\", \n",
    "    loss=\"sparse_categorical_crossentropy\", \n",
    "    metrics = BalancedSparseCategoricalAccuracy()\n",
    ")\n",
    "\n",
    "multimodal_model.summary()"
   ]
  },
  {
   "cell_type": "code",
   "execution_count": 29,
   "metadata": {},
   "outputs": [
    {
     "name": "stdout",
     "output_type": "stream",
     "text": [
      "Epoch 1/100\n",
      "137/137 [==============================] - 83s 542ms/step - loss: 0.8402 - balanced_sparse_categorical_accuracy: 0.5974 - val_loss: 1.3526 - val_balanced_sparse_categorical_accuracy: 0.3282\n",
      "Epoch 2/100\n",
      "137/137 [==============================] - 111s 817ms/step - loss: 0.7173 - balanced_sparse_categorical_accuracy: 0.6778 - val_loss: 1.3327 - val_balanced_sparse_categorical_accuracy: 0.3141\n",
      "Epoch 3/100\n",
      "137/137 [==============================] - 68s 498ms/step - loss: 0.6001 - balanced_sparse_categorical_accuracy: 0.7306 - val_loss: 1.3587 - val_balanced_sparse_categorical_accuracy: 0.3093\n",
      "Epoch 4/100\n",
      "137/137 [==============================] - 69s 503ms/step - loss: 0.5227 - balanced_sparse_categorical_accuracy: 0.7748 - val_loss: 1.5022 - val_balanced_sparse_categorical_accuracy: 0.3156\n",
      "Epoch 5/100\n",
      "137/137 [==============================] - 63s 459ms/step - loss: 0.4747 - balanced_sparse_categorical_accuracy: 0.8008 - val_loss: 1.7903 - val_balanced_sparse_categorical_accuracy: 0.3466\n",
      "Epoch 6/100\n",
      "137/137 [==============================] - 65s 472ms/step - loss: 0.4241 - balanced_sparse_categorical_accuracy: 0.8267 - val_loss: 1.7149 - val_balanced_sparse_categorical_accuracy: 0.3331\n",
      "Epoch 7/100\n",
      "137/137 [==============================] - 66s 480ms/step - loss: 0.3946 - balanced_sparse_categorical_accuracy: 0.8380 - val_loss: 1.8134 - val_balanced_sparse_categorical_accuracy: 0.3039\n",
      "Epoch 8/100\n",
      "137/137 [==============================] - 63s 462ms/step - loss: 0.3319 - balanced_sparse_categorical_accuracy: 0.8596 - val_loss: 1.9597 - val_balanced_sparse_categorical_accuracy: 0.3132\n",
      "Epoch 9/100\n",
      "137/137 [==============================] - 66s 483ms/step - loss: 0.3277 - balanced_sparse_categorical_accuracy: 0.8660 - val_loss: 2.2155 - val_balanced_sparse_categorical_accuracy: 0.3274\n",
      "Epoch 10/100\n",
      "137/137 [==============================] - 66s 483ms/step - loss: 0.3469 - balanced_sparse_categorical_accuracy: 0.8648 - val_loss: 2.1187 - val_balanced_sparse_categorical_accuracy: 0.3310\n",
      "Epoch 11/100\n",
      "137/137 [==============================] - 66s 482ms/step - loss: 0.2837 - balanced_sparse_categorical_accuracy: 0.8846 - val_loss: 1.9997 - val_balanced_sparse_categorical_accuracy: 0.3331\n",
      "Epoch 12/100\n",
      "137/137 [==============================] - 69s 501ms/step - loss: 0.2591 - balanced_sparse_categorical_accuracy: 0.8986 - val_loss: 2.0967 - val_balanced_sparse_categorical_accuracy: 0.3466\n",
      "Epoch 13/100\n",
      "137/137 [==============================] - 67s 492ms/step - loss: 0.2615 - balanced_sparse_categorical_accuracy: 0.8973 - val_loss: 2.2047 - val_balanced_sparse_categorical_accuracy: 0.3371\n",
      "Epoch 14/100\n",
      "137/137 [==============================] - 68s 495ms/step - loss: 0.2379 - balanced_sparse_categorical_accuracy: 0.9121 - val_loss: 2.1095 - val_balanced_sparse_categorical_accuracy: 0.3368\n",
      "Epoch 15/100\n",
      "137/137 [==============================] - 69s 505ms/step - loss: 0.2132 - balanced_sparse_categorical_accuracy: 0.9209 - val_loss: 2.1503 - val_balanced_sparse_categorical_accuracy: 0.3317\n",
      "Epoch 16/100\n",
      "137/137 [==============================] - 74s 539ms/step - loss: 0.1819 - balanced_sparse_categorical_accuracy: 0.9363 - val_loss: 2.3776 - val_balanced_sparse_categorical_accuracy: 0.2899\n",
      "Epoch 17/100\n",
      "137/137 [==============================] - 70s 512ms/step - loss: 0.1681 - balanced_sparse_categorical_accuracy: 0.9326 - val_loss: 2.4953 - val_balanced_sparse_categorical_accuracy: 0.3308\n",
      "Epoch 18/100\n",
      "137/137 [==============================] - 68s 499ms/step - loss: 0.1962 - balanced_sparse_categorical_accuracy: 0.9250 - val_loss: 2.4630 - val_balanced_sparse_categorical_accuracy: 0.3094\n",
      "Epoch 19/100\n",
      "137/137 [==============================] - 100s 735ms/step - loss: 0.2008 - balanced_sparse_categorical_accuracy: 0.9232 - val_loss: 2.4387 - val_balanced_sparse_categorical_accuracy: 0.3239\n",
      "Epoch 20/100\n",
      "137/137 [==============================] - 67s 491ms/step - loss: 0.1817 - balanced_sparse_categorical_accuracy: 0.9320 - val_loss: 2.3550 - val_balanced_sparse_categorical_accuracy: 0.3147\n",
      "Epoch 21/100\n",
      "137/137 [==============================] - 71s 517ms/step - loss: 0.1623 - balanced_sparse_categorical_accuracy: 0.9365 - val_loss: 2.4963 - val_balanced_sparse_categorical_accuracy: 0.3294\n",
      "Epoch 22/100\n",
      "137/137 [==============================] - 66s 481ms/step - loss: 0.1497 - balanced_sparse_categorical_accuracy: 0.9426 - val_loss: 2.6180 - val_balanced_sparse_categorical_accuracy: 0.3014\n",
      "Epoch 23/100\n",
      "137/137 [==============================] - 66s 483ms/step - loss: 0.1564 - balanced_sparse_categorical_accuracy: 0.9416 - val_loss: 2.8240 - val_balanced_sparse_categorical_accuracy: 0.3121\n",
      "Epoch 24/100\n",
      "137/137 [==============================] - 67s 489ms/step - loss: 0.1712 - balanced_sparse_categorical_accuracy: 0.9367 - val_loss: 2.3758 - val_balanced_sparse_categorical_accuracy: 0.3297\n",
      "Epoch 25/100\n",
      "137/137 [==============================] - 66s 482ms/step - loss: 0.1331 - balanced_sparse_categorical_accuracy: 0.9531 - val_loss: 2.5291 - val_balanced_sparse_categorical_accuracy: 0.3188\n",
      "Epoch 26/100\n",
      "137/137 [==============================] - 65s 474ms/step - loss: 0.1254 - balanced_sparse_categorical_accuracy: 0.9527 - val_loss: 2.6199 - val_balanced_sparse_categorical_accuracy: 0.3250\n",
      "Epoch 27/100\n",
      "137/137 [==============================] - 66s 484ms/step - loss: 0.1176 - balanced_sparse_categorical_accuracy: 0.9576 - val_loss: 2.5010 - val_balanced_sparse_categorical_accuracy: 0.3410\n",
      "Epoch 28/100\n",
      "137/137 [==============================] - 64s 470ms/step - loss: 0.1325 - balanced_sparse_categorical_accuracy: 0.9530 - val_loss: 2.6942 - val_balanced_sparse_categorical_accuracy: 0.3471\n",
      "Epoch 29/100\n",
      "137/137 [==============================] - 65s 472ms/step - loss: 0.1326 - balanced_sparse_categorical_accuracy: 0.9518 - val_loss: 2.6311 - val_balanced_sparse_categorical_accuracy: 0.3326\n",
      "Epoch 30/100\n",
      "137/137 [==============================] - 65s 475ms/step - loss: 0.1103 - balanced_sparse_categorical_accuracy: 0.9686 - val_loss: 2.7051 - val_balanced_sparse_categorical_accuracy: 0.3305\n",
      "Epoch 31/100\n",
      "137/137 [==============================] - 83s 603ms/step - loss: 0.1196 - balanced_sparse_categorical_accuracy: 0.9542 - val_loss: 2.7433 - val_balanced_sparse_categorical_accuracy: 0.3515\n",
      "Epoch 32/100\n",
      "137/137 [==============================] - 83s 604ms/step - loss: 0.1164 - balanced_sparse_categorical_accuracy: 0.9655 - val_loss: 2.6620 - val_balanced_sparse_categorical_accuracy: 0.3231\n",
      "Epoch 33/100\n",
      "137/137 [==============================] - 84s 611ms/step - loss: 0.1156 - balanced_sparse_categorical_accuracy: 0.9609 - val_loss: 2.6441 - val_balanced_sparse_categorical_accuracy: 0.3299\n",
      "Epoch 34/100\n",
      "137/137 [==============================] - 84s 611ms/step - loss: 0.0738 - balanced_sparse_categorical_accuracy: 0.9740 - val_loss: 2.7759 - val_balanced_sparse_categorical_accuracy: 0.3314\n",
      "Epoch 35/100\n",
      "137/137 [==============================] - 64s 470ms/step - loss: 0.1083 - balanced_sparse_categorical_accuracy: 0.9624 - val_loss: 2.8470 - val_balanced_sparse_categorical_accuracy: 0.3145\n",
      "Epoch 36/100\n",
      "137/137 [==============================] - 64s 469ms/step - loss: 0.0899 - balanced_sparse_categorical_accuracy: 0.9741 - val_loss: 2.7537 - val_balanced_sparse_categorical_accuracy: 0.3407\n",
      "Epoch 37/100\n",
      "137/137 [==============================] - 84s 616ms/step - loss: 0.1113 - balanced_sparse_categorical_accuracy: 0.9585 - val_loss: 2.6815 - val_balanced_sparse_categorical_accuracy: 0.3172\n",
      "Epoch 38/100\n",
      "137/137 [==============================] - 83s 604ms/step - loss: 0.1316 - balanced_sparse_categorical_accuracy: 0.9585 - val_loss: 2.7305 - val_balanced_sparse_categorical_accuracy: 0.3189\n",
      "Epoch 39/100\n",
      "137/137 [==============================] - 84s 610ms/step - loss: 0.1275 - balanced_sparse_categorical_accuracy: 0.9555 - val_loss: 2.6024 - val_balanced_sparse_categorical_accuracy: 0.3254\n",
      "Epoch 40/100\n",
      "137/137 [==============================] - 82s 599ms/step - loss: 0.1040 - balanced_sparse_categorical_accuracy: 0.9647 - val_loss: 2.4962 - val_balanced_sparse_categorical_accuracy: 0.3331\n",
      "Epoch 41/100\n",
      "137/137 [==============================] - 84s 617ms/step - loss: 0.0802 - balanced_sparse_categorical_accuracy: 0.9737 - val_loss: 2.6568 - val_balanced_sparse_categorical_accuracy: 0.3465\n",
      "Epoch 42/100\n",
      "137/137 [==============================] - 84s 616ms/step - loss: 0.0800 - balanced_sparse_categorical_accuracy: 0.9680 - val_loss: 2.8334 - val_balanced_sparse_categorical_accuracy: 0.3475\n",
      "Epoch 43/100\n",
      "137/137 [==============================] - 85s 621ms/step - loss: 0.0980 - balanced_sparse_categorical_accuracy: 0.9619 - val_loss: 2.7012 - val_balanced_sparse_categorical_accuracy: 0.3409\n",
      "Epoch 44/100\n",
      "137/137 [==============================] - 84s 617ms/step - loss: 0.0886 - balanced_sparse_categorical_accuracy: 0.9693 - val_loss: 2.6973 - val_balanced_sparse_categorical_accuracy: 0.3431\n",
      "Epoch 45/100\n",
      "137/137 [==============================] - 89s 648ms/step - loss: 0.0678 - balanced_sparse_categorical_accuracy: 0.9753 - val_loss: 2.8119 - val_balanced_sparse_categorical_accuracy: 0.3134\n",
      "Epoch 46/100\n",
      "137/137 [==============================] - 66s 479ms/step - loss: 0.0806 - balanced_sparse_categorical_accuracy: 0.9698 - val_loss: 3.1113 - val_balanced_sparse_categorical_accuracy: 0.3353\n",
      "Epoch 47/100\n",
      "137/137 [==============================] - 66s 481ms/step - loss: 0.0930 - balanced_sparse_categorical_accuracy: 0.9652 - val_loss: 2.7873 - val_balanced_sparse_categorical_accuracy: 0.3258\n",
      "Epoch 48/100\n",
      "137/137 [==============================] - 65s 478ms/step - loss: 0.0771 - balanced_sparse_categorical_accuracy: 0.9680 - val_loss: 2.9293 - val_balanced_sparse_categorical_accuracy: 0.3408\n",
      "Epoch 49/100\n",
      "137/137 [==============================] - 65s 478ms/step - loss: 0.0917 - balanced_sparse_categorical_accuracy: 0.9702 - val_loss: 2.9883 - val_balanced_sparse_categorical_accuracy: 0.3341\n",
      "Epoch 50/100\n",
      "137/137 [==============================] - 66s 480ms/step - loss: 0.1160 - balanced_sparse_categorical_accuracy: 0.9626 - val_loss: 2.8218 - val_balanced_sparse_categorical_accuracy: 0.3305\n",
      "Epoch 51/100\n",
      "137/137 [==============================] - 66s 484ms/step - loss: 0.0674 - balanced_sparse_categorical_accuracy: 0.9786 - val_loss: 2.9743 - val_balanced_sparse_categorical_accuracy: 0.3214\n",
      "Epoch 52/100\n",
      "137/137 [==============================] - 66s 485ms/step - loss: 0.0814 - balanced_sparse_categorical_accuracy: 0.9728 - val_loss: 2.9293 - val_balanced_sparse_categorical_accuracy: 0.3299\n",
      "Epoch 53/100\n",
      "137/137 [==============================] - 67s 489ms/step - loss: 0.0555 - balanced_sparse_categorical_accuracy: 0.9809 - val_loss: 3.0478 - val_balanced_sparse_categorical_accuracy: 0.3395\n",
      "Epoch 54/100\n",
      "137/137 [==============================] - 64s 468ms/step - loss: 0.1025 - balanced_sparse_categorical_accuracy: 0.9629 - val_loss: 2.8709 - val_balanced_sparse_categorical_accuracy: 0.3393\n",
      "Epoch 55/100\n",
      "137/137 [==============================] - 64s 467ms/step - loss: 0.0888 - balanced_sparse_categorical_accuracy: 0.9693 - val_loss: 3.0124 - val_balanced_sparse_categorical_accuracy: 0.3320\n",
      "Epoch 56/100\n",
      "137/137 [==============================] - 64s 468ms/step - loss: 0.0738 - balanced_sparse_categorical_accuracy: 0.9776 - val_loss: 3.0081 - val_balanced_sparse_categorical_accuracy: 0.3203\n",
      "Epoch 57/100\n",
      "137/137 [==============================] - 64s 467ms/step - loss: 0.0694 - balanced_sparse_categorical_accuracy: 0.9740 - val_loss: 2.8684 - val_balanced_sparse_categorical_accuracy: 0.3320\n",
      "Epoch 58/100\n",
      "137/137 [==============================] - 65s 474ms/step - loss: 0.0706 - balanced_sparse_categorical_accuracy: 0.9762 - val_loss: 2.9289 - val_balanced_sparse_categorical_accuracy: 0.3209\n",
      "Epoch 59/100\n",
      "137/137 [==============================] - 64s 470ms/step - loss: 0.0818 - balanced_sparse_categorical_accuracy: 0.9740 - val_loss: 2.7800 - val_balanced_sparse_categorical_accuracy: 0.3217\n",
      "Epoch 60/100\n",
      "137/137 [==============================] - 64s 469ms/step - loss: 0.0753 - balanced_sparse_categorical_accuracy: 0.9689 - val_loss: 2.8369 - val_balanced_sparse_categorical_accuracy: 0.3300\n",
      "Epoch 61/100\n",
      "137/137 [==============================] - 64s 469ms/step - loss: 0.0478 - balanced_sparse_categorical_accuracy: 0.9864 - val_loss: 3.1496 - val_balanced_sparse_categorical_accuracy: 0.3209\n",
      "Epoch 62/100\n",
      "137/137 [==============================] - 64s 469ms/step - loss: 0.0591 - balanced_sparse_categorical_accuracy: 0.9785 - val_loss: 3.1272 - val_balanced_sparse_categorical_accuracy: 0.3277\n",
      "Epoch 63/100\n",
      "137/137 [==============================] - 64s 468ms/step - loss: 0.0872 - balanced_sparse_categorical_accuracy: 0.9726 - val_loss: 3.1338 - val_balanced_sparse_categorical_accuracy: 0.3129\n",
      "Epoch 64/100\n",
      "137/137 [==============================] - 65s 472ms/step - loss: 0.0749 - balanced_sparse_categorical_accuracy: 0.9721 - val_loss: 3.2246 - val_balanced_sparse_categorical_accuracy: 0.3302\n",
      "Epoch 65/100\n",
      "137/137 [==============================] - 66s 481ms/step - loss: 0.0819 - balanced_sparse_categorical_accuracy: 0.9735 - val_loss: 2.9537 - val_balanced_sparse_categorical_accuracy: 0.3335\n",
      "Epoch 66/100\n",
      "137/137 [==============================] - 65s 475ms/step - loss: 0.0794 - balanced_sparse_categorical_accuracy: 0.9707 - val_loss: 2.9207 - val_balanced_sparse_categorical_accuracy: 0.3295\n",
      "Epoch 67/100\n",
      "137/137 [==============================] - 65s 475ms/step - loss: 0.0663 - balanced_sparse_categorical_accuracy: 0.9812 - val_loss: 3.0300 - val_balanced_sparse_categorical_accuracy: 0.3201\n",
      "Epoch 68/100\n",
      "137/137 [==============================] - 64s 469ms/step - loss: 0.0706 - balanced_sparse_categorical_accuracy: 0.9759 - val_loss: 2.8575 - val_balanced_sparse_categorical_accuracy: 0.3260\n",
      "Epoch 69/100\n",
      "137/137 [==============================] - 64s 470ms/step - loss: 0.0528 - balanced_sparse_categorical_accuracy: 0.9817 - val_loss: 2.9690 - val_balanced_sparse_categorical_accuracy: 0.3359\n",
      "Epoch 70/100\n",
      "137/137 [==============================] - 65s 472ms/step - loss: 0.0734 - balanced_sparse_categorical_accuracy: 0.9754 - val_loss: 2.9486 - val_balanced_sparse_categorical_accuracy: 0.3263\n",
      "Epoch 71/100\n",
      "137/137 [==============================] - 65s 473ms/step - loss: 0.0748 - balanced_sparse_categorical_accuracy: 0.9726 - val_loss: 2.8766 - val_balanced_sparse_categorical_accuracy: 0.3169\n"
     ]
    }
   ],
   "source": [
    "history = multimodal_model.fit(train_ds, \n",
    "                               validation_data=validation_ds, \n",
    "                               epochs = 100, \n",
    "                               class_weight = class_weights, \n",
    "                               callbacks=[early])"
   ]
  },
  {
   "cell_type": "code",
   "execution_count": 30,
   "metadata": {},
   "outputs": [
    {
     "data": {
      "text/plain": [
       "array([[7.3487251e-07, 1.1536901e-01, 8.8463026e-01],\n",
       "       [2.0420967e-01, 3.7259150e-03, 7.9206437e-01],\n",
       "       [2.5594663e-03, 8.2148155e-03, 9.8922569e-01],\n",
       "       ...,\n",
       "       [2.7900508e-02, 1.2378237e-04, 9.7197568e-01],\n",
       "       [2.5294371e-06, 1.0579881e-04, 9.9989164e-01],\n",
       "       [4.9872726e-04, 1.7833136e-01, 8.2116991e-01]], dtype=float32)"
      ]
     },
     "execution_count": 30,
     "metadata": {},
     "output_type": "execute_result"
    }
   ],
   "source": [
    "preds = multimodal_model.predict(validation_ds, verbose=3)\n",
    "preds"
   ]
  },
  {
   "cell_type": "code",
   "execution_count": 31,
   "metadata": {},
   "outputs": [],
   "source": [
    "prob = tf.nn.softmax(preds).numpy()\n",
    "y_pred = np.argmax(prob, axis=1)"
   ]
  },
  {
   "cell_type": "code",
   "execution_count": 32,
   "metadata": {},
   "outputs": [
    {
     "name": "stdout",
     "output_type": "stream",
     "text": [
      "Val - balanced_accuracy :  0.330981279731796\n",
      "Val - F1 :  0.32834855570189997\n"
     ]
    }
   ],
   "source": [
    "print(\"Val - balanced_accuracy : \", balanced_accuracy_score(val_df.target,  y_pred))\n",
    "print(\"Val - F1 : \", f1_score(val_df.target, y_pred, average='macro'))"
   ]
  },
  {
   "cell_type": "code",
   "execution_count": 33,
   "metadata": {},
   "outputs": [
    {
     "data": {
      "image/png": "[encoded data removed]",
      "text/plain": [
       "<Figure size 720x288 with 2 Axes>"
      ]
     },
     "metadata": {
      "needs_background": "light"
     },
     "output_type": "display_data"
    }
   ],
   "source": [
    "labels = ['negative', 'neutral', 'positive']\n",
    "cm = confusion_matrix(val_df.target, y_pred)\n",
    "cmn = cm.astype('float') / cm.sum(axis=1)[:, np.newaxis]\n",
    "cm_df = pd.DataFrame(cmn,\n",
    "                     index = labels, \n",
    "                     columns = labels\n",
    "                     )\n",
    "\n",
    "plt.figure(figsize=(10,4))\n",
    "sns.heatmap(cm_df, annot=True ,fmt='g')\n",
    "plt.title('Confusion Matrix')\n",
    "plt.ylabel('Actual Values')\n",
    "plt.xlabel('Predicted Values')\n",
    "plt.show()"
   ]
  },
  {
   "cell_type": "code",
   "execution_count": 40,
   "metadata": {},
   "outputs": [
    {
     "data": {
      "image/png": "[encoded data removed]",
      "text/plain": [
       "<Figure size 432x288 with 1 Axes>"
      ]
     },
     "metadata": {
      "needs_background": "light"
     },
     "output_type": "display_data"
    }
   ],
   "source": [
    "plt.plot(history.history['balanced_sparse_categorical_accuracy'])\n",
    "plt.plot(history.history['val_balanced_sparse_categorical_accuracy'])\n",
    "plt.title('model balanced accuracy')\n",
    "plt.ylabel('balanced accuracy')\n",
    "plt.xlabel('epoch')\n",
    "plt.legend(['train', 'val'], loc='upper left')\n",
    "plt.show()"
   ]
  },
  {
   "cell_type": "code",
   "execution_count": 37,
   "metadata": {},
   "outputs": [
    {
     "data": {
      "image/png": "[encoded data removed]",
      "text/plain": [
       "<Figure size 432x288 with 1 Axes>"
      ]
     },
     "metadata": {
      "needs_background": "light"
     },
     "output_type": "display_data"
    }
   ],
   "source": [
    "plt.plot(history.history['loss'])\n",
    "plt.plot(history.history['val_loss'])\n",
    "plt.title('model loss')\n",
    "plt.ylabel('loss')\n",
    "plt.xlabel('epoch')\n",
    "plt.legend(['train', 'val'], loc='upper left')\n",
    "plt.show()"
   ]
  },
  {
   "cell_type": "code",
   "execution_count": 53,
   "metadata": {},
   "outputs": [
    {
     "data": {
      "text/plain": [
       "'B:\\\\utils\\\\Documentos\\\\MDC\\\\projeto_final\\\\meme-sentiment-analysis/meme-sentiment-analysis/models/saved/models/multimodal'"
      ]
     },
     "execution_count": 53,
     "metadata": {},
     "output_type": "execute_result"
    }
   ],
   "source": [
    "multimodal_model.save_weights(PATH_TO_MODELS + model_name)"
   ]
  }
 ],
 "metadata": {
  "kernelspec": {
   "display_name": "Python 3.7.0 64-bit",
   "language": "python",
   "name": "python3"
  },
  "language_info": {
   "codemirror_mode": {
    "name": "ipython",
    "version": 3
   },
   "file_extension": ".py",
   "mimetype": "text/x-python",
   "name": "python",
   "nbconvert_exporter": "python",
   "pygments_lexer": "ipython3",
   "version": "3.7.0"
  },
  "orig_nbformat": 4,
  "vscode": {
   "interpreter": {
    "hash": "f2487189b5835e73c5fa6cd7f2ed518f6fa1ff6c9bd8da44d17cb8ab10f576c2"
   }
  }
 },
 "nbformat": 4,
 "nbformat_minor": 2
}
