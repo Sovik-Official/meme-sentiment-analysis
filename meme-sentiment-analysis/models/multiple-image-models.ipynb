{
 "cells": [
  {
   "cell_type": "markdown",
   "metadata": {},
   "source": [
    "# Classificação utilizando somente imagens"
   ]
  },
  {
   "cell_type": "code",
   "execution_count": 2,
   "metadata": {
    "executionInfo": {
     "elapsed": 1917,
     "status": "ok",
     "timestamp": 1657489510982,
     "user": {
      "displayName": "Vitor Hugo de Sousa Ferreira",
      "userId": "07661415699331402133"
     },
     "user_tz": 180
    },
    "id": "0YUF9DN_zPxS"
   },
   "outputs": [],
   "source": [
    "import pandas as pd\n",
    "import numpy as np\n",
    "\n",
    "import tensorflow as tf\n",
    "\n",
    "from nltk.stem.porter import PorterStemmer\n",
    "\n",
    "import matplotlib.pyplot as plt\n",
    "import seaborn as sns\n",
    "\n",
    "import re\n",
    "import string\n",
    "\n",
    "import yaml\n",
    "\n",
    "from tqdm import tqdm\n",
    "\n",
    "from sklearn.preprocessing import LabelEncoder\n",
    "from sklearn.utils.class_weight import compute_class_weight\n",
    "from tensorflow.keras.preprocessing import image\n",
    "from tensorflow.keras.preprocessing.image import ImageDataGenerator\n",
    "\n",
    "from tensorflow.keras import layers, callbacks\n",
    "from keras.utils.layer_utils import count_params\n",
    "\n",
    "from sklearn.metrics import confusion_matrix\n",
    "from sklearn.metrics import balanced_accuracy_score\n",
    "from sklearn.metrics import f1_score"
   ]
  },
  {
   "cell_type": "code",
   "execution_count": 3,
   "metadata": {},
   "outputs": [],
   "source": [
    "with open(\"../../config.yaml\", \"r\") as stream:\n",
    "    try:\n",
    "        configs = yaml.safe_load(stream)\n",
    "    except yaml.YAMLError as exc:\n",
    "        print(exc)"
   ]
  },
  {
   "cell_type": "code",
   "execution_count": 4,
   "metadata": {},
   "outputs": [],
   "source": [
    "PATH_TO_TRAIN_DS_PROCESSED = str(configs['ROOT_DIR'] + configs['PATH_TO_TRAIN_DS_PROCESSED'])\n",
    "PATH_TO_WEIGHTS            = str(configs['ROOT_DIR'] + configs['PATH_TO_WEIGHTS'])\n",
    "PATH_TO_IMAGES             = str(configs['ROOT_DIR'] + configs['PATH_TO_IMAGES'])"
   ]
  },
  {
   "cell_type": "markdown",
   "metadata": {},
   "source": [
    "## Leitura da base de dados"
   ]
  },
  {
   "cell_type": "code",
   "execution_count": 5,
   "metadata": {
    "executionInfo": {
     "elapsed": 9,
     "status": "ok",
     "timestamp": 1657489518331,
     "user": {
      "displayName": "Vitor Hugo de Sousa Ferreira",
      "userId": "07661415699331402133"
     },
     "user_tz": 180
    },
    "id": "3LQZtcVmJeMc"
   },
   "outputs": [
    {
     "data": {
      "text/html": [
       "<div>\n",
       "<style scoped>\n",
       "    .dataframe tbody tr th:only-of-type {\n",
       "        vertical-align: middle;\n",
       "    }\n",
       "\n",
       "    .dataframe tbody tr th {\n",
       "        vertical-align: top;\n",
       "    }\n",
       "\n",
       "    .dataframe thead th {\n",
       "        text-align: right;\n",
       "    }\n",
       "</style>\n",
       "<table border=\"1\" class=\"dataframe\">\n",
       "  <thead>\n",
       "    <tr style=\"text-align: right;\">\n",
       "      <th></th>\n",
       "      <th>image_name</th>\n",
       "      <th>text</th>\n",
       "      <th>humour</th>\n",
       "      <th>sarcasm</th>\n",
       "      <th>offensive</th>\n",
       "      <th>motivational</th>\n",
       "      <th>target</th>\n",
       "    </tr>\n",
       "  </thead>\n",
       "  <tbody>\n",
       "    <tr>\n",
       "      <th>0</th>\n",
       "      <td>image_1415.jpeg</td>\n",
       "      <td>if you want to view paradis simpli look around...</td>\n",
       "      <td>not_funny</td>\n",
       "      <td>not_sarcastic</td>\n",
       "      <td>not_offensive</td>\n",
       "      <td>motivational</td>\n",
       "      <td>positive</td>\n",
       "    </tr>\n",
       "    <tr>\n",
       "      <th>1</th>\n",
       "      <td>image_6460.png</td>\n",
       "      <td>if i had a brick for everi lie hillari told i ...</td>\n",
       "      <td>hilarious</td>\n",
       "      <td>general</td>\n",
       "      <td>very_offensive</td>\n",
       "      <td>motivational</td>\n",
       "      <td>positive</td>\n",
       "    </tr>\n",
       "    <tr>\n",
       "      <th>2</th>\n",
       "      <td>image_2303.png</td>\n",
       "      <td>that thing over there can i eat that</td>\n",
       "      <td>very_funny</td>\n",
       "      <td>general</td>\n",
       "      <td>not_offensive</td>\n",
       "      <td>motivational</td>\n",
       "      <td>very_positive</td>\n",
       "    </tr>\n",
       "    <tr>\n",
       "      <th>3</th>\n",
       "      <td>image_2417.png</td>\n",
       "      <td>my dad point to liam and said when did david b...</td>\n",
       "      <td>not_funny</td>\n",
       "      <td>general</td>\n",
       "      <td>very_offensive</td>\n",
       "      <td>motivational</td>\n",
       "      <td>neutral</td>\n",
       "    </tr>\n",
       "    <tr>\n",
       "      <th>4</th>\n",
       "      <td>image_11.jpg</td>\n",
       "      <td>probabl the first man to do year challeng chen...</td>\n",
       "      <td>funny</td>\n",
       "      <td>general</td>\n",
       "      <td>very_offensive</td>\n",
       "      <td>motivational</td>\n",
       "      <td>negative</td>\n",
       "    </tr>\n",
       "  </tbody>\n",
       "</table>\n",
       "</div>"
      ],
      "text/plain": [
       "        image_name                                               text  \\\n",
       "0  image_1415.jpeg  if you want to view paradis simpli look around...   \n",
       "1   image_6460.png  if i had a brick for everi lie hillari told i ...   \n",
       "2   image_2303.png               that thing over there can i eat that   \n",
       "3   image_2417.png  my dad point to liam and said when did david b...   \n",
       "4     image_11.jpg  probabl the first man to do year challeng chen...   \n",
       "\n",
       "       humour        sarcasm       offensive  motivational         target  \n",
       "0   not_funny  not_sarcastic   not_offensive  motivational       positive  \n",
       "1   hilarious        general  very_offensive  motivational       positive  \n",
       "2  very_funny        general   not_offensive  motivational  very_positive  \n",
       "3   not_funny        general  very_offensive  motivational        neutral  \n",
       "4       funny        general  very_offensive  motivational       negative  "
      ]
     },
     "execution_count": 5,
     "metadata": {},
     "output_type": "execute_result"
    }
   ],
   "source": [
    "df_train_cleaned = pd.read_csv(PATH_TO_TRAIN_DS_PROCESSED)\n",
    "df_train_cleaned.head()"
   ]
  },
  {
   "cell_type": "code",
   "execution_count": 11,
   "metadata": {
    "id": "W37WDUpPDqvy",
    "outputId": "17223c44-4b9f-4244-c1fd-4f4e5617b791"
   },
   "outputs": [
    {
     "data": {
      "text/html": [
       "<div>\n",
       "<style scoped>\n",
       "    .dataframe tbody tr th:only-of-type {\n",
       "        vertical-align: middle;\n",
       "    }\n",
       "\n",
       "    .dataframe tbody tr th {\n",
       "        vertical-align: top;\n",
       "    }\n",
       "\n",
       "    .dataframe thead th {\n",
       "        text-align: right;\n",
       "    }\n",
       "</style>\n",
       "<table border=\"1\" class=\"dataframe\">\n",
       "  <thead>\n",
       "    <tr style=\"text-align: right;\">\n",
       "      <th></th>\n",
       "      <th>image_name</th>\n",
       "      <th>humour</th>\n",
       "      <th>sarcasm</th>\n",
       "      <th>offensive</th>\n",
       "      <th>motivational</th>\n",
       "      <th>label</th>\n",
       "      <th>text_corrected_cleaned_stemmed</th>\n",
       "    </tr>\n",
       "  </thead>\n",
       "  <tbody>\n",
       "    <tr>\n",
       "      <th>0</th>\n",
       "      <td>image_1415.jpeg</td>\n",
       "      <td>not_funny</td>\n",
       "      <td>not_sarcastic</td>\n",
       "      <td>not_offensive</td>\n",
       "      <td>motivational</td>\n",
       "      <td>positive</td>\n",
       "      <td>if you want to view paradis simpli look around...</td>\n",
       "    </tr>\n",
       "    <tr>\n",
       "      <th>1</th>\n",
       "      <td>image_6460.png</td>\n",
       "      <td>hilarious</td>\n",
       "      <td>general</td>\n",
       "      <td>very_offensive</td>\n",
       "      <td>motivational</td>\n",
       "      <td>positive</td>\n",
       "      <td>if i had a brick for everi lie hillari told i ...</td>\n",
       "    </tr>\n",
       "    <tr>\n",
       "      <th>2</th>\n",
       "      <td>image_2303.png</td>\n",
       "      <td>very_funny</td>\n",
       "      <td>general</td>\n",
       "      <td>not_offensive</td>\n",
       "      <td>motivational</td>\n",
       "      <td>positive</td>\n",
       "      <td>that thing over there can i eat that</td>\n",
       "    </tr>\n",
       "    <tr>\n",
       "      <th>3</th>\n",
       "      <td>image_2417.png</td>\n",
       "      <td>not_funny</td>\n",
       "      <td>general</td>\n",
       "      <td>very_offensive</td>\n",
       "      <td>motivational</td>\n",
       "      <td>neutral</td>\n",
       "      <td>my dad point to liam and said when did david b...</td>\n",
       "    </tr>\n",
       "    <tr>\n",
       "      <th>4</th>\n",
       "      <td>image_11.jpg</td>\n",
       "      <td>funny</td>\n",
       "      <td>general</td>\n",
       "      <td>very_offensive</td>\n",
       "      <td>motivational</td>\n",
       "      <td>negative</td>\n",
       "      <td>probabl the first man to do year challeng chen...</td>\n",
       "    </tr>\n",
       "  </tbody>\n",
       "</table>\n",
       "</div>"
      ],
      "text/plain": [
       "        image_name      humour        sarcasm       offensive  motivational  \\\n",
       "0  image_1415.jpeg   not_funny  not_sarcastic   not_offensive  motivational   \n",
       "1   image_6460.png   hilarious        general  very_offensive  motivational   \n",
       "2   image_2303.png  very_funny        general   not_offensive  motivational   \n",
       "3   image_2417.png   not_funny        general  very_offensive  motivational   \n",
       "4     image_11.jpg       funny        general  very_offensive  motivational   \n",
       "\n",
       "      label                     text_corrected_cleaned_stemmed  \n",
       "0  positive  if you want to view paradis simpli look around...  \n",
       "1  positive  if i had a brick for everi lie hillari told i ...  \n",
       "2  positive               that thing over there can i eat that  \n",
       "3   neutral  my dad point to liam and said when did david b...  \n",
       "4  negative  probabl the first man to do year challeng chen...  "
      ]
     },
     "execution_count": 11,
     "metadata": {},
     "output_type": "execute_result"
    }
   ],
   "source": [
    "df_train_cleaned.replace(\"very_positive\", \n",
    "           \"positive\", \n",
    "           inplace=True)\n",
    "df_train_cleaned.replace(\"very_negative\", \n",
    "           \"negative\", \n",
    "           inplace=True)       \n",
    "df_train_cleaned.head()"
   ]
  },
  {
   "cell_type": "code",
   "execution_count": 12,
   "metadata": {
    "id": "hEt4Z5VZDqvy",
    "outputId": "1eccc3c0-2df9-4190-8b28-c3f81bf9a252"
   },
   "outputs": [
    {
     "name": "stderr",
     "output_type": "stream",
     "text": [
      "C:\\Users\\Vitor\\AppData\\Local\\Programs\\Python\\Python39\\lib\\site-packages\\seaborn\\_decorators.py:36: FutureWarning: Pass the following variables as keyword args: x, y. From version 0.12, the only valid positional argument will be `data`, and passing other arguments without an explicit keyword will result in an error or misinterpretation.\n",
      "  warnings.warn(\n"
     ]
    },
    {
     "data": {
      "text/plain": [
       "<AxesSubplot:title={'center':'Frequencia das classes no conjunto de treinamento pré-divisão (5453 amostras)'}>"
      ]
     },
     "execution_count": 12,
     "metadata": {},
     "output_type": "execute_result"
    },
    {
     "data": {
      "image/png": "[encoded data removed]",
      "text/plain": [
       "<Figure size 1152x288 with 1 Axes>"
      ]
     },
     "metadata": {
      "needs_background": "light"
     },
     "output_type": "display_data"
    }
   ],
   "source": [
    "plt.figure(figsize=(16, 4))\n",
    "\n",
    "plt.subplot(121)\n",
    "plt.title('Frequencia das classes no conjunto de treinamento pré-divisão (%i amostras)' % len(df_train_cleaned))\n",
    "labels, counts = np.unique(df_train_cleaned['target'], return_counts=True)\n",
    "sns.barplot(labels, counts)"
   ]
  },
  {
   "cell_type": "markdown",
   "metadata": {},
   "source": [
    "### Divisão do conjunto de dados (treino/validação)"
   ]
  },
  {
   "cell_type": "code",
   "execution_count": 13,
   "metadata": {},
   "outputs": [
    {
     "name": "stderr",
     "output_type": "stream",
     "text": [
      "100%|█████████████████████████████████████████████████████████████████████████████████████████████████| 3/3 [00:00<00:00, 356.97it/s]\n",
      "C:\\Users\\Vitor\\AppData\\Local\\Programs\\Python\\Python39\\lib\\site-packages\\sklearn\\utils\\validation.py:63: DataConversionWarning: A column-vector y was passed when a 1d array was expected. Please change the shape of y to (n_samples, ), for example using ravel().\n",
      "  return f(*args, **kwargs)\n",
      "C:\\Users\\Vitor\\AppData\\Local\\Programs\\Python\\Python39\\lib\\site-packages\\seaborn\\_decorators.py:36: FutureWarning: Pass the following variables as keyword args: x, y. From version 0.12, the only valid positional argument will be `data`, and passing other arguments without an explicit keyword will result in an error or misinterpretation.\n",
      "  warnings.warn(\n",
      "C:\\Users\\Vitor\\AppData\\Local\\Programs\\Python\\Python39\\lib\\site-packages\\seaborn\\_decorators.py:36: FutureWarning: Pass the following variables as keyword args: x, y. From version 0.12, the only valid positional argument will be `data`, and passing other arguments without an explicit keyword will result in an error or misinterpretation.\n",
      "  warnings.warn(\n"
     ]
    },
    {
     "data": {
      "text/plain": [
       "<AxesSubplot:title={'center':'Frequencia das classes no conjunto de validação (1090 amostras)'}>"
      ]
     },
     "execution_count": 13,
     "metadata": {},
     "output_type": "execute_result"
    },
    {
     "data": {
      "image/png": "[encoded data removed]",
      "text/plain": [
       "<Figure size 1152x288 with 1 Axes>"
      ]
     },
     "metadata": {
      "needs_background": "light"
     },
     "output_type": "display_data"
    },
    {
     "data": {
      "image/png": "[encoded data removed]",
      "text/plain": [
       "<Figure size 1152x288 with 1 Axes>"
      ]
     },
     "metadata": {
      "needs_background": "light"
     },
     "output_type": "display_data"
    }
   ],
   "source": [
    "train_frac = 0.8\n",
    "id_col = 'image_name'\n",
    "df_train_val = get_train_val_split(train_frac, df_train_cleaned, id_col)\n",
    "\n",
    "le = LabelEncoder()\n",
    "df_train_val['label_encoder'] = le.fit_transform(df_train_val[['target']])\n",
    "\n",
    "df_sep_train = df_train_val[df_train_val.split=='train'].drop(columns='split')\n",
    "df_sep_val = df_train_val[df_train_val.split=='val'].drop(columns='split')\n",
    "\n",
    "plt.figure(figsize=(16, 4))\n",
    "plt.subplot(121)\n",
    "plt.title('Frequencia das classes no conjunto de treinamento (%i amostras)' % len(df_sep_train))\n",
    "labels, counts = np.unique(df_sep_train['target'], return_counts=True)\n",
    "sns.barplot(labels, counts)\n",
    "\n",
    "plt.figure(figsize=(16, 4))\n",
    "plt.subplot(121)\n",
    "plt.title('Frequencia das classes no conjunto de validação (%i amostras)' % len(df_sep_val))\n",
    "labels, counts = np.unique(df_sep_val['target'], return_counts=True)\n",
    "sns.barplot(labels, counts)"
   ]
  },
  {
   "cell_type": "markdown",
   "metadata": {},
   "source": [
    "### Cálculo dos pesos das classes"
   ]
  },
  {
   "cell_type": "code",
   "execution_count": 14,
   "metadata": {},
   "outputs": [
    {
     "name": "stdout",
     "output_type": "stream",
     "text": [
      "Class: negative\t| Weight: 3.6177446102819237\n",
      "Class: neutral\t| Weight: 1.0693627450980392\n",
      "Class: positive\t| Weight: 0.5591439190055107\n"
     ]
    }
   ],
   "source": [
    "class_weights = compute_class_weight(class_weight='balanced', \n",
    "                                     classes=np.unique(df_sep_train['target']), \n",
    "                                     y=df_sep_train['target']\n",
    "                                    )\n",
    "train_class_weights = dict(enumerate(class_weights))\n",
    "\n",
    "for i, label in enumerate(np.unique(df_sep_train['target'])):\n",
    "    print('Class: '+label+'\\t| Weight: '+str(class_weights[i]))"
   ]
  },
  {
   "cell_type": "markdown",
   "metadata": {},
   "source": [
    "### Carregando imagens"
   ]
  },
  {
   "cell_type": "code",
   "execution_count": 15,
   "metadata": {},
   "outputs": [
    {
     "name": "stderr",
     "output_type": "stream",
     "text": [
      " 65%|███████████████████████████████████████████████████████████▏                               | 2840/4363 [00:09<00:04, 314.91it/s]C:\\Users\\Vitor\\AppData\\Local\\Programs\\Python\\Python39\\lib\\site-packages\\PIL\\Image.py:973: UserWarning: Palette images with Transparency expressed in bytes should be converted to RGBA images\n",
      "  warnings.warn(\n",
      "100%|███████████████████████████████████████████████████████████████████████████████████████████| 4363/4363 [00:15<00:00, 280.09it/s]\n",
      "100%|███████████████████████████████████████████████████████████████████████████████████████████| 1090/1090 [00:04<00:00, 250.19it/s]\n"
     ]
    }
   ],
   "source": [
    "#Carregando imagens do treino\n",
    "width = 100\n",
    "height = 100\n",
    "X_train = []\n",
    "X_train_path = []\n",
    "for i in tqdm(df_sep_train['image_name']):\n",
    "    path = PATH_TO_IMAGES + i\n",
    "    img = image.load_img(path,target_size=(width,height,3))\n",
    "    img = image.img_to_array(img)\n",
    "    # img = img/255.0\n",
    "    X_train.append(img)\n",
    "    X_train_path.append(path)\n",
    "\n",
    "#Carregando imagens da validação\n",
    "X_val = []\n",
    "X_val_path = []\n",
    "for i in tqdm(df_sep_val['image_name']):\n",
    "    path = PATH_TO_IMAGES + i\n",
    "    img = image.load_img(path,target_size=(width,height,3))\n",
    "    img = image.img_to_array(img)\n",
    "    # img = img/255.0\n",
    "    X_val.append(img)\n",
    "    X_val_path.append(path)"
   ]
  },
  {
   "cell_type": "code",
   "execution_count": 16,
   "metadata": {},
   "outputs": [],
   "source": [
    "#Algumas transformações\n",
    "X_train = np.array(X_train)\n",
    "X_val = np.array(X_val)\n",
    "Y_train = df_sep_train.iloc[:,-1].astype('category')\n",
    "Y_train_code = Y_train.cat.codes\n",
    "Y_val = df_sep_val.iloc[:,-1].astype('category')\n",
    "Y_val_code=Y_val.cat.codes\n",
    "n_classes=len(np.unique(df_sep_train['target']))\n",
    "Y_train = tf.keras.utils.to_categorical(Y_train, n_classes)\n",
    "Y_val = tf.keras.utils.to_categorical(Y_val, n_classes)\n",
    "\n",
    "#Criando o gerador para as transformações\n",
    "#Aqui, após alguns testes, encontrei que as melhores aumentações são a mudança de brilho e mudanças nos canais da imagem.\n",
    "#Faz sentido pq elas não descaracterizam o meme.\n",
    "datagen_image = ImageDataGenerator(brightness_range=[0.7,1.5],preprocessing_function=tf.keras.applications.resnet50.preprocess_input,channel_shift_range=20)\n",
    "\n",
    "train_batches = datagen_image.flow(X_train, np.array(Y_train), shuffle=False, batch_size=64)\n",
    "val_batches = datagen_image.flow(X_val, np.array(Y_val), shuffle=False, batch_size=64)"
   ]
  },
  {
   "cell_type": "markdown",
   "metadata": {},
   "source": [
    "## Treinamento e Avaliação"
   ]
  },
  {
   "cell_type": "code",
   "execution_count": 18,
   "metadata": {},
   "outputs": [],
   "source": [
    "def define_frozen_network(originalNN, numTrainableLayers, numClasses):\n",
    "    # Congela camadas pré-treinadas menos últimas 4 que serão feitas o fine tunning\n",
    "    for layer in originalNN.layers[:-numTrainableLayers]:\n",
    "        layer.trainable = False\n",
    "\n",
    "    # Inclui camada de avg pooling e densa no final\n",
    "    newNN = tf.keras.Sequential([originalNN,\n",
    "                                 layers.GlobalAveragePooling2D(),\n",
    "                                 layers.Dense(numClasses, activation='softmax')\n",
    "                                ])\n",
    "\n",
    "    # Compila modelo com otimizador sgd\n",
    "    sgd = tf.keras.optimizers.SGD(learning_rate=0.001, momentum=0.9, decay=0.001)\n",
    "    newNN.compile(optimizer=sgd,\n",
    "                  loss='categorical_crossentropy',\n",
    "                  metrics=['accuracy']\n",
    "                 )\n",
    "    print('Numero de parametros treinaveis: '+str(count_params(newNN.trainable_weights)))\n",
    "    \n",
    "    return newNN"
   ]
  },
  {
   "cell_type": "markdown",
   "metadata": {},
   "source": [
    "#### ResNet50"
   ]
  },
  {
   "cell_type": "code",
   "execution_count": 128,
   "metadata": {},
   "outputs": [
    {
     "name": "stdout",
     "output_type": "stream",
     "text": [
      "Numero de parametros treinaveis: 1060867\n",
      "Epoch 1/500\n",
      "69/69 [==============================] - 55s 770ms/step - loss: 4.4350 - accuracy: 0.3094 - val_loss: 3.8075 - val_accuracy: 0.5945\n",
      "Epoch 2/500\n",
      "69/69 [==============================] - 53s 767ms/step - loss: 4.8868 - accuracy: 0.3165 - val_loss: 1.6494 - val_accuracy: 0.5560\n",
      "Epoch 3/500\n",
      "69/69 [==============================] - 53s 763ms/step - loss: 3.0178 - accuracy: 0.3486 - val_loss: 1.4420 - val_accuracy: 0.3394\n",
      "Epoch 4/500\n",
      "69/69 [==============================] - 53s 764ms/step - loss: 2.9974 - accuracy: 0.3424 - val_loss: 2.8335 - val_accuracy: 0.2523\n",
      "Epoch 5/500\n",
      "69/69 [==============================] - 53s 764ms/step - loss: 3.4146 - accuracy: 0.3333 - val_loss: 1.4050 - val_accuracy: 0.5679\n",
      "Epoch 6/500\n",
      "69/69 [==============================] - 53s 769ms/step - loss: 2.4622 - accuracy: 0.2925 - val_loss: 1.1993 - val_accuracy: 0.5688\n",
      "Epoch 7/500\n",
      "69/69 [==============================] - 53s 763ms/step - loss: 2.4411 - accuracy: 0.3718 - val_loss: 1.1808 - val_accuracy: 0.5202\n",
      "Epoch 8/500\n",
      "69/69 [==============================] - 53s 766ms/step - loss: 3.2626 - accuracy: 0.4034 - val_loss: 1.5938 - val_accuracy: 0.4505\n",
      "Epoch 9/500\n",
      "69/69 [==============================] - 53s 768ms/step - loss: 2.5253 - accuracy: 0.4268 - val_loss: 2.0329 - val_accuracy: 0.5385\n",
      "Epoch 10/500\n",
      "69/69 [==============================] - 53s 764ms/step - loss: 3.6224 - accuracy: 0.3651 - val_loss: 2.0871 - val_accuracy: 0.5972\n",
      "Epoch 11/500\n",
      "69/69 [==============================] - 53s 764ms/step - loss: 1.4236 - accuracy: 0.4939 - val_loss: 1.3251 - val_accuracy: 0.3404\n",
      "Epoch 12/500\n",
      "69/69 [==============================] - 53s 765ms/step - loss: 1.2870 - accuracy: 0.4577 - val_loss: 1.5875 - val_accuracy: 0.2853\n",
      "Epoch 13/500\n",
      "69/69 [==============================] - 53s 765ms/step - loss: 1.1848 - accuracy: 0.5047 - val_loss: 2.4334 - val_accuracy: 0.2009\n",
      "Epoch 14/500\n",
      "69/69 [==============================] - 53s 765ms/step - loss: 1.4039 - accuracy: 0.3979 - val_loss: 1.4499 - val_accuracy: 0.3679\n",
      "Epoch 15/500\n",
      "69/69 [==============================] - 53s 764ms/step - loss: 1.4098 - accuracy: 0.4566 - val_loss: 1.5777 - val_accuracy: 0.5917\n",
      "Epoch 16/500\n",
      "69/69 [==============================] - 53s 764ms/step - loss: 0.9894 - accuracy: 0.4903 - val_loss: 1.2816 - val_accuracy: 0.4046\n",
      "Epoch 17/500\n",
      "69/69 [==============================] - 53s 769ms/step - loss: 1.2640 - accuracy: 0.5198 - val_loss: 1.1918 - val_accuracy: 0.3982\n"
     ]
    },
    {
     "data": {
      "text/plain": [
       "<keras.callbacks.History at 0x29d5e4e81f0>"
      ]
     },
     "execution_count": 128,
     "metadata": {},
     "output_type": "execute_result"
    }
   ],
   "source": [
    "tf.keras.backend.clear_session()\n",
    "early =  tf.keras.callbacks.EarlyStopping(monitor='val_loss', patience=10, restore_best_weights=True)\n",
    "\n",
    "# Carregamento do modelo pré-treinado sem as camadas densas\n",
    "model_ResNet50 = tf.keras.applications.ResNet50(weights='imagenet', include_top=False, input_shape=(width,height,3))\n",
    "# Cria modelo para posterior fine tunning\n",
    "model_ResNet50_frozen = define_frozen_network(model_ResNet50, 4, n_classes)\n",
    "\n",
    "# Treina modelo\n",
    "model_ResNet50_frozen.fit(train_batches, \n",
    "                          epochs=500, \n",
    "                          class_weight=train_class_weights,\n",
    "                          validation_data=val_batches,\n",
    "                          callbacks=[early]\n",
    "                         )"
   ]
  },
  {
   "cell_type": "code",
   "execution_count": 129,
   "metadata": {},
   "outputs": [
    {
     "name": "stdout",
     "output_type": "stream",
     "text": [
      "18/18 [==============================] - 13s 658ms/step\n",
      "F1 score = 0.3176373743259617\n",
      "Balanced accuracy = 0.33648567119155354\n",
      "Relative confusion matrix:\n",
      "[[0.         0.22       0.78      ]\n",
      " [0.         0.26176471 0.73823529]\n",
      " [0.         0.25230769 0.74769231]]\n"
     ]
    }
   ],
   "source": [
    "# Predicao no conjunto de validacao\n",
    "y_val_pred = model_ResNet50_frozen.predict(val_batches)\n",
    "\n",
    "# Metricas\n",
    "print('F1 score = '+str(f1_score(val_batches.y.argmax(axis=-1),y_val_pred.argmax(axis=-1),average='macro')))\n",
    "print('Balanced accuracy = '+str(balanced_accuracy_score(val_batches.y.argmax(axis=-1),y_val_pred.argmax(axis=-1))))\n",
    "print('Relative confusion matrix:')\n",
    "print(confusion_matrix(val_batches.y.argmax(axis=-1),y_val_pred.argmax(axis=-1),normalize='true'))\n",
    "\n",
    "# Salva modelo\n",
    "model_ResNet50_frozen.save(PATH_TO_WEIGHTS + 'ResNet50_frozen.h5')"
   ]
  },
  {
   "cell_type": "markdown",
   "metadata": {},
   "source": [
    "#### ResNet152"
   ]
  },
  {
   "cell_type": "code",
   "execution_count": 130,
   "metadata": {},
   "outputs": [
    {
     "name": "stdout",
     "output_type": "stream",
     "text": [
      "Numero de parametros treinaveis: 1060867\n",
      "Epoch 1/500\n",
      "69/69 [==============================] - 147s 2s/step - loss: 5.1783 - accuracy: 0.3456 - val_loss: 16.0660 - val_accuracy: 0.0917\n",
      "Epoch 2/500\n",
      "69/69 [==============================] - 133s 2s/step - loss: 4.2593 - accuracy: 0.3931 - val_loss: 8.4782 - val_accuracy: 0.5963\n",
      "Epoch 3/500\n",
      "69/69 [==============================] - 134s 2s/step - loss: 5.8203 - accuracy: 0.3919 - val_loss: 4.7321 - val_accuracy: 0.5963\n",
      "Epoch 4/500\n",
      "69/69 [==============================] - 133s 2s/step - loss: 6.5642 - accuracy: 0.3440 - val_loss: 7.6716 - val_accuracy: 0.1174\n",
      "Epoch 5/500\n",
      "69/69 [==============================] - 134s 2s/step - loss: 6.1901 - accuracy: 0.3564 - val_loss: 1.5360 - val_accuracy: 0.3963\n",
      "Epoch 6/500\n",
      "69/69 [==============================] - 133s 2s/step - loss: 3.2660 - accuracy: 0.4864 - val_loss: 8.8434 - val_accuracy: 0.0972\n",
      "Epoch 7/500\n",
      "69/69 [==============================] - 133s 2s/step - loss: 4.3948 - accuracy: 0.3190 - val_loss: 5.7388 - val_accuracy: 0.2844\n",
      "Epoch 8/500\n",
      "69/69 [==============================] - 134s 2s/step - loss: 4.8857 - accuracy: 0.4378 - val_loss: 14.5096 - val_accuracy: 0.1541\n",
      "Epoch 9/500\n",
      "69/69 [==============================] - 133s 2s/step - loss: 3.1706 - accuracy: 0.4144 - val_loss: 2.5400 - val_accuracy: 0.5945\n",
      "Epoch 10/500\n",
      "69/69 [==============================] - 133s 2s/step - loss: 3.0877 - accuracy: 0.4020 - val_loss: 9.9826 - val_accuracy: 0.0917\n",
      "Epoch 11/500\n",
      "69/69 [==============================] - 133s 2s/step - loss: 4.8121 - accuracy: 0.2881 - val_loss: 6.0602 - val_accuracy: 0.1358\n",
      "Epoch 12/500\n",
      "69/69 [==============================] - 133s 2s/step - loss: 2.7580 - accuracy: 0.3582 - val_loss: 2.1603 - val_accuracy: 0.4028\n",
      "Epoch 13/500\n",
      "69/69 [==============================] - 133s 2s/step - loss: 2.3494 - accuracy: 0.4348 - val_loss: 1.9185 - val_accuracy: 0.3385\n",
      "Epoch 14/500\n",
      "69/69 [==============================] - 133s 2s/step - loss: 2.2363 - accuracy: 0.4889 - val_loss: 4.4076 - val_accuracy: 0.3697\n",
      "Epoch 15/500\n",
      "69/69 [==============================] - 133s 2s/step - loss: 2.0482 - accuracy: 0.4909 - val_loss: 3.9441 - val_accuracy: 0.3147\n"
     ]
    },
    {
     "data": {
      "text/plain": [
       "<keras.callbacks.History at 0x29d571a7c70>"
      ]
     },
     "execution_count": 130,
     "metadata": {},
     "output_type": "execute_result"
    }
   ],
   "source": [
    "tf.keras.backend.clear_session()\n",
    "early =  tf.keras.callbacks.EarlyStopping(monitor='val_loss', patience=10, restore_best_weights=True)\n",
    "\n",
    "# Carregamento do modelo pré-treinado sem as camadas densas\n",
    "model_ResNet152 = tf.keras.applications.resnet.ResNet152(weights='imagenet', include_top=False, input_shape=(width,height,3))\n",
    "# Cria modelo para posterior fine tunning\n",
    "model_ResNet152_frozen = define_frozen_network(model_ResNet152, 4, n_classes)\n",
    "\n",
    "# Treina modelo\n",
    "model_ResNet152_frozen.fit(train_batches, \n",
    "                           epochs=500, \n",
    "                           class_weight=train_class_weights,\n",
    "                           validation_data=val_batches,\n",
    "                           callbacks=[early]\n",
    "                          )"
   ]
  },
  {
   "cell_type": "code",
   "execution_count": 131,
   "metadata": {},
   "outputs": [
    {
     "name": "stdout",
     "output_type": "stream",
     "text": [
      "18/18 [==============================] - 26s 1s/step\n",
      "F1 score = 0.28043826716922216\n",
      "Balanced accuracy = 0.3159728506787331\n",
      "Relative confusion matrix:\n",
      "[[0.03       0.53       0.44      ]\n",
      " [0.00294118 0.61176471 0.38529412]\n",
      " [0.00461538 0.68923077 0.30615385]]\n"
     ]
    }
   ],
   "source": [
    "# Predicao no conjunto de validacao\n",
    "y_val_pred = model_ResNet152_frozen.predict(val_batches)\n",
    "\n",
    "# Metricas\n",
    "print('F1 score = '+str(f1_score(val_batches.y.argmax(axis=-1),y_val_pred.argmax(axis=-1),average='macro')))\n",
    "print('Balanced accuracy = '+str(balanced_accuracy_score(val_batches.y.argmax(axis=-1),y_val_pred.argmax(axis=-1))))\n",
    "print('Relative confusion matrix:')\n",
    "print(confusion_matrix(val_batches.y.argmax(axis=-1),y_val_pred.argmax(axis=-1),normalize='true'))\n",
    "\n",
    "# Salva modelo\n",
    "model_ResNet152_frozen.save(PATH_TO_WEIGHTS + 'ResNet152_frozen.h5')"
   ]
  },
  {
   "cell_type": "markdown",
   "metadata": {},
   "source": [
    "#### InceptionV3"
   ]
  },
  {
   "cell_type": "code",
   "execution_count": 107,
   "metadata": {},
   "outputs": [
    {
     "name": "stdout",
     "output_type": "stream",
     "text": [
      "Downloading data from https://storage.googleapis.com/tensorflow/keras-applications/inception_v3/inception_v3_weights_tf_dim_ordering_tf_kernels_notop.h5\n",
      "87910968/87910968 [==============================] - 13s 0us/step\n",
      "Numero de parametros treinaveis: 6147\n",
      "Epoch 1/500\n",
      "69/69 [==============================] - 21s 274ms/step - loss: 4484.1797 - accuracy: 0.4398 - val_loss: 15044.8115 - val_accuracy: 0.3119\n",
      "Epoch 2/500\n",
      "69/69 [==============================] - 19s 281ms/step - loss: 5347.6816 - accuracy: 0.2741 - val_loss: 8648.7920 - val_accuracy: 0.0917\n",
      "Epoch 3/500\n",
      "69/69 [==============================] - 19s 279ms/step - loss: 4621.1626 - accuracy: 0.3401 - val_loss: 1052.9166 - val_accuracy: 0.1394\n",
      "Epoch 4/500\n",
      "69/69 [==============================] - 20s 284ms/step - loss: 4101.3296 - accuracy: 0.2879 - val_loss: 911.6999 - val_accuracy: 0.5945\n",
      "Epoch 5/500\n",
      "69/69 [==============================] - 20s 295ms/step - loss: 5550.9326 - accuracy: 0.3463 - val_loss: 1103.6455 - val_accuracy: 0.3193\n",
      "Epoch 6/500\n",
      "69/69 [==============================] - 20s 294ms/step - loss: 5295.9551 - accuracy: 0.3440 - val_loss: 1908.8781 - val_accuracy: 0.5963\n",
      "Epoch 7/500\n",
      "69/69 [==============================] - 20s 293ms/step - loss: 3592.6663 - accuracy: 0.3126 - val_loss: 7719.1128 - val_accuracy: 0.0917\n",
      "Epoch 8/500\n",
      "69/69 [==============================] - 20s 290ms/step - loss: 2820.4873 - accuracy: 0.3264 - val_loss: 943.2827 - val_accuracy: 0.5349\n",
      "Epoch 9/500\n",
      "69/69 [==============================] - 20s 290ms/step - loss: 4441.7734 - accuracy: 0.3649 - val_loss: 2214.0735 - val_accuracy: 0.3202\n",
      "Epoch 10/500\n",
      "69/69 [==============================] - 20s 290ms/step - loss: 4419.1123 - accuracy: 0.4155 - val_loss: 1341.7548 - val_accuracy: 0.5963\n",
      "Epoch 11/500\n",
      "69/69 [==============================] - 20s 289ms/step - loss: 2480.9131 - accuracy: 0.3012 - val_loss: 1449.9489 - val_accuracy: 0.3119\n",
      "Epoch 12/500\n",
      "69/69 [==============================] - 20s 289ms/step - loss: 2979.0662 - accuracy: 0.3640 - val_loss: 1314.5924 - val_accuracy: 0.5514\n",
      "Epoch 13/500\n",
      "69/69 [==============================] - 20s 292ms/step - loss: 4150.1011 - accuracy: 0.2274 - val_loss: 1983.5880 - val_accuracy: 0.3119\n",
      "Epoch 14/500\n",
      "69/69 [==============================] - 20s 290ms/step - loss: 4566.6743 - accuracy: 0.2604 - val_loss: 1163.8846 - val_accuracy: 0.1752\n"
     ]
    },
    {
     "data": {
      "text/plain": [
       "<keras.callbacks.History at 0x29d4c296790>"
      ]
     },
     "execution_count": 107,
     "metadata": {},
     "output_type": "execute_result"
    }
   ],
   "source": [
    "tf.keras.backend.clear_session()\n",
    "early =  tf.keras.callbacks.EarlyStopping(monitor='val_loss', patience=10, restore_best_weights=True)\n",
    "\n",
    "# Carregamento do modelo pré-treinado sem as camadas densas\n",
    "model_InceptionV3 = tf.keras.applications.InceptionV3(weights='imagenet', include_top=False, input_shape=(width,height,3))\n",
    "# Cria modelo para posterior fine tunning\n",
    "model_InceptionV3_frozen = define_frozen_network(model_InceptionV3, 4, n_classes)\n",
    "\n",
    "# Treina modelo\n",
    "model_InceptionV3_frozen.fit(train_batches, \n",
    "                             epochs=500, \n",
    "                             class_weight=train_class_weights,\n",
    "                             validation_data=val_batches,\n",
    "                             callbacks=[early]\n",
    "                            )"
   ]
  },
  {
   "cell_type": "code",
   "execution_count": 123,
   "metadata": {},
   "outputs": [
    {
     "name": "stdout",
     "output_type": "stream",
     "text": [
      "18/18 [==============================] - 4s 200ms/step\n",
      "F1 score = 0.24918535556833432\n",
      "Balanced accuracy = 0.3333333333333333\n",
      "Relative confusion matrix:\n",
      "[[0.         0.         1.        ]\n",
      " [0.00294118 0.         0.99705882]\n",
      " [0.         0.         1.        ]]\n"
     ]
    }
   ],
   "source": [
    "# Predicao no conjunto de validacao\n",
    "y_val_pred = model_InceptionV3_frozen.predict(val_batches)\n",
    "\n",
    "# Metricas\n",
    "print('F1 score = '+str(f1_score(val_batches.y.argmax(axis=-1),y_val_pred.argmax(axis=-1),average='macro')))\n",
    "print('Balanced accuracy = '+str(balanced_accuracy_score(val_batches.y.argmax(axis=-1),y_val_pred.argmax(axis=-1))))\n",
    "print('Relative confusion matrix:')\n",
    "print(confusion_matrix(val_batches.y.argmax(axis=-1),y_val_pred.argmax(axis=-1),normalize='true'))\n",
    "\n",
    "# Salva modelo\n",
    "model_InceptionV3_frozen.save(PATH_TO_WEIGHTS + 'InceptionV3_frozen.h5')"
   ]
  },
  {
   "cell_type": "markdown",
   "metadata": {},
   "source": [
    "#### VGG16"
   ]
  },
  {
   "cell_type": "code",
   "execution_count": 113,
   "metadata": {},
   "outputs": [
    {
     "name": "stdout",
     "output_type": "stream",
     "text": [
      "Numero de parametros treinaveis: 2361347\n",
      "Epoch 1/500\n",
      "69/69 [==============================] - 56s 807ms/step - loss: 7.1670 - accuracy: 0.2329 - val_loss: 1.1037 - val_accuracy: 0.4596\n",
      "Epoch 2/500\n",
      "69/69 [==============================] - 55s 803ms/step - loss: 1.0694 - accuracy: 0.3780 - val_loss: 1.1307 - val_accuracy: 0.2505\n",
      "Epoch 3/500\n",
      "69/69 [==============================] - 54s 788ms/step - loss: 1.0222 - accuracy: 0.5072 - val_loss: 1.1182 - val_accuracy: 0.4321\n",
      "Epoch 4/500\n",
      "69/69 [==============================] - 55s 796ms/step - loss: 1.0428 - accuracy: 0.5042 - val_loss: 1.1118 - val_accuracy: 0.4367\n",
      "Epoch 5/500\n",
      "69/69 [==============================] - 56s 808ms/step - loss: 0.9493 - accuracy: 0.4566 - val_loss: 1.1216 - val_accuracy: 0.4266\n",
      "Epoch 6/500\n",
      "69/69 [==============================] - 55s 794ms/step - loss: 1.0498 - accuracy: 0.5267 - val_loss: 1.1120 - val_accuracy: 0.5138\n",
      "Epoch 7/500\n",
      "69/69 [==============================] - 57s 824ms/step - loss: 1.0141 - accuracy: 0.5036 - val_loss: 1.0905 - val_accuracy: 0.4826\n",
      "Epoch 8/500\n",
      "69/69 [==============================] - 60s 870ms/step - loss: 0.8919 - accuracy: 0.5625 - val_loss: 1.1539 - val_accuracy: 0.4211\n",
      "Epoch 9/500\n",
      "69/69 [==============================] - 57s 820ms/step - loss: 0.8260 - accuracy: 0.5966 - val_loss: 1.1653 - val_accuracy: 0.4550\n",
      "Epoch 10/500\n",
      "69/69 [==============================] - 56s 812ms/step - loss: 0.8726 - accuracy: 0.5929 - val_loss: 1.1143 - val_accuracy: 0.5220\n",
      "Epoch 11/500\n",
      "69/69 [==============================] - 57s 820ms/step - loss: 0.7850 - accuracy: 0.5620 - val_loss: 1.1305 - val_accuracy: 0.4963\n",
      "Epoch 12/500\n",
      "69/69 [==============================] - 57s 834ms/step - loss: 0.8148 - accuracy: 0.6209 - val_loss: 1.3715 - val_accuracy: 0.3119\n",
      "Epoch 13/500\n",
      "69/69 [==============================] - 56s 806ms/step - loss: 0.7305 - accuracy: 0.6039 - val_loss: 1.1549 - val_accuracy: 0.5028\n",
      "Epoch 14/500\n",
      "69/69 [==============================] - 58s 843ms/step - loss: 0.7463 - accuracy: 0.6489 - val_loss: 1.3122 - val_accuracy: 0.3596\n",
      "Epoch 15/500\n",
      "69/69 [==============================] - 57s 823ms/step - loss: 0.7717 - accuracy: 0.5959 - val_loss: 1.2295 - val_accuracy: 0.3881\n",
      "Epoch 16/500\n",
      "69/69 [==============================] - 57s 832ms/step - loss: 0.6945 - accuracy: 0.6521 - val_loss: 1.4350 - val_accuracy: 0.3147\n",
      "Epoch 17/500\n",
      "69/69 [==============================] - 57s 824ms/step - loss: 0.6823 - accuracy: 0.6424 - val_loss: 1.1751 - val_accuracy: 0.4734\n"
     ]
    },
    {
     "data": {
      "text/plain": [
       "<keras.callbacks.History at 0x29d524de8e0>"
      ]
     },
     "execution_count": 113,
     "metadata": {},
     "output_type": "execute_result"
    }
   ],
   "source": [
    "tf.keras.backend.clear_session()\n",
    "early =  tf.keras.callbacks.EarlyStopping(monitor='val_loss', patience=10, restore_best_weights=True)\n",
    "\n",
    "# Carregamento do modelo pré-treinado sem as camadas densas\n",
    "model_VGG16 = tf.keras.applications.VGG16(weights='imagenet', include_top=False, input_shape=(width,height,3))\n",
    "# Cria modelo para posterior fine tunning\n",
    "model_VGG16_frozen = define_frozen_network(model_VGG16, 2, n_classes)\n",
    "\n",
    "# Treina modelo\n",
    "model_VGG16_frozen.fit(train_batches,\n",
    "                       epochs=500, \n",
    "                       class_weight=train_class_weights,\n",
    "                       validation_data=val_batches,\n",
    "                       callbacks=[early]\n",
    "                      )"
   ]
  },
  {
   "cell_type": "code",
   "execution_count": 124,
   "metadata": {},
   "outputs": [
    {
     "name": "stdout",
     "output_type": "stream",
     "text": [
      "18/18 [==============================] - 19s 1s/step\n",
      "F1 score = 0.3290318686404194\n",
      "Balanced accuracy = 0.33057315233785817\n",
      "Relative confusion matrix:\n",
      "[[0.06       0.35       0.59      ]\n",
      " [0.06764706 0.27941176 0.65294118]\n",
      " [0.03538462 0.31230769 0.65230769]]\n"
     ]
    }
   ],
   "source": [
    "# Predicao no conjunto de validacao\n",
    "y_val_pred = model_VGG16_frozen.predict(val_batches)\n",
    "\n",
    "# Metricas\n",
    "print('F1 score = '+str(f1_score(val_batches.y.argmax(axis=-1),y_val_pred.argmax(axis=-1),average='macro')))\n",
    "print('Balanced accuracy = '+str(balanced_accuracy_score(val_batches.y.argmax(axis=-1),y_val_pred.argmax(axis=-1))))\n",
    "print('Relative confusion matrix:')\n",
    "print(confusion_matrix(val_batches.y.argmax(axis=-1),y_val_pred.argmax(axis=-1),normalize='true'))\n",
    "\n",
    "model_VGG16_frozen.save(PATH_TO_WEIGHTS + 'VGG16_frozen.h5')"
   ]
  },
  {
   "cell_type": "markdown",
   "metadata": {},
   "source": [
    "#### VGG19"
   ]
  },
  {
   "cell_type": "code",
   "execution_count": 115,
   "metadata": {},
   "outputs": [
    {
     "name": "stdout",
     "output_type": "stream",
     "text": [
      "Downloading data from https://storage.googleapis.com/tensorflow/keras-applications/vgg19/vgg19_weights_tf_dim_ordering_tf_kernels_notop.h5\n",
      "80134624/80134624 [==============================] - 10s 0us/step\n",
      "Numero de parametros treinaveis: 2361347\n",
      "Epoch 1/500\n",
      "69/69 [==============================] - 68s 976ms/step - loss: 12.6872 - accuracy: 0.2661 - val_loss: 1.1306 - val_accuracy: 0.1725\n",
      "Epoch 2/500\n",
      "69/69 [==============================] - 69s 997ms/step - loss: 1.0684 - accuracy: 0.3514 - val_loss: 1.1441 - val_accuracy: 0.1853\n",
      "Epoch 3/500\n",
      "69/69 [==============================] - 69s 1s/step - loss: 1.0316 - accuracy: 0.2815 - val_loss: 1.1133 - val_accuracy: 0.2633\n",
      "Epoch 4/500\n",
      "69/69 [==============================] - 71s 1s/step - loss: 1.0301 - accuracy: 0.4994 - val_loss: 1.1034 - val_accuracy: 0.4661\n",
      "Epoch 5/500\n",
      "69/69 [==============================] - 68s 986ms/step - loss: 0.9979 - accuracy: 0.4288 - val_loss: 1.0889 - val_accuracy: 0.4991\n",
      "Epoch 6/500\n",
      "69/69 [==============================] - 69s 999ms/step - loss: 0.9792 - accuracy: 0.5501 - val_loss: 1.1326 - val_accuracy: 0.4128\n",
      "Epoch 7/500\n",
      "69/69 [==============================] - 68s 980ms/step - loss: 0.9629 - accuracy: 0.5625 - val_loss: 1.1286 - val_accuracy: 0.4743\n",
      "Epoch 8/500\n",
      "69/69 [==============================] - 67s 973ms/step - loss: 0.9308 - accuracy: 0.5402 - val_loss: 1.1498 - val_accuracy: 0.4165\n",
      "Epoch 9/500\n",
      "69/69 [==============================] - 67s 977ms/step - loss: 1.0406 - accuracy: 0.5228 - val_loss: 1.1164 - val_accuracy: 0.4569\n",
      "Epoch 10/500\n",
      "69/69 [==============================] - 67s 974ms/step - loss: 0.9331 - accuracy: 0.5686 - val_loss: 1.1764 - val_accuracy: 0.4367\n",
      "Epoch 11/500\n",
      "69/69 [==============================] - 66s 962ms/step - loss: 0.8154 - accuracy: 0.5638 - val_loss: 1.2682 - val_accuracy: 0.5890\n",
      "Epoch 12/500\n",
      "69/69 [==============================] - 66s 958ms/step - loss: 0.8236 - accuracy: 0.5730 - val_loss: 1.1436 - val_accuracy: 0.4385\n",
      "Epoch 13/500\n",
      "69/69 [==============================] - 64s 934ms/step - loss: 0.7719 - accuracy: 0.6335 - val_loss: 1.2779 - val_accuracy: 0.3945\n",
      "Epoch 14/500\n",
      "69/69 [==============================] - 64s 929ms/step - loss: 0.8115 - accuracy: 0.5945 - val_loss: 1.2057 - val_accuracy: 0.4294\n",
      "Epoch 15/500\n",
      "69/69 [==============================] - 65s 939ms/step - loss: 0.7802 - accuracy: 0.6076 - val_loss: 1.1473 - val_accuracy: 0.4780\n"
     ]
    },
    {
     "data": {
      "text/plain": [
       "<keras.callbacks.History at 0x29d586e76d0>"
      ]
     },
     "execution_count": 115,
     "metadata": {},
     "output_type": "execute_result"
    }
   ],
   "source": [
    "tf.keras.backend.clear_session()\n",
    "early =  tf.keras.callbacks.EarlyStopping(monitor='val_loss', patience=10, restore_best_weights=True)\n",
    "\n",
    "# Carregamento do modelo pré-treinado sem as camadas densas\n",
    "model_VGG19 = tf.keras.applications.VGG19(weights='imagenet', include_top=False, input_shape=(width,height,3))\n",
    "# Cria modelo para posterior fine tunning\n",
    "model_VGG19_frozen = define_frozen_network(model_VGG19, 2, n_classes)\n",
    "\n",
    "# Treina modelo\n",
    "model_VGG19_frozen.fit(train_batches,\n",
    "                       epochs=500, \n",
    "                       class_weight=train_class_weights,\n",
    "                       validation_data=val_batches,\n",
    "                       callbacks=[early]\n",
    "                      )"
   ]
  },
  {
   "cell_type": "code",
   "execution_count": 125,
   "metadata": {},
   "outputs": [
    {
     "name": "stdout",
     "output_type": "stream",
     "text": [
      "18/18 [==============================] - 23s 1s/step\n",
      "F1 score = 0.3091620032937992\n",
      "Balanced accuracy = 0.31576168929110104\n",
      "Relative confusion matrix:\n",
      "[[0.02       0.28       0.7       ]\n",
      " [0.09117647 0.20882353 0.7       ]\n",
      " [0.08615385 0.19538462 0.71846154]]\n"
     ]
    }
   ],
   "source": [
    "# Predicao no conjunto de validacao\n",
    "y_val_pred = model_VGG19_frozen.predict(val_batches)\n",
    "\n",
    "# Metricas\n",
    "print('F1 score = '+str(f1_score(val_batches.y.argmax(axis=-1),y_val_pred.argmax(axis=-1),average='macro')))\n",
    "print('Balanced accuracy = '+str(balanced_accuracy_score(val_batches.y.argmax(axis=-1),y_val_pred.argmax(axis=-1))))\n",
    "print('Relative confusion matrix:')\n",
    "print(confusion_matrix(val_batches.y.argmax(axis=-1),y_val_pred.argmax(axis=-1),normalize='true'))\n",
    "\n",
    "model_VGG19_frozen.save(PATH_TO_WEIGHTS + 'VGG19_frozen.h5')"
   ]
  },
  {
   "cell_type": "markdown",
   "metadata": {},
   "source": [
    "#### EfficientNetV2B0"
   ]
  },
  {
   "cell_type": "code",
   "execution_count": 26,
   "metadata": {},
   "outputs": [
    {
     "name": "stdout",
     "output_type": "stream",
     "text": [
      "Numero de parametros treinaveis: 252163\n",
      "Epoch 1/500\n",
      "69/69 [==============================] - 22s 264ms/step - loss: 1.2141 - accuracy: 0.2812 - val_loss: 1.1164 - val_accuracy: 0.3193\n",
      "Epoch 2/500\n",
      "69/69 [==============================] - 17s 244ms/step - loss: 1.2018 - accuracy: 0.2948 - val_loss: 1.1246 - val_accuracy: 0.3009\n",
      "Epoch 3/500\n",
      "69/69 [==============================] - 16s 238ms/step - loss: 1.1684 - accuracy: 0.2659 - val_loss: 1.1351 - val_accuracy: 0.3018\n",
      "Epoch 4/500\n",
      "69/69 [==============================] - 17s 241ms/step - loss: 1.1530 - accuracy: 0.3035 - val_loss: 1.1921 - val_accuracy: 0.2908\n",
      "Epoch 5/500\n",
      "69/69 [==============================] - 17s 245ms/step - loss: 1.1458 - accuracy: 0.2569 - val_loss: 1.1472 - val_accuracy: 0.2927\n",
      "Epoch 6/500\n",
      "69/69 [==============================] - 17s 241ms/step - loss: 1.1337 - accuracy: 0.2732 - val_loss: 1.1247 - val_accuracy: 0.2853\n",
      "Epoch 7/500\n",
      "69/69 [==============================] - 16s 237ms/step - loss: 1.1345 - accuracy: 0.2766 - val_loss: 1.1396 - val_accuracy: 0.2817\n",
      "Epoch 8/500\n",
      "69/69 [==============================] - 17s 240ms/step - loss: 1.1298 - accuracy: 0.3055 - val_loss: 1.2009 - val_accuracy: 0.2596\n",
      "Epoch 9/500\n",
      "69/69 [==============================] - 17s 244ms/step - loss: 1.1286 - accuracy: 0.2817 - val_loss: 1.1361 - val_accuracy: 0.2872\n",
      "Epoch 10/500\n",
      "69/69 [==============================] - 16s 237ms/step - loss: 1.1250 - accuracy: 0.2966 - val_loss: 1.1787 - val_accuracy: 0.2578\n",
      "Epoch 11/500\n",
      "69/69 [==============================] - 17s 242ms/step - loss: 1.1204 - accuracy: 0.2535 - val_loss: 1.1166 - val_accuracy: 0.2890\n"
     ]
    },
    {
     "data": {
      "text/plain": [
       "<keras.callbacks.History at 0x2b6bf1eabe0>"
      ]
     },
     "execution_count": 26,
     "metadata": {},
     "output_type": "execute_result"
    }
   ],
   "source": [
    "tf.keras.backend.clear_session()\n",
    "early =  tf.keras.callbacks.EarlyStopping(monitor='val_loss', patience=10, restore_best_weights=True)\n",
    "\n",
    "# Carregamento do modelo pré-treinado sem as camadas densas\n",
    "model_EfficientNetV2B0 = tf.keras.applications.EfficientNetV2B0(weights='imagenet', include_top=False, input_shape=(width,height,3))\n",
    "# Cria modelo para posterior fine tunning\n",
    "model_EfficientNetV2B0_frozen = define_frozen_network(model_EfficientNetV2B0, 4, n_classes)\n",
    "\n",
    "# Treina modelo\n",
    "model_EfficientNetV2B0_frozen.fit(train_batches,\n",
    "                                  epochs=500, \n",
    "                                  class_weight=train_class_weights,\n",
    "                                  validation_data=val_batches,\n",
    "                                  callbacks=[early]\n",
    "                                 )"
   ]
  },
  {
   "cell_type": "code",
   "execution_count": 27,
   "metadata": {},
   "outputs": [
    {
     "name": "stdout",
     "output_type": "stream",
     "text": [
      "18/18 [==============================] - 4s 182ms/step\n",
      "F1 score = 0.2987120869172089\n",
      "Balanced accuracy = 0.3540874811463047\n",
      "Relative confusion matrix:\n",
      "[[0.44       0.21       0.35      ]\n",
      " [0.38529412 0.31764706 0.29705882]\n",
      " [0.41846154 0.27692308 0.30461538]]\n"
     ]
    }
   ],
   "source": [
    "# Predicao no conjunto de validacao\n",
    "y_val_pred = model_EfficientNetV2B0_frozen.predict(val_batches)\n",
    "\n",
    "# Metricas\n",
    "print('F1 score = '+str(f1_score(val_batches.y.argmax(axis=-1),y_val_pred.argmax(axis=-1),average='macro')))\n",
    "print('Balanced accuracy = '+str(balanced_accuracy_score(val_batches.y.argmax(axis=-1),y_val_pred.argmax(axis=-1))))\n",
    "print('Relative confusion matrix:')\n",
    "print(confusion_matrix(val_batches.y.argmax(axis=-1),y_val_pred.argmax(axis=-1),normalize='true'))\n",
    "\n",
    "model_EfficientNetV2B0_frozen.save(PATH_TO_WEIGHTS + 'EfficientNetV2B0_frozen.h5')"
   ]
  },
  {
   "cell_type": "markdown",
   "metadata": {},
   "source": [
    "#### EfficientNetV2M"
   ]
  },
  {
   "cell_type": "code",
   "execution_count": 119,
   "metadata": {},
   "outputs": [
    {
     "name": "stdout",
     "output_type": "stream",
     "text": [
      "Downloading data from https://storage.googleapis.com/tensorflow/keras-applications/efficientnet_v2/efficientnetv2-m_notop.h5\n",
      "214201816/214201816 [==============================] - 33s 0us/step\n",
      "Numero de parametros treinaveis: 661763\n",
      "Epoch 1/500\n",
      "69/69 [==============================] - 104s 1s/step - loss: 1.1633 - accuracy: 0.3216 - val_loss: 1.1177 - val_accuracy: 0.3596\n",
      "Epoch 2/500\n",
      "69/69 [==============================] - 89s 1s/step - loss: 1.1624 - accuracy: 0.3397 - val_loss: 1.1747 - val_accuracy: 0.2679\n",
      "Epoch 3/500\n",
      "69/69 [==============================] - 91s 1s/step - loss: 1.1360 - accuracy: 0.2993 - val_loss: 1.1035 - val_accuracy: 0.3688\n",
      "Epoch 4/500\n",
      "69/69 [==============================] - 93s 1s/step - loss: 1.1422 - accuracy: 0.2821 - val_loss: 1.0856 - val_accuracy: 0.3789\n",
      "Epoch 5/500\n",
      "69/69 [==============================] - 94s 1s/step - loss: 1.1534 - accuracy: 0.3076 - val_loss: 1.0826 - val_accuracy: 0.3761\n",
      "Epoch 6/500\n",
      "69/69 [==============================] - 92s 1s/step - loss: 1.1377 - accuracy: 0.3365 - val_loss: 1.1318 - val_accuracy: 0.3028\n",
      "Epoch 7/500\n",
      "69/69 [==============================] - 90s 1s/step - loss: 1.1238 - accuracy: 0.3351 - val_loss: 1.1258 - val_accuracy: 0.3284\n",
      "Epoch 8/500\n",
      "69/69 [==============================] - 87s 1s/step - loss: 1.1259 - accuracy: 0.3280 - val_loss: 1.1086 - val_accuracy: 0.3523\n",
      "Epoch 9/500\n",
      "69/69 [==============================] - 88s 1s/step - loss: 1.1232 - accuracy: 0.2771 - val_loss: 1.1086 - val_accuracy: 0.3486\n",
      "Epoch 10/500\n",
      "69/69 [==============================] - 89s 1s/step - loss: 1.1241 - accuracy: 0.3397 - val_loss: 1.1025 - val_accuracy: 0.3422\n",
      "Epoch 11/500\n",
      "69/69 [==============================] - 87s 1s/step - loss: 1.1253 - accuracy: 0.3805 - val_loss: 1.0914 - val_accuracy: 0.3670\n",
      "Epoch 12/500\n",
      "69/69 [==============================] - 87s 1s/step - loss: 1.1142 - accuracy: 0.3303 - val_loss: 1.1287 - val_accuracy: 0.3101\n",
      "Epoch 13/500\n",
      "69/69 [==============================] - 87s 1s/step - loss: 1.1147 - accuracy: 0.3170 - val_loss: 1.1204 - val_accuracy: 0.3239\n",
      "Epoch 14/500\n",
      "69/69 [==============================] - 88s 1s/step - loss: 1.1194 - accuracy: 0.3592 - val_loss: 1.1052 - val_accuracy: 0.3404\n",
      "Epoch 15/500\n",
      "69/69 [==============================] - 88s 1s/step - loss: 1.1193 - accuracy: 0.3236 - val_loss: 1.1360 - val_accuracy: 0.3083\n"
     ]
    },
    {
     "data": {
      "text/plain": [
       "<keras.callbacks.History at 0x29d5708bfd0>"
      ]
     },
     "execution_count": 119,
     "metadata": {},
     "output_type": "execute_result"
    }
   ],
   "source": [
    "tf.keras.backend.clear_session()\n",
    "early =  tf.keras.callbacks.EarlyStopping(monitor='val_loss', patience=10, restore_best_weights=True)\n",
    "\n",
    "# Carregamento do modelo pré-treinado sem as camadas densas\n",
    "model_EfficientNetV2M = tf.keras.applications.EfficientNetV2M(weights='imagenet', include_top=False, input_shape=(width,height,3))\n",
    "# Cria modelo para posterior fine tunning\n",
    "model_EfficientNetV2M_frozen = define_frozen_network(model_EfficientNetV2M, 4, n_classes)\n",
    "\n",
    "# Treina modelo\n",
    "model_EfficientNetV2M_frozen.fit(train_batches,\n",
    "                                 epochs=500, \n",
    "                                 class_weight=train_class_weights,\n",
    "                                 validation_data=val_batches,\n",
    "                                 callbacks=[early]\n",
    "                                )"
   ]
  },
  {
   "cell_type": "code",
   "execution_count": 127,
   "metadata": {},
   "outputs": [
    {
     "name": "stdout",
     "output_type": "stream",
     "text": [
      "18/18 [==============================] - 19s 1s/step\n",
      "F1 score = 0.30587029068635646\n",
      "Balanced accuracy = 0.31874811463046754\n",
      "Relative confusion matrix:\n",
      "[[0.22       0.4        0.38      ]\n",
      " [0.25294118 0.31470588 0.43235294]\n",
      " [0.23846154 0.34       0.42153846]]\n",
      "WARNING:tensorflow:Compiled the loaded model, but the compiled metrics have yet to be built. `model.compile_metrics` will be empty until you train or evaluate the model.\n"
     ]
    },
    {
     "name": "stderr",
     "output_type": "stream",
     "text": [
      "WARNING:tensorflow:Compiled the loaded model, but the compiled metrics have yet to be built. `model.compile_metrics` will be empty until you train or evaluate the model.\n"
     ]
    }
   ],
   "source": [
    "# Predicao no conjunto de validacao\n",
    "y_val_pred = model_EfficientNetV2M_frozen.predict(val_batches)\n",
    "\n",
    "# Metricas\n",
    "print('F1 score = '+str(f1_score(val_batches.y.argmax(axis=-1),y_val_pred.argmax(axis=-1),average='macro')))\n",
    "print('Balanced accuracy = '+str(balanced_accuracy_score(val_batches.y.argmax(axis=-1),y_val_pred.argmax(axis=-1))))\n",
    "print('Relative confusion matrix:')\n",
    "print(confusion_matrix(val_batches.y.argmax(axis=-1),y_val_pred.argmax(axis=-1),normalize='true'))\n",
    "\n",
    "model_EfficientNetV2M_frozen.save(PATH_TO_WEIGHTS + 'EfficientNetV2M_frozen.h5')"
   ]
  },
  {
   "cell_type": "markdown",
   "metadata": {},
   "source": [
    "## Compilação dos resultados\n",
    "\n",
    "Em termos de acurácia normalizada, as melhores arquiteturas foram:\n",
    "1. EfficientNetV2B0 = 34.63%\n",
    "2. ResNet50 = 33.65%\n",
    "3. InceptionV3 = 33.33%\n",
    "4. VGG16 = 33.06%\n",
    "5. EfficientNetV2M = 31.87%\n",
    "6. ResNet152 = 31.60%\n",
    "7. VGG19 = 31.58%\n",
    "\n",
    "No geral, nenhuma das redes cons"
   ]
  }
 ],
 "metadata": {
  "colab": {
   "collapsed_sections": [],
   "name": "analise_sentimento_memes.ipynb",
   "provenance": []
  },
  "kernelspec": {
   "display_name": "Python 3 (ipykernel)",
   "language": "python",
   "name": "python3"
  },
  "language_info": {
   "codemirror_mode": {
    "name": "ipython",
    "version": 3
   },
   "file_extension": ".py",
   "mimetype": "text/x-python",
   "name": "python",
   "nbconvert_exporter": "python",
   "pygments_lexer": "ipython3",
   "version": "3.7.0"
  },
  "vscode": {
   "interpreter": {
    "hash": "f2487189b5835e73c5fa6cd7f2ed518f6fa1ff6c9bd8da44d17cb8ab10f576c2"
   }
  }
 },
 "nbformat": 4,
 "nbformat_minor": 4
}
