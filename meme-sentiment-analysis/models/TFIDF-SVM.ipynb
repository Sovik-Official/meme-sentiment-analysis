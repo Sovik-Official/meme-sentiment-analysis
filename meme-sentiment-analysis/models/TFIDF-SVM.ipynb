{
  "cells": [
    {
      "cell_type": "code",
      "execution_count": 2,
      "metadata": {
        "colab": {
          "base_uri": "https://localhost:8080/"
        },
        "id": "0YUF9DN_zPxS",
        "outputId": "0a4ddd8f-5549-456b-d23b-4b3add686868"
      },
      "outputs": [
        {
          "name": "stderr",
          "output_type": "stream",
          "text": [
            "[nltk_data] Downloading package stopwords to C:\\Users\\Fillipe\n",
            "[nltk_data]     Santos\\AppData\\Roaming\\nltk_data...\n",
            "[nltk_data]   Package stopwords is already up-to-date!\n"
          ]
        }
      ],
      "source": [
        "import pandas as pd\n",
        "import numpy as np\n",
        "\n",
        "import matplotlib.pyplot as plt\n",
        "\n",
        "from sklearn.feature_extraction.text import TfidfVectorizer\n",
        "from sklearn.utils import class_weight \n",
        "\n",
        "import seaborn as sns\n",
        "\n",
        "import nltk\n",
        "from nltk.corpus import stopwords\n",
        "nltk.download('stopwords')\n",
        "\n",
        "from sklearn.model_selection import GridSearchCV\n",
        "\n",
        "from sklearn.svm import SVC\n",
        "from sklearn.metrics import confusion_matrix\n",
        "from sklearn.metrics import balanced_accuracy_score\n",
        "from sklearn.metrics import f1_score\n",
        "\n",
        "from sklearn.model_selection import train_test_split\n",
        "\n",
        "import yaml"
      ]
    },
    {
      "cell_type": "code",
      "execution_count": 3,
      "metadata": {},
      "outputs": [],
      "source": [
        "with open(\"../../config.yaml\", \"r\") as stream:\n",
        "    try:\n",
        "        configs = yaml.safe_load(stream)\n",
        "    except yaml.YAMLError as exc:\n",
        "        print(exc)"
      ]
    },
    {
      "cell_type": "code",
      "execution_count": 4,
      "metadata": {},
      "outputs": [],
      "source": [
        "PATH_TO_TRAIN_DS_PROCESSED = str(configs['ROOT_DIR'] + configs['PATH_TO_TRAIN_DS_PROCESSED'])"
      ]
    },
    {
      "cell_type": "code",
      "execution_count": 5,
      "metadata": {
        "id": "3LQZtcVmJeMc"
      },
      "outputs": [
        {
          "data": {
            "text/html": [
              "<div>\n",
              "<style scoped>\n",
              "    .dataframe tbody tr th:only-of-type {\n",
              "        vertical-align: middle;\n",
              "    }\n",
              "\n",
              "    .dataframe tbody tr th {\n",
              "        vertical-align: top;\n",
              "    }\n",
              "\n",
              "    .dataframe thead th {\n",
              "        text-align: right;\n",
              "    }\n",
              "</style>\n",
              "<table border=\"1\" class=\"dataframe\">\n",
              "  <thead>\n",
              "    <tr style=\"text-align: right;\">\n",
              "      <th></th>\n",
              "      <th>image_name</th>\n",
              "      <th>text</th>\n",
              "      <th>humour</th>\n",
              "      <th>sarcasm</th>\n",
              "      <th>offensive</th>\n",
              "      <th>motivational</th>\n",
              "      <th>target</th>\n",
              "    </tr>\n",
              "  </thead>\n",
              "  <tbody>\n",
              "    <tr>\n",
              "      <th>0</th>\n",
              "      <td>image_1415.jpeg</td>\n",
              "      <td>if you want to view paradis simpli look around...</td>\n",
              "      <td>not_funny</td>\n",
              "      <td>not_sarcastic</td>\n",
              "      <td>not_offensive</td>\n",
              "      <td>motivational</td>\n",
              "      <td>positive</td>\n",
              "    </tr>\n",
              "    <tr>\n",
              "      <th>1</th>\n",
              "      <td>image_6460.png</td>\n",
              "      <td>if i had a brick for everi lie hillari told i ...</td>\n",
              "      <td>hilarious</td>\n",
              "      <td>general</td>\n",
              "      <td>very_offensive</td>\n",
              "      <td>motivational</td>\n",
              "      <td>positive</td>\n",
              "    </tr>\n",
              "    <tr>\n",
              "      <th>2</th>\n",
              "      <td>image_2303.png</td>\n",
              "      <td>that thing over there can i eat that</td>\n",
              "      <td>very_funny</td>\n",
              "      <td>general</td>\n",
              "      <td>not_offensive</td>\n",
              "      <td>motivational</td>\n",
              "      <td>very_positive</td>\n",
              "    </tr>\n",
              "    <tr>\n",
              "      <th>3</th>\n",
              "      <td>image_2417.png</td>\n",
              "      <td>my dad point to liam and said when did david b...</td>\n",
              "      <td>not_funny</td>\n",
              "      <td>general</td>\n",
              "      <td>very_offensive</td>\n",
              "      <td>motivational</td>\n",
              "      <td>neutral</td>\n",
              "    </tr>\n",
              "    <tr>\n",
              "      <th>4</th>\n",
              "      <td>image_11.jpg</td>\n",
              "      <td>probabl the first man to do year challeng chen...</td>\n",
              "      <td>funny</td>\n",
              "      <td>general</td>\n",
              "      <td>very_offensive</td>\n",
              "      <td>motivational</td>\n",
              "      <td>negative</td>\n",
              "    </tr>\n",
              "  </tbody>\n",
              "</table>\n",
              "</div>"
            ],
            "text/plain": [
              "        image_name                                               text  \\\n",
              "0  image_1415.jpeg  if you want to view paradis simpli look around...   \n",
              "1   image_6460.png  if i had a brick for everi lie hillari told i ...   \n",
              "2   image_2303.png               that thing over there can i eat that   \n",
              "3   image_2417.png  my dad point to liam and said when did david b...   \n",
              "4     image_11.jpg  probabl the first man to do year challeng chen...   \n",
              "\n",
              "       humour        sarcasm       offensive  motivational         target  \n",
              "0   not_funny  not_sarcastic   not_offensive  motivational       positive  \n",
              "1   hilarious        general  very_offensive  motivational       positive  \n",
              "2  very_funny        general   not_offensive  motivational  very_positive  \n",
              "3   not_funny        general  very_offensive  motivational        neutral  \n",
              "4       funny        general  very_offensive  motivational       negative  "
            ]
          },
          "execution_count": 5,
          "metadata": {},
          "output_type": "execute_result"
        }
      ],
      "source": [
        "base = pd.read_csv(PATH_TO_TRAIN_DS_PROCESSED)\n",
        "base.head()"
      ]
    },
    {
      "cell_type": "code",
      "execution_count": 75,
      "metadata": {},
      "outputs": [
        {
          "data": {
            "text/html": [
              "<div>\n",
              "<style scoped>\n",
              "    .dataframe tbody tr th:only-of-type {\n",
              "        vertical-align: middle;\n",
              "    }\n",
              "\n",
              "    .dataframe tbody tr th {\n",
              "        vertical-align: top;\n",
              "    }\n",
              "\n",
              "    .dataframe thead th {\n",
              "        text-align: right;\n",
              "    }\n",
              "</style>\n",
              "<table border=\"1\" class=\"dataframe\">\n",
              "  <thead>\n",
              "    <tr style=\"text-align: right;\">\n",
              "      <th></th>\n",
              "      <th>text</th>\n",
              "      <th>target</th>\n",
              "      <th>num_target</th>\n",
              "    </tr>\n",
              "  </thead>\n",
              "  <tbody>\n",
              "    <tr>\n",
              "      <th>0</th>\n",
              "      <td>if you want to view paradis simpli look around...</td>\n",
              "      <td>positive</td>\n",
              "      <td>2</td>\n",
              "    </tr>\n",
              "    <tr>\n",
              "      <th>1</th>\n",
              "      <td>if i had a brick for everi lie hillari told i ...</td>\n",
              "      <td>positive</td>\n",
              "      <td>2</td>\n",
              "    </tr>\n",
              "    <tr>\n",
              "      <th>2</th>\n",
              "      <td>that thing over there can i eat that</td>\n",
              "      <td>positive</td>\n",
              "      <td>2</td>\n",
              "    </tr>\n",
              "    <tr>\n",
              "      <th>3</th>\n",
              "      <td>my dad point to liam and said when did david b...</td>\n",
              "      <td>neutral</td>\n",
              "      <td>1</td>\n",
              "    </tr>\n",
              "    <tr>\n",
              "      <th>4</th>\n",
              "      <td>probabl the first man to do year challeng chen...</td>\n",
              "      <td>negative</td>\n",
              "      <td>0</td>\n",
              "    </tr>\n",
              "  </tbody>\n",
              "</table>\n",
              "</div>"
            ],
            "text/plain": [
              "                                                text    target  num_target\n",
              "0  if you want to view paradis simpli look around...  positive           2\n",
              "1  if i had a brick for everi lie hillari told i ...  positive           2\n",
              "2               that thing over there can i eat that  positive           2\n",
              "3  my dad point to liam and said when did david b...   neutral           1\n",
              "4  probabl the first man to do year challeng chen...  negative           0"
            ]
          },
          "execution_count": 75,
          "metadata": {},
          "output_type": "execute_result"
        }
      ],
      "source": [
        "base_train_val = base.copy().drop(['image_name', 'humour', 'sarcasm', 'offensive', 'motivational'], axis = 1)\n",
        "base_train_val.target.replace(\"very_positive\", \n",
        "           \"positive\", \n",
        "           inplace=True)\n",
        "base_train_val.target.replace(\"very_negative\", \n",
        "           \"negative\", \n",
        "           inplace=True)   \n",
        "base_train_val['num_target'] = base_train_val.target.astype('category').cat.codes    \n",
        "base_train_val.head()"
      ]
    },
    {
      "cell_type": "markdown",
      "metadata": {
        "id": "PYgMSGg-aQEC"
      },
      "source": [
        "# Baselines"
      ]
    },
    {
      "cell_type": "markdown",
      "metadata": {
        "id": "km5MvX4dzZbB"
      },
      "source": [
        "\n",
        "## Modelo 1: TF-IDF + SVM"
      ]
    },
    {
      "cell_type": "code",
      "execution_count": 76,
      "metadata": {},
      "outputs": [
        {
          "data": {
            "text/html": [
              "<div>\n",
              "<style scoped>\n",
              "    .dataframe tbody tr th:only-of-type {\n",
              "        vertical-align: middle;\n",
              "    }\n",
              "\n",
              "    .dataframe tbody tr th {\n",
              "        vertical-align: top;\n",
              "    }\n",
              "\n",
              "    .dataframe thead th {\n",
              "        text-align: right;\n",
              "    }\n",
              "</style>\n",
              "<table border=\"1\" class=\"dataframe\">\n",
              "  <thead>\n",
              "    <tr style=\"text-align: right;\">\n",
              "      <th></th>\n",
              "      <th>text</th>\n",
              "      <th>target</th>\n",
              "      <th>num_target</th>\n",
              "    </tr>\n",
              "  </thead>\n",
              "  <tbody>\n",
              "    <tr>\n",
              "      <th>4223</th>\n",
              "      <td>doe anyon els wish we could trade these peopl ...</td>\n",
              "      <td>positive</td>\n",
              "      <td>2</td>\n",
              "    </tr>\n",
              "    <tr>\n",
              "      <th>1202</th>\n",
              "      <td>obama run from spooki meme</td>\n",
              "      <td>negative</td>\n",
              "      <td>0</td>\n",
              "    </tr>\n",
              "    <tr>\n",
              "      <th>3262</th>\n",
              "      <td>today is nation best friend day lovecasm tall ...</td>\n",
              "      <td>positive</td>\n",
              "      <td>2</td>\n",
              "    </tr>\n",
              "    <tr>\n",
              "      <th>4683</th>\n",
              "      <td>i dont know if you got ani of that but id real...</td>\n",
              "      <td>positive</td>\n",
              "      <td>2</td>\n",
              "    </tr>\n",
              "    <tr>\n",
              "      <th>2600</th>\n",
              "      <td>be care who you make fun of in high school</td>\n",
              "      <td>positive</td>\n",
              "      <td>2</td>\n",
              "    </tr>\n",
              "  </tbody>\n",
              "</table>\n",
              "</div>"
            ],
            "text/plain": [
              "                                                   text    target  num_target\n",
              "4223  doe anyon els wish we could trade these peopl ...  positive           2\n",
              "1202                         obama run from spooki meme  negative           0\n",
              "3262  today is nation best friend day lovecasm tall ...  positive           2\n",
              "4683  i dont know if you got ani of that but id real...  positive           2\n",
              "2600         be care who you make fun of in high school  positive           2"
            ]
          },
          "execution_count": 76,
          "metadata": {},
          "output_type": "execute_result"
        }
      ],
      "source": [
        "train, val = train_test_split(base_train_val, test_size=0.2, random_state=SEED)\n",
        "train.head()"
      ]
    },
    {
      "cell_type": "markdown",
      "metadata": {
        "id": "hs_UBBbKpJHk"
      },
      "source": [
        "## Modelo TF-IDF + SVM (desbalanceado)"
      ]
    },
    {
      "cell_type": "code",
      "execution_count": 77,
      "metadata": {
        "id": "lJadh2LMHW32"
      },
      "outputs": [],
      "source": [
        "stop_words = stopwords.words('english')\n",
        "tfidf_vectorizer = TfidfVectorizer(\n",
        "                              stop_words = stop_words,\n",
        "                              smooth_idf=True, # impede a divisão zero para palavras não vistas\n",
        "                              max_features = 500\n",
        "                              )"
      ]
    },
    {
      "cell_type": "code",
      "execution_count": 78,
      "metadata": {
        "id": "4qPQKR_hTZq4"
      },
      "outputs": [],
      "source": [
        "#Treino\n",
        "list_text = train.text.tolist()\n",
        "X_train = tfidf_vectorizer.fit_transform(list_text).toarray()\n",
        "y_train = train.num_target\n",
        "\n",
        "#Validação\n",
        "list_text = val.text.tolist()\n",
        "X_val = tfidf_vectorizer.transform(list_text).toarray()\n",
        "y_val = val.num_target"
      ]
    },
    {
      "cell_type": "code",
      "execution_count": 79,
      "metadata": {
        "colab": {
          "base_uri": "https://localhost:8080/"
        },
        "id": "0xeY2ojSPRKH",
        "outputId": "75e3a858-07d1-4e4e-880e-a406a03454bd"
      },
      "outputs": [
        {
          "name": "stdout",
          "output_type": "stream",
          "text": [
            "Fitting 5 folds for each of 50 candidates, totalling 250 fits\n",
            "[CV 1/5] END ...C=0.1, gamma=1.0, kernel=linear;, score=0.596 total time=   5.7s\n",
            "[CV 2/5] END ...C=0.1, gamma=1.0, kernel=linear;, score=0.596 total time=   6.5s\n",
            "[CV 3/5] END ...C=0.1, gamma=1.0, kernel=linear;, score=0.596 total time=   4.9s\n",
            "[CV 4/5] END ...C=0.1, gamma=1.0, kernel=linear;, score=0.595 total time=   4.6s\n",
            "[CV 5/5] END ...C=0.1, gamma=1.0, kernel=linear;, score=0.595 total time=   4.8s\n",
            "[CV 1/5] END ......C=0.1, gamma=1.0, kernel=rbf;, score=0.596 total time=   6.8s\n",
            "[CV 2/5] END ......C=0.1, gamma=1.0, kernel=rbf;, score=0.596 total time=   6.8s\n",
            "[CV 3/5] END ......C=0.1, gamma=1.0, kernel=rbf;, score=0.596 total time=   6.9s\n",
            "[CV 4/5] END ......C=0.1, gamma=1.0, kernel=rbf;, score=0.595 total time=   6.9s\n",
            "[CV 5/5] END ......C=0.1, gamma=1.0, kernel=rbf;, score=0.595 total time=   6.9s\n",
            "[CV 1/5] END ...C=0.1, gamma=0.1, kernel=linear;, score=0.596 total time=   4.7s\n",
            "[CV 2/5] END ...C=0.1, gamma=0.1, kernel=linear;, score=0.596 total time=   4.8s\n",
            "[CV 3/5] END ...C=0.1, gamma=0.1, kernel=linear;, score=0.596 total time=   4.4s\n",
            "[CV 4/5] END ...C=0.1, gamma=0.1, kernel=linear;, score=0.595 total time=   4.3s\n",
            "[CV 5/5] END ...C=0.1, gamma=0.1, kernel=linear;, score=0.595 total time=   4.3s\n",
            "[CV 1/5] END ......C=0.1, gamma=0.1, kernel=rbf;, score=0.596 total time=   5.2s\n",
            "[CV 2/5] END ......C=0.1, gamma=0.1, kernel=rbf;, score=0.596 total time=   5.2s\n",
            "[CV 3/5] END ......C=0.1, gamma=0.1, kernel=rbf;, score=0.596 total time=   5.1s\n",
            "[CV 4/5] END ......C=0.1, gamma=0.1, kernel=rbf;, score=0.595 total time=   5.1s\n",
            "[CV 5/5] END ......C=0.1, gamma=0.1, kernel=rbf;, score=0.595 total time=   5.1s\n",
            "[CV 1/5] END ..C=0.1, gamma=0.01, kernel=linear;, score=0.596 total time=   4.3s\n",
            "[CV 2/5] END ..C=0.1, gamma=0.01, kernel=linear;, score=0.596 total time=   4.2s\n",
            "[CV 3/5] END ..C=0.1, gamma=0.01, kernel=linear;, score=0.596 total time=   4.3s\n",
            "[CV 4/5] END ..C=0.1, gamma=0.01, kernel=linear;, score=0.595 total time=   4.3s\n",
            "[CV 5/5] END ..C=0.1, gamma=0.01, kernel=linear;, score=0.595 total time=   4.3s\n",
            "[CV 1/5] END .....C=0.1, gamma=0.01, kernel=rbf;, score=0.596 total time=   4.5s\n",
            "[CV 2/5] END .....C=0.1, gamma=0.01, kernel=rbf;, score=0.596 total time=   4.5s\n",
            "[CV 3/5] END .....C=0.1, gamma=0.01, kernel=rbf;, score=0.596 total time=   4.5s\n",
            "[CV 4/5] END .....C=0.1, gamma=0.01, kernel=rbf;, score=0.595 total time=   4.5s\n",
            "[CV 5/5] END .....C=0.1, gamma=0.01, kernel=rbf;, score=0.595 total time=   4.4s\n",
            "[CV 1/5] END .C=0.1, gamma=0.001, kernel=linear;, score=0.596 total time=   4.2s\n",
            "[CV 2/5] END .C=0.1, gamma=0.001, kernel=linear;, score=0.596 total time=   4.2s\n",
            "[CV 3/5] END .C=0.1, gamma=0.001, kernel=linear;, score=0.596 total time=   4.2s\n",
            "[CV 4/5] END .C=0.1, gamma=0.001, kernel=linear;, score=0.595 total time=   4.2s\n",
            "[CV 5/5] END .C=0.1, gamma=0.001, kernel=linear;, score=0.595 total time=   4.2s\n",
            "[CV 1/5] END ....C=0.1, gamma=0.001, kernel=rbf;, score=0.596 total time=   3.8s\n",
            "[CV 2/5] END ....C=0.1, gamma=0.001, kernel=rbf;, score=0.596 total time=   3.9s\n",
            "[CV 3/5] END ....C=0.1, gamma=0.001, kernel=rbf;, score=0.596 total time=   3.9s\n",
            "[CV 4/5] END ....C=0.1, gamma=0.001, kernel=rbf;, score=0.595 total time=   3.9s\n",
            "[CV 5/5] END ....C=0.1, gamma=0.001, kernel=rbf;, score=0.595 total time=   4.1s\n",
            "[CV 1/5] END C=0.1, gamma=0.0001, kernel=linear;, score=0.596 total time=   4.2s\n",
            "[CV 2/5] END C=0.1, gamma=0.0001, kernel=linear;, score=0.596 total time=   4.5s\n",
            "[CV 3/5] END C=0.1, gamma=0.0001, kernel=linear;, score=0.596 total time=   4.3s\n",
            "[CV 4/5] END C=0.1, gamma=0.0001, kernel=linear;, score=0.595 total time=   4.2s\n",
            "[CV 5/5] END C=0.1, gamma=0.0001, kernel=linear;, score=0.595 total time=   4.3s\n",
            "[CV 1/5] END ...C=0.1, gamma=0.0001, kernel=rbf;, score=0.596 total time=   3.9s\n",
            "[CV 2/5] END ...C=0.1, gamma=0.0001, kernel=rbf;, score=0.596 total time=   3.8s\n",
            "[CV 3/5] END ...C=0.1, gamma=0.0001, kernel=rbf;, score=0.596 total time=   3.8s\n",
            "[CV 4/5] END ...C=0.1, gamma=0.0001, kernel=rbf;, score=0.595 total time=   3.8s\n",
            "[CV 5/5] END ...C=0.1, gamma=0.0001, kernel=rbf;, score=0.595 total time=   3.9s\n",
            "[CV 1/5] END ...C=1.0, gamma=1.0, kernel=linear;, score=0.589 total time=   4.2s\n",
            "[CV 2/5] END ...C=1.0, gamma=1.0, kernel=linear;, score=0.589 total time=   4.2s\n",
            "[CV 3/5] END ...C=1.0, gamma=1.0, kernel=linear;, score=0.602 total time=   4.3s\n",
            "[CV 4/5] END ...C=1.0, gamma=1.0, kernel=linear;, score=0.593 total time=   4.1s\n",
            "[CV 5/5] END ...C=1.0, gamma=1.0, kernel=linear;, score=0.585 total time=   4.3s\n",
            "[CV 1/5] END ......C=1.0, gamma=1.0, kernel=rbf;, score=0.596 total time=   6.5s\n",
            "[CV 2/5] END ......C=1.0, gamma=1.0, kernel=rbf;, score=0.592 total time=   6.3s\n",
            "[CV 3/5] END ......C=1.0, gamma=1.0, kernel=rbf;, score=0.596 total time=   6.3s\n",
            "[CV 4/5] END ......C=1.0, gamma=1.0, kernel=rbf;, score=0.596 total time=   6.3s\n",
            "[CV 5/5] END ......C=1.0, gamma=1.0, kernel=rbf;, score=0.586 total time=   6.3s\n",
            "[CV 1/5] END ...C=1.0, gamma=0.1, kernel=linear;, score=0.589 total time=   4.2s\n",
            "[CV 2/5] END ...C=1.0, gamma=0.1, kernel=linear;, score=0.589 total time=   4.1s\n",
            "[CV 3/5] END ...C=1.0, gamma=0.1, kernel=linear;, score=0.602 total time=   4.2s\n",
            "[CV 4/5] END ...C=1.0, gamma=0.1, kernel=linear;, score=0.593 total time=   4.2s\n",
            "[CV 5/5] END ...C=1.0, gamma=0.1, kernel=linear;, score=0.585 total time=   4.3s\n",
            "[CV 1/5] END ......C=1.0, gamma=0.1, kernel=rbf;, score=0.596 total time=   5.2s\n",
            "[CV 2/5] END ......C=1.0, gamma=0.1, kernel=rbf;, score=0.596 total time=   5.1s\n",
            "[CV 3/5] END ......C=1.0, gamma=0.1, kernel=rbf;, score=0.596 total time=   5.1s\n",
            "[CV 4/5] END ......C=1.0, gamma=0.1, kernel=rbf;, score=0.595 total time=   5.1s\n",
            "[CV 5/5] END ......C=1.0, gamma=0.1, kernel=rbf;, score=0.595 total time=   5.2s\n",
            "[CV 1/5] END ..C=1.0, gamma=0.01, kernel=linear;, score=0.589 total time=   4.2s\n",
            "[CV 2/5] END ..C=1.0, gamma=0.01, kernel=linear;, score=0.589 total time=   4.2s\n",
            "[CV 3/5] END ..C=1.0, gamma=0.01, kernel=linear;, score=0.602 total time=   4.2s\n",
            "[CV 4/5] END ..C=1.0, gamma=0.01, kernel=linear;, score=0.593 total time=   4.1s\n",
            "[CV 5/5] END ..C=1.0, gamma=0.01, kernel=linear;, score=0.585 total time=   4.3s\n",
            "[CV 1/5] END .....C=1.0, gamma=0.01, kernel=rbf;, score=0.596 total time=   5.0s\n",
            "[CV 2/5] END .....C=1.0, gamma=0.01, kernel=rbf;, score=0.596 total time=   5.0s\n",
            "[CV 3/5] END .....C=1.0, gamma=0.01, kernel=rbf;, score=0.596 total time=   5.0s\n",
            "[CV 4/5] END .....C=1.0, gamma=0.01, kernel=rbf;, score=0.595 total time=   5.0s\n",
            "[CV 5/5] END .....C=1.0, gamma=0.01, kernel=rbf;, score=0.595 total time=   5.0s\n",
            "[CV 1/5] END .C=1.0, gamma=0.001, kernel=linear;, score=0.589 total time=   4.2s\n",
            "[CV 2/5] END .C=1.0, gamma=0.001, kernel=linear;, score=0.589 total time=   4.2s\n",
            "[CV 3/5] END .C=1.0, gamma=0.001, kernel=linear;, score=0.602 total time=   4.2s\n",
            "[CV 4/5] END .C=1.0, gamma=0.001, kernel=linear;, score=0.593 total time=   4.2s\n",
            "[CV 5/5] END .C=1.0, gamma=0.001, kernel=linear;, score=0.585 total time=   4.4s\n",
            "[CV 1/5] END ....C=1.0, gamma=0.001, kernel=rbf;, score=0.596 total time=   4.5s\n",
            "[CV 2/5] END ....C=1.0, gamma=0.001, kernel=rbf;, score=0.596 total time=   4.5s\n",
            "[CV 3/5] END ....C=1.0, gamma=0.001, kernel=rbf;, score=0.596 total time=   4.7s\n",
            "[CV 4/5] END ....C=1.0, gamma=0.001, kernel=rbf;, score=0.595 total time=   4.4s\n",
            "[CV 5/5] END ....C=1.0, gamma=0.001, kernel=rbf;, score=0.595 total time=   4.5s\n",
            "[CV 1/5] END C=1.0, gamma=0.0001, kernel=linear;, score=0.589 total time=   4.2s\n",
            "[CV 2/5] END C=1.0, gamma=0.0001, kernel=linear;, score=0.589 total time=   4.3s\n",
            "[CV 3/5] END C=1.0, gamma=0.0001, kernel=linear;, score=0.602 total time=   4.3s\n",
            "[CV 4/5] END C=1.0, gamma=0.0001, kernel=linear;, score=0.593 total time=   4.1s\n",
            "[CV 5/5] END C=1.0, gamma=0.0001, kernel=linear;, score=0.585 total time=   4.3s\n",
            "[CV 1/5] END ...C=1.0, gamma=0.0001, kernel=rbf;, score=0.596 total time=   3.8s\n",
            "[CV 2/5] END ...C=1.0, gamma=0.0001, kernel=rbf;, score=0.596 total time=   3.9s\n",
            "[CV 3/5] END ...C=1.0, gamma=0.0001, kernel=rbf;, score=0.596 total time=   3.8s\n",
            "[CV 4/5] END ...C=1.0, gamma=0.0001, kernel=rbf;, score=0.595 total time=   3.9s\n",
            "[CV 5/5] END ...C=1.0, gamma=0.0001, kernel=rbf;, score=0.595 total time=   3.9s\n",
            "[CV 1/5] END ..C=10.0, gamma=1.0, kernel=linear;, score=0.553 total time=   5.0s\n",
            "[CV 2/5] END ..C=10.0, gamma=1.0, kernel=linear;, score=0.526 total time=   5.1s\n",
            "[CV 3/5] END ..C=10.0, gamma=1.0, kernel=linear;, score=0.563 total time=   5.0s\n",
            "[CV 4/5] END ..C=10.0, gamma=1.0, kernel=linear;, score=0.550 total time=   5.0s\n",
            "[CV 5/5] END ..C=10.0, gamma=1.0, kernel=linear;, score=0.533 total time=   5.2s\n",
            "[CV 1/5] END .....C=10.0, gamma=1.0, kernel=rbf;, score=0.545 total time=   6.6s\n",
            "[CV 2/5] END .....C=10.0, gamma=1.0, kernel=rbf;, score=0.511 total time=   6.5s\n",
            "[CV 3/5] END .....C=10.0, gamma=1.0, kernel=rbf;, score=0.533 total time=   6.7s\n",
            "[CV 4/5] END .....C=10.0, gamma=1.0, kernel=rbf;, score=0.528 total time=   6.5s\n",
            "[CV 5/5] END .....C=10.0, gamma=1.0, kernel=rbf;, score=0.515 total time=   6.5s\n",
            "[CV 1/5] END ..C=10.0, gamma=0.1, kernel=linear;, score=0.553 total time=   5.0s\n",
            "[CV 2/5] END ..C=10.0, gamma=0.1, kernel=linear;, score=0.526 total time=   5.1s\n",
            "[CV 3/5] END ..C=10.0, gamma=0.1, kernel=linear;, score=0.563 total time=   5.1s\n",
            "[CV 4/5] END ..C=10.0, gamma=0.1, kernel=linear;, score=0.550 total time=   4.9s\n",
            "[CV 5/5] END ..C=10.0, gamma=0.1, kernel=linear;, score=0.533 total time=   5.1s\n",
            "[CV 1/5] END .....C=10.0, gamma=0.1, kernel=rbf;, score=0.583 total time=   5.2s\n",
            "[CV 2/5] END .....C=10.0, gamma=0.1, kernel=rbf;, score=0.564 total time=   5.0s\n",
            "[CV 3/5] END .....C=10.0, gamma=0.1, kernel=rbf;, score=0.591 total time=   5.1s\n",
            "[CV 4/5] END .....C=10.0, gamma=0.1, kernel=rbf;, score=0.578 total time=   5.1s\n",
            "[CV 5/5] END .....C=10.0, gamma=0.1, kernel=rbf;, score=0.576 total time=   5.1s\n",
            "[CV 1/5] END .C=10.0, gamma=0.01, kernel=linear;, score=0.553 total time=   5.0s\n",
            "[CV 2/5] END .C=10.0, gamma=0.01, kernel=linear;, score=0.526 total time=   5.2s\n",
            "[CV 3/5] END .C=10.0, gamma=0.01, kernel=linear;, score=0.563 total time=   5.0s\n",
            "[CV 4/5] END .C=10.0, gamma=0.01, kernel=linear;, score=0.550 total time=   4.9s\n",
            "[CV 5/5] END .C=10.0, gamma=0.01, kernel=linear;, score=0.533 total time=   5.2s\n",
            "[CV 1/5] END ....C=10.0, gamma=0.01, kernel=rbf;, score=0.596 total time=   5.0s\n",
            "[CV 2/5] END ....C=10.0, gamma=0.01, kernel=rbf;, score=0.596 total time=   5.0s\n",
            "[CV 3/5] END ....C=10.0, gamma=0.01, kernel=rbf;, score=0.596 total time=   5.1s\n",
            "[CV 4/5] END ....C=10.0, gamma=0.01, kernel=rbf;, score=0.595 total time=   5.0s\n",
            "[CV 5/5] END ....C=10.0, gamma=0.01, kernel=rbf;, score=0.595 total time=   5.4s\n",
            "[CV 1/5] END C=10.0, gamma=0.001, kernel=linear;, score=0.553 total time=   5.1s\n",
            "[CV 2/5] END C=10.0, gamma=0.001, kernel=linear;, score=0.526 total time=   5.1s\n",
            "[CV 3/5] END C=10.0, gamma=0.001, kernel=linear;, score=0.563 total time=   5.0s\n",
            "[CV 4/5] END C=10.0, gamma=0.001, kernel=linear;, score=0.550 total time=   4.9s\n",
            "[CV 5/5] END C=10.0, gamma=0.001, kernel=linear;, score=0.533 total time=   5.1s\n",
            "[CV 1/5] END ...C=10.0, gamma=0.001, kernel=rbf;, score=0.596 total time=   5.0s\n",
            "[CV 2/5] END ...C=10.0, gamma=0.001, kernel=rbf;, score=0.596 total time=   5.0s\n",
            "[CV 3/5] END ...C=10.0, gamma=0.001, kernel=rbf;, score=0.596 total time=   5.0s\n",
            "[CV 4/5] END ...C=10.0, gamma=0.001, kernel=rbf;, score=0.595 total time=   4.9s\n",
            "[CV 5/5] END ...C=10.0, gamma=0.001, kernel=rbf;, score=0.595 total time=   5.0s\n",
            "[CV 1/5] END C=10.0, gamma=0.0001, kernel=linear;, score=0.553 total time=   5.0s\n",
            "[CV 2/5] END C=10.0, gamma=0.0001, kernel=linear;, score=0.526 total time=   5.0s\n",
            "[CV 3/5] END C=10.0, gamma=0.0001, kernel=linear;, score=0.563 total time=   5.0s\n",
            "[CV 4/5] END C=10.0, gamma=0.0001, kernel=linear;, score=0.550 total time=   4.8s\n",
            "[CV 5/5] END C=10.0, gamma=0.0001, kernel=linear;, score=0.533 total time=   5.1s\n",
            "[CV 1/5] END ..C=10.0, gamma=0.0001, kernel=rbf;, score=0.596 total time=   4.4s\n",
            "[CV 2/5] END ..C=10.0, gamma=0.0001, kernel=rbf;, score=0.596 total time=   4.5s\n",
            "[CV 3/5] END ..C=10.0, gamma=0.0001, kernel=rbf;, score=0.596 total time=   4.5s\n",
            "[CV 4/5] END ..C=10.0, gamma=0.0001, kernel=rbf;, score=0.595 total time=   4.4s\n",
            "[CV 5/5] END ..C=10.0, gamma=0.0001, kernel=rbf;, score=0.595 total time=   4.4s\n",
            "[CV 1/5] END .C=100.0, gamma=1.0, kernel=linear;, score=0.505 total time=  17.6s\n",
            "[CV 2/5] END .C=100.0, gamma=1.0, kernel=linear;, score=0.487 total time=  15.7s\n",
            "[CV 3/5] END .C=100.0, gamma=1.0, kernel=linear;, score=0.531 total time=  20.4s\n",
            "[CV 4/5] END .C=100.0, gamma=1.0, kernel=linear;, score=0.510 total time=  14.9s\n",
            "[CV 5/5] END .C=100.0, gamma=1.0, kernel=linear;, score=0.498 total time=  16.5s\n",
            "[CV 1/5] END ....C=100.0, gamma=1.0, kernel=rbf;, score=0.541 total time=   6.6s\n",
            "[CV 2/5] END ....C=100.0, gamma=1.0, kernel=rbf;, score=0.510 total time=   6.6s\n",
            "[CV 3/5] END ....C=100.0, gamma=1.0, kernel=rbf;, score=0.534 total time=   6.5s\n",
            "[CV 4/5] END ....C=100.0, gamma=1.0, kernel=rbf;, score=0.530 total time=   6.6s\n",
            "[CV 5/5] END ....C=100.0, gamma=1.0, kernel=rbf;, score=0.511 total time=   6.6s\n",
            "[CV 1/5] END .C=100.0, gamma=0.1, kernel=linear;, score=0.505 total time=  17.6s\n",
            "[CV 2/5] END .C=100.0, gamma=0.1, kernel=linear;, score=0.487 total time=  15.5s\n",
            "[CV 3/5] END .C=100.0, gamma=0.1, kernel=linear;, score=0.531 total time=  20.1s\n",
            "[CV 4/5] END .C=100.0, gamma=0.1, kernel=linear;, score=0.510 total time=  14.9s\n",
            "[CV 5/5] END .C=100.0, gamma=0.1, kernel=linear;, score=0.498 total time=  16.0s\n",
            "[CV 1/5] END ....C=100.0, gamma=0.1, kernel=rbf;, score=0.509 total time=   6.8s\n",
            "[CV 2/5] END ....C=100.0, gamma=0.1, kernel=rbf;, score=0.478 total time=   6.8s\n",
            "[CV 3/5] END ....C=100.0, gamma=0.1, kernel=rbf;, score=0.523 total time=   6.9s\n",
            "[CV 4/5] END ....C=100.0, gamma=0.1, kernel=rbf;, score=0.511 total time=   6.7s\n",
            "[CV 5/5] END ....C=100.0, gamma=0.1, kernel=rbf;, score=0.510 total time=   6.7s\n",
            "[CV 1/5] END C=100.0, gamma=0.01, kernel=linear;, score=0.505 total time=  17.7s\n",
            "[CV 2/5] END C=100.0, gamma=0.01, kernel=linear;, score=0.487 total time=  15.6s\n",
            "[CV 3/5] END C=100.0, gamma=0.01, kernel=linear;, score=0.531 total time=  20.1s\n",
            "[CV 4/5] END C=100.0, gamma=0.01, kernel=linear;, score=0.510 total time=  14.9s\n",
            "[CV 5/5] END C=100.0, gamma=0.01, kernel=linear;, score=0.498 total time=  16.0s\n",
            "[CV 1/5] END ...C=100.0, gamma=0.01, kernel=rbf;, score=0.580 total time=   5.0s\n",
            "[CV 2/5] END ...C=100.0, gamma=0.01, kernel=rbf;, score=0.565 total time=   5.1s\n",
            "[CV 3/5] END ...C=100.0, gamma=0.01, kernel=rbf;, score=0.592 total time=   5.1s\n",
            "[CV 4/5] END ...C=100.0, gamma=0.01, kernel=rbf;, score=0.579 total time=   5.0s\n",
            "[CV 5/5] END ...C=100.0, gamma=0.01, kernel=rbf;, score=0.573 total time=   5.0s\n",
            "[CV 1/5] END C=100.0, gamma=0.001, kernel=linear;, score=0.505 total time=  17.4s\n",
            "[CV 2/5] END C=100.0, gamma=0.001, kernel=linear;, score=0.487 total time=  15.4s\n",
            "[CV 3/5] END C=100.0, gamma=0.001, kernel=linear;, score=0.531 total time=  20.0s\n",
            "[CV 4/5] END C=100.0, gamma=0.001, kernel=linear;, score=0.510 total time=  14.8s\n",
            "[CV 5/5] END C=100.0, gamma=0.001, kernel=linear;, score=0.498 total time=  16.1s\n",
            "[CV 1/5] END ..C=100.0, gamma=0.001, kernel=rbf;, score=0.596 total time=   5.0s\n",
            "[CV 2/5] END ..C=100.0, gamma=0.001, kernel=rbf;, score=0.596 total time=   5.0s\n",
            "[CV 3/5] END ..C=100.0, gamma=0.001, kernel=rbf;, score=0.596 total time=   5.0s\n",
            "[CV 4/5] END ..C=100.0, gamma=0.001, kernel=rbf;, score=0.595 total time=   5.0s\n",
            "[CV 5/5] END ..C=100.0, gamma=0.001, kernel=rbf;, score=0.595 total time=   5.0s\n",
            "[CV 1/5] END C=100.0, gamma=0.0001, kernel=linear;, score=0.505 total time=  17.5s\n",
            "[CV 2/5] END C=100.0, gamma=0.0001, kernel=linear;, score=0.487 total time=  15.6s\n",
            "[CV 3/5] END C=100.0, gamma=0.0001, kernel=linear;, score=0.531 total time=  20.0s\n",
            "[CV 4/5] END C=100.0, gamma=0.0001, kernel=linear;, score=0.510 total time=  14.7s\n",
            "[CV 5/5] END C=100.0, gamma=0.0001, kernel=linear;, score=0.498 total time=  16.0s\n",
            "[CV 1/5] END .C=100.0, gamma=0.0001, kernel=rbf;, score=0.596 total time=   4.9s\n",
            "[CV 2/5] END .C=100.0, gamma=0.0001, kernel=rbf;, score=0.596 total time=   4.9s\n",
            "[CV 3/5] END .C=100.0, gamma=0.0001, kernel=rbf;, score=0.596 total time=   5.0s\n",
            "[CV 4/5] END .C=100.0, gamma=0.0001, kernel=rbf;, score=0.595 total time=   4.9s\n",
            "[CV 5/5] END .C=100.0, gamma=0.0001, kernel=rbf;, score=0.595 total time=   5.0s\n",
            "[CV 1/5] END C=1000.0, gamma=1.0, kernel=linear;, score=0.505 total time= 3.3min\n",
            "[CV 2/5] END C=1000.0, gamma=1.0, kernel=linear;, score=0.477 total time= 3.1min\n",
            "[CV 3/5] END C=1000.0, gamma=1.0, kernel=linear;, score=0.519 total time= 3.2min\n",
            "[CV 4/5] END C=1000.0, gamma=1.0, kernel=linear;, score=0.501 total time= 2.4min\n",
            "[CV 5/5] END C=1000.0, gamma=1.0, kernel=linear;, score=0.487 total time= 2.6min\n",
            "[CV 1/5] END ...C=1000.0, gamma=1.0, kernel=rbf;, score=0.541 total time=   6.6s\n",
            "[CV 2/5] END ...C=1000.0, gamma=1.0, kernel=rbf;, score=0.510 total time=   6.6s\n",
            "[CV 3/5] END ...C=1000.0, gamma=1.0, kernel=rbf;, score=0.534 total time=   6.6s\n",
            "[CV 4/5] END ...C=1000.0, gamma=1.0, kernel=rbf;, score=0.530 total time=   6.5s\n",
            "[CV 5/5] END ...C=1000.0, gamma=1.0, kernel=rbf;, score=0.511 total time=   6.5s\n",
            "[CV 1/5] END C=1000.0, gamma=0.1, kernel=linear;, score=0.505 total time= 3.3min\n",
            "[CV 2/5] END C=1000.0, gamma=0.1, kernel=linear;, score=0.477 total time= 3.1min\n",
            "[CV 3/5] END C=1000.0, gamma=0.1, kernel=linear;, score=0.519 total time= 3.1min\n",
            "[CV 4/5] END C=1000.0, gamma=0.1, kernel=linear;, score=0.501 total time= 2.3min\n",
            "[CV 5/5] END C=1000.0, gamma=0.1, kernel=linear;, score=0.487 total time= 2.6min\n",
            "[CV 1/5] END ...C=1000.0, gamma=0.1, kernel=rbf;, score=0.489 total time=   7.3s\n",
            "[CV 2/5] END ...C=1000.0, gamma=0.1, kernel=rbf;, score=0.468 total time=   7.2s\n",
            "[CV 3/5] END ...C=1000.0, gamma=0.1, kernel=rbf;, score=0.497 total time=   7.3s\n",
            "[CV 4/5] END ...C=1000.0, gamma=0.1, kernel=rbf;, score=0.494 total time=   7.2s\n",
            "[CV 5/5] END ...C=1000.0, gamma=0.1, kernel=rbf;, score=0.485 total time=   7.2s\n",
            "[CV 1/5] END C=1000.0, gamma=0.01, kernel=linear;, score=0.505 total time= 3.2min\n",
            "[CV 2/5] END C=1000.0, gamma=0.01, kernel=linear;, score=0.477 total time= 3.0min\n",
            "[CV 3/5] END C=1000.0, gamma=0.01, kernel=linear;, score=0.519 total time= 3.1min\n",
            "[CV 4/5] END C=1000.0, gamma=0.01, kernel=linear;, score=0.501 total time= 2.3min\n",
            "[CV 5/5] END C=1000.0, gamma=0.01, kernel=linear;, score=0.487 total time= 2.6min\n",
            "[CV 1/5] END ..C=1000.0, gamma=0.01, kernel=rbf;, score=0.527 total time=   5.9s\n",
            "[CV 2/5] END ..C=1000.0, gamma=0.01, kernel=rbf;, score=0.499 total time=   5.9s\n",
            "[CV 3/5] END ..C=1000.0, gamma=0.01, kernel=rbf;, score=0.536 total time=   6.1s\n",
            "[CV 4/5] END ..C=1000.0, gamma=0.01, kernel=rbf;, score=0.534 total time=   5.8s\n",
            "[CV 5/5] END ..C=1000.0, gamma=0.01, kernel=rbf;, score=0.534 total time=   6.4s\n",
            "[CV 1/5] END C=1000.0, gamma=0.001, kernel=linear;, score=0.505 total time= 3.2min\n",
            "[CV 2/5] END C=1000.0, gamma=0.001, kernel=linear;, score=0.477 total time= 3.0min\n",
            "[CV 3/5] END C=1000.0, gamma=0.001, kernel=linear;, score=0.519 total time= 3.1min\n",
            "[CV 4/5] END C=1000.0, gamma=0.001, kernel=linear;, score=0.501 total time= 2.3min\n",
            "[CV 5/5] END C=1000.0, gamma=0.001, kernel=linear;, score=0.487 total time= 2.6min\n",
            "[CV 1/5] END .C=1000.0, gamma=0.001, kernel=rbf;, score=0.578 total time=   4.9s\n",
            "[CV 2/5] END .C=1000.0, gamma=0.001, kernel=rbf;, score=0.572 total time=   4.8s\n",
            "[CV 3/5] END .C=1000.0, gamma=0.001, kernel=rbf;, score=0.593 total time=   4.9s\n",
            "[CV 4/5] END .C=1000.0, gamma=0.001, kernel=rbf;, score=0.579 total time=   4.8s\n",
            "[CV 5/5] END .C=1000.0, gamma=0.001, kernel=rbf;, score=0.578 total time=   4.9s\n",
            "[CV 1/5] END C=1000.0, gamma=0.0001, kernel=linear;, score=0.505 total time= 3.2min\n",
            "[CV 2/5] END C=1000.0, gamma=0.0001, kernel=linear;, score=0.477 total time= 3.0min\n",
            "[CV 3/5] END C=1000.0, gamma=0.0001, kernel=linear;, score=0.519 total time= 3.1min\n",
            "[CV 4/5] END C=1000.0, gamma=0.0001, kernel=linear;, score=0.501 total time= 2.3min\n",
            "[CV 5/5] END C=1000.0, gamma=0.0001, kernel=linear;, score=0.487 total time= 2.6min\n",
            "[CV 1/5] END C=1000.0, gamma=0.0001, kernel=rbf;, score=0.596 total time=   4.9s\n",
            "[CV 2/5] END C=1000.0, gamma=0.0001, kernel=rbf;, score=0.596 total time=   4.8s\n",
            "[CV 3/5] END C=1000.0, gamma=0.0001, kernel=rbf;, score=0.596 total time=   5.0s\n",
            "[CV 4/5] END C=1000.0, gamma=0.0001, kernel=rbf;, score=0.595 total time=   4.9s\n",
            "[CV 5/5] END C=1000.0, gamma=0.0001, kernel=rbf;, score=0.595 total time=   4.8s\n"
          ]
        },
        {
          "data": {
            "text/plain": [
              "GridSearchCV(cv=5, estimator=SVC(),\n",
              "             param_grid={'C': array([1.e-01, 1.e+00, 1.e+01, 1.e+02, 1.e+03]),\n",
              "                         'gamma': [1.0, 0.1, 0.01, 0.001, 0.0001],\n",
              "                         'kernel': ['linear', 'rbf']},\n",
              "             scoring='accuracy', verbose=3)"
            ]
          },
          "execution_count": 79,
          "metadata": {},
          "output_type": "execute_result"
        }
      ],
      "source": [
        "kernels = ['linear', 'rbf'] \n",
        "CArray = np.logspace(-1,3,5)\n",
        "gammaArray= list(np.logspace(0,-4,5))\n",
        "\n",
        "param_grid = dict(C=CArray, gamma=gammaArray, kernel = kernels)\n",
        "\n",
        "clf_svc = GridSearchCV(SVC(), param_grid, cv=5, scoring='accuracy',verbose=3)\n",
        "clf_svc.fit(X_train, y_train)"
      ]
    },
    {
      "cell_type": "code",
      "execution_count": 80,
      "metadata": {},
      "outputs": [
        {
          "data": {
            "text/plain": [
              "SVC(C=0.1, gamma=1.0, kernel='linear')"
            ]
          },
          "execution_count": 80,
          "metadata": {},
          "output_type": "execute_result"
        }
      ],
      "source": [
        "clf_svc.best_estimator_"
      ]
    },
    {
      "cell_type": "code",
      "execution_count": 81,
      "metadata": {
        "colab": {
          "base_uri": "https://localhost:8080/"
        },
        "id": "nYsedhIZkZic",
        "outputId": "8bd2b759-c85c-4571-ffc3-69aff065d9d0"
      },
      "outputs": [
        {
          "name": "stdout",
          "output_type": "stream",
          "text": [
            "Treino - balanced_accuracy :  0.3333333333333333\n",
            "Treino - F1 :  0.24885057471264369\n"
          ]
        }
      ],
      "source": [
        "y_pred = clf_svc.predict(X_train)\n",
        "print(\"Treino - balanced_accuracy : \", balanced_accuracy_score(y_train,  y_pred))\n",
        "print(\"Treino - F1 : \", f1_score(y_train, y_pred, average='macro'))"
      ]
    },
    {
      "cell_type": "code",
      "execution_count": 82,
      "metadata": {
        "colab": {
          "base_uri": "https://localhost:8080/"
        },
        "id": "ZMZ2IBWHlMvl",
        "outputId": "14803d6f-d430-42e9-8c97-0c5b0e980e3e"
      },
      "outputs": [
        {
          "name": "stdout",
          "output_type": "stream",
          "text": [
            "Validacao - balanced_accuracy :  0.3333333333333333\n",
            "Treino - F1 :  0.2496177370030581\n"
          ]
        }
      ],
      "source": [
        "y_pred = clf_svc.predict(X_val)\n",
        "print(\"Validacao - balanced_accuracy : \", balanced_accuracy_score(y_val,  y_pred))\n",
        "print(\"Treino - F1 : \", f1_score(y_val, y_pred, average='macro'))"
      ]
    },
    {
      "cell_type": "code",
      "execution_count": 83,
      "metadata": {},
      "outputs": [],
      "source": [
        "labels = ['negative', 'neutral', 'positive']\n",
        "cm = confusion_matrix(y_val, y_pred)\n",
        "cmn = cm.astype('float') / cm.sum(axis=1)[:, np.newaxis]\n",
        "cm_df = pd.DataFrame(cmn,\n",
        "                     index = labels, \n",
        "                     columns = labels\n",
        "                     )"
      ]
    },
    {
      "cell_type": "code",
      "execution_count": 84,
      "metadata": {
        "colab": {
          "base_uri": "https://localhost:8080/",
          "height": 296
        },
        "id": "R45yXgH-lJk0",
        "outputId": "96415355-9b1d-436f-85d1-c210ea2a285d"
      },
      "outputs": [
        {
          "data": {
            "image/png": "[encoded data removed]",
            "text/plain": [
              "<Figure size 720x288 with 2 Axes>"
            ]
          },
          "metadata": {
            "needs_background": "light"
          },
          "output_type": "display_data"
        }
      ],
      "source": [
        "labels = ['negative', 'neutral', 'positive']\n",
        "cm = confusion_matrix(y_val, y_pred)\n",
        "cmn = cm.astype('float') / cm.sum(axis=1)[:, np.newaxis]\n",
        "cm_df = pd.DataFrame(cmn,\n",
        "                     index = labels, \n",
        "                     columns = labels\n",
        "                     )\n",
        "\n",
        "plt.figure(figsize=(10,4))\n",
        "sns.heatmap(cm_df, annot=True ,fmt='g')\n",
        "plt.title('Confusion Matrix')\n",
        "plt.ylabel('Actual Values')\n",
        "plt.xlabel('Predicted Values')\n",
        "plt.show()"
      ]
    },
    {
      "cell_type": "markdown",
      "metadata": {
        "id": "WNfHeuETnZHY"
      },
      "source": [
        "## Modelo TF-IDF + SVM (balanceado)"
      ]
    },
    {
      "cell_type": "markdown",
      "metadata": {
        "id": "1kCoMFaqprtB"
      },
      "source": [
        "### Balanceamento por ponderacao da funcao de erro"
      ]
    },
    {
      "cell_type": "code",
      "execution_count": 85,
      "metadata": {
        "id": "WId4Zzgxo0nJ"
      },
      "outputs": [
        {
          "data": {
            "text/plain": [
              "{0: 3.5901234567901232, 1: 1.0699043414275202, 2: 0.5596612779060816}"
            ]
          },
          "execution_count": 85,
          "metadata": {},
          "output_type": "execute_result"
        }
      ],
      "source": [
        "weights = class_weight.compute_class_weight(class_weight='balanced', classes = np.unique(y_train) ,y = y_train).ravel()\n",
        "class_weights = dict((i,v) for i, v in enumerate(weights))\n",
        "class_weights"
      ]
    },
    {
      "cell_type": "code",
      "execution_count": 86,
      "metadata": {
        "colab": {
          "base_uri": "https://localhost:8080/"
        },
        "id": "8gFCQVi6OHx1",
        "outputId": "73123d92-9233-457c-e2d0-be225363f32d"
      },
      "outputs": [
        {
          "name": "stdout",
          "output_type": "stream",
          "text": [
            "Fitting 5 folds for each of 50 candidates, totalling 250 fits\n",
            "[CV 1/5] END ...C=0.1, gamma=1.0, kernel=linear;, score=0.290 total time=   5.4s\n",
            "[CV 2/5] END ...C=0.1, gamma=1.0, kernel=linear;, score=0.355 total time=   5.4s\n",
            "[CV 3/5] END ...C=0.1, gamma=1.0, kernel=linear;, score=0.328 total time=   5.3s\n",
            "[CV 4/5] END ...C=0.1, gamma=1.0, kernel=linear;, score=0.414 total time=   5.3s\n",
            "[CV 5/5] END ...C=0.1, gamma=1.0, kernel=linear;, score=0.417 total time=   5.3s\n",
            "[CV 1/5] END ......C=0.1, gamma=1.0, kernel=rbf;, score=0.131 total time=   6.3s\n",
            "[CV 2/5] END ......C=0.1, gamma=1.0, kernel=rbf;, score=0.293 total time=   6.3s\n",
            "[CV 3/5] END ......C=0.1, gamma=1.0, kernel=rbf;, score=0.180 total time=   6.3s\n",
            "[CV 4/5] END ......C=0.1, gamma=1.0, kernel=rbf;, score=0.592 total time=   6.4s\n",
            "[CV 5/5] END ......C=0.1, gamma=1.0, kernel=rbf;, score=0.593 total time=   6.3s\n",
            "[CV 1/5] END ...C=0.1, gamma=0.1, kernel=linear;, score=0.290 total time=   5.3s\n",
            "[CV 2/5] END ...C=0.1, gamma=0.1, kernel=linear;, score=0.355 total time=   5.3s\n",
            "[CV 3/5] END ...C=0.1, gamma=0.1, kernel=linear;, score=0.328 total time=   5.3s\n",
            "[CV 4/5] END ...C=0.1, gamma=0.1, kernel=linear;, score=0.414 total time=   5.3s\n",
            "[CV 5/5] END ...C=0.1, gamma=0.1, kernel=linear;, score=0.417 total time=   5.3s\n",
            "[CV 1/5] END ......C=0.1, gamma=0.1, kernel=rbf;, score=0.093 total time=   6.3s\n",
            "[CV 2/5] END ......C=0.1, gamma=0.1, kernel=rbf;, score=0.093 total time=   6.4s\n",
            "[CV 3/5] END ......C=0.1, gamma=0.1, kernel=rbf;, score=0.311 total time=   6.3s\n",
            "[CV 4/5] END ......C=0.1, gamma=0.1, kernel=rbf;, score=0.595 total time=   6.3s\n",
            "[CV 5/5] END ......C=0.1, gamma=0.1, kernel=rbf;, score=0.595 total time=   6.3s\n",
            "[CV 1/5] END ..C=0.1, gamma=0.01, kernel=linear;, score=0.290 total time=   5.3s\n",
            "[CV 2/5] END ..C=0.1, gamma=0.01, kernel=linear;, score=0.355 total time=   5.3s\n",
            "[CV 3/5] END ..C=0.1, gamma=0.01, kernel=linear;, score=0.328 total time=   5.3s\n",
            "[CV 4/5] END ..C=0.1, gamma=0.01, kernel=linear;, score=0.414 total time=   5.3s\n",
            "[CV 5/5] END ..C=0.1, gamma=0.01, kernel=linear;, score=0.417 total time=   5.3s\n",
            "[CV 1/5] END .....C=0.1, gamma=0.01, kernel=rbf;, score=0.093 total time=   6.3s\n",
            "[CV 2/5] END .....C=0.1, gamma=0.01, kernel=rbf;, score=0.093 total time=   6.3s\n",
            "[CV 3/5] END .....C=0.1, gamma=0.01, kernel=rbf;, score=0.311 total time=   6.3s\n",
            "[CV 4/5] END .....C=0.1, gamma=0.01, kernel=rbf;, score=0.595 total time=   6.3s\n",
            "[CV 5/5] END .....C=0.1, gamma=0.01, kernel=rbf;, score=0.595 total time=   6.3s\n",
            "[CV 1/5] END .C=0.1, gamma=0.001, kernel=linear;, score=0.290 total time=   5.3s\n",
            "[CV 2/5] END .C=0.1, gamma=0.001, kernel=linear;, score=0.355 total time=   5.3s\n",
            "[CV 3/5] END .C=0.1, gamma=0.001, kernel=linear;, score=0.328 total time=   5.3s\n",
            "[CV 4/5] END .C=0.1, gamma=0.001, kernel=linear;, score=0.414 total time=   5.3s\n",
            "[CV 5/5] END .C=0.1, gamma=0.001, kernel=linear;, score=0.417 total time=   5.3s\n",
            "[CV 1/5] END ....C=0.1, gamma=0.001, kernel=rbf;, score=0.093 total time=   6.3s\n",
            "[CV 2/5] END ....C=0.1, gamma=0.001, kernel=rbf;, score=0.093 total time=   6.3s\n",
            "[CV 3/5] END ....C=0.1, gamma=0.001, kernel=rbf;, score=0.311 total time=   6.3s\n",
            "[CV 4/5] END ....C=0.1, gamma=0.001, kernel=rbf;, score=0.595 total time=   6.3s\n",
            "[CV 5/5] END ....C=0.1, gamma=0.001, kernel=rbf;, score=0.595 total time=   6.3s\n",
            "[CV 1/5] END C=0.1, gamma=0.0001, kernel=linear;, score=0.290 total time=   5.3s\n",
            "[CV 2/5] END C=0.1, gamma=0.0001, kernel=linear;, score=0.355 total time=   5.3s\n",
            "[CV 3/5] END C=0.1, gamma=0.0001, kernel=linear;, score=0.328 total time=   5.3s\n",
            "[CV 4/5] END C=0.1, gamma=0.0001, kernel=linear;, score=0.414 total time=   5.3s\n",
            "[CV 5/5] END C=0.1, gamma=0.0001, kernel=linear;, score=0.417 total time=   5.3s\n",
            "[CV 1/5] END ...C=0.1, gamma=0.0001, kernel=rbf;, score=0.093 total time=   6.3s\n",
            "[CV 2/5] END ...C=0.1, gamma=0.0001, kernel=rbf;, score=0.093 total time=   6.3s\n",
            "[CV 3/5] END ...C=0.1, gamma=0.0001, kernel=rbf;, score=0.311 total time=   6.3s\n",
            "[CV 4/5] END ...C=0.1, gamma=0.0001, kernel=rbf;, score=0.595 total time=   6.3s\n",
            "[CV 5/5] END ...C=0.1, gamma=0.0001, kernel=rbf;, score=0.595 total time=   6.3s\n",
            "[CV 1/5] END ...C=1.0, gamma=1.0, kernel=linear;, score=0.344 total time=   4.8s\n",
            "[CV 2/5] END ...C=1.0, gamma=1.0, kernel=linear;, score=0.339 total time=   4.7s\n",
            "[CV 3/5] END ...C=1.0, gamma=1.0, kernel=linear;, score=0.359 total time=   4.8s\n",
            "[CV 4/5] END ...C=1.0, gamma=1.0, kernel=linear;, score=0.350 total time=   4.8s\n",
            "[CV 5/5] END ...C=1.0, gamma=1.0, kernel=linear;, score=0.344 total time=   4.8s\n",
            "[CV 1/5] END ......C=1.0, gamma=1.0, kernel=rbf;, score=0.472 total time=   5.9s\n",
            "[CV 2/5] END ......C=1.0, gamma=1.0, kernel=rbf;, score=0.450 total time=   6.0s\n",
            "[CV 3/5] END ......C=1.0, gamma=1.0, kernel=rbf;, score=0.458 total time=   6.1s\n",
            "[CV 4/5] END ......C=1.0, gamma=1.0, kernel=rbf;, score=0.447 total time=   5.9s\n",
            "[CV 5/5] END ......C=1.0, gamma=1.0, kernel=rbf;, score=0.447 total time=   6.0s\n",
            "[CV 1/5] END ...C=1.0, gamma=0.1, kernel=linear;, score=0.344 total time=   4.8s\n",
            "[CV 2/5] END ...C=1.0, gamma=0.1, kernel=linear;, score=0.339 total time=   4.7s\n",
            "[CV 3/5] END ...C=1.0, gamma=0.1, kernel=linear;, score=0.359 total time=   4.8s\n",
            "[CV 4/5] END ...C=1.0, gamma=0.1, kernel=linear;, score=0.350 total time=   4.7s\n",
            "[CV 5/5] END ...C=1.0, gamma=0.1, kernel=linear;, score=0.344 total time=   4.8s\n",
            "[CV 1/5] END ......C=1.0, gamma=0.1, kernel=rbf;, score=0.372 total time=   6.3s\n",
            "[CV 2/5] END ......C=1.0, gamma=0.1, kernel=rbf;, score=0.359 total time=   6.2s\n",
            "[CV 3/5] END ......C=1.0, gamma=0.1, kernel=rbf;, score=0.383 total time=   6.2s\n",
            "[CV 4/5] END ......C=1.0, gamma=0.1, kernel=rbf;, score=0.378 total time=   6.2s\n",
            "[CV 5/5] END ......C=1.0, gamma=0.1, kernel=rbf;, score=0.367 total time=   6.3s\n",
            "[CV 1/5] END ..C=1.0, gamma=0.01, kernel=linear;, score=0.344 total time=   4.8s\n",
            "[CV 2/5] END ..C=1.0, gamma=0.01, kernel=linear;, score=0.339 total time=   4.7s\n",
            "[CV 3/5] END ..C=1.0, gamma=0.01, kernel=linear;, score=0.359 total time=   4.8s\n",
            "[CV 4/5] END ..C=1.0, gamma=0.01, kernel=linear;, score=0.350 total time=   4.7s\n",
            "[CV 5/5] END ..C=1.0, gamma=0.01, kernel=linear;, score=0.344 total time=   4.8s\n",
            "[CV 1/5] END .....C=1.0, gamma=0.01, kernel=rbf;, score=0.093 total time=   6.3s\n",
            "[CV 2/5] END .....C=1.0, gamma=0.01, kernel=rbf;, score=0.093 total time=   6.3s\n",
            "[CV 3/5] END .....C=1.0, gamma=0.01, kernel=rbf;, score=0.311 total time=   6.6s\n",
            "[CV 4/5] END .....C=1.0, gamma=0.01, kernel=rbf;, score=0.595 total time=   6.5s\n",
            "[CV 5/5] END .....C=1.0, gamma=0.01, kernel=rbf;, score=0.595 total time=   6.3s\n",
            "[CV 1/5] END .C=1.0, gamma=0.001, kernel=linear;, score=0.344 total time=   4.8s\n",
            "[CV 2/5] END .C=1.0, gamma=0.001, kernel=linear;, score=0.339 total time=   4.8s\n",
            "[CV 3/5] END .C=1.0, gamma=0.001, kernel=linear;, score=0.359 total time=   4.8s\n",
            "[CV 4/5] END .C=1.0, gamma=0.001, kernel=linear;, score=0.350 total time=   4.8s\n",
            "[CV 5/5] END .C=1.0, gamma=0.001, kernel=linear;, score=0.344 total time=   4.8s\n",
            "[CV 1/5] END ....C=1.0, gamma=0.001, kernel=rbf;, score=0.093 total time=   6.3s\n",
            "[CV 2/5] END ....C=1.0, gamma=0.001, kernel=rbf;, score=0.093 total time=   6.3s\n",
            "[CV 3/5] END ....C=1.0, gamma=0.001, kernel=rbf;, score=0.311 total time=   6.3s\n",
            "[CV 4/5] END ....C=1.0, gamma=0.001, kernel=rbf;, score=0.595 total time=   6.3s\n",
            "[CV 5/5] END ....C=1.0, gamma=0.001, kernel=rbf;, score=0.595 total time=   6.3s\n",
            "[CV 1/5] END C=1.0, gamma=0.0001, kernel=linear;, score=0.344 total time=   4.8s\n",
            "[CV 2/5] END C=1.0, gamma=0.0001, kernel=linear;, score=0.339 total time=   4.9s\n",
            "[CV 3/5] END C=1.0, gamma=0.0001, kernel=linear;, score=0.359 total time=   4.8s\n",
            "[CV 4/5] END C=1.0, gamma=0.0001, kernel=linear;, score=0.350 total time=   4.8s\n",
            "[CV 5/5] END C=1.0, gamma=0.0001, kernel=linear;, score=0.344 total time=   4.8s\n",
            "[CV 1/5] END ...C=1.0, gamma=0.0001, kernel=rbf;, score=0.093 total time=   6.5s\n",
            "[CV 2/5] END ...C=1.0, gamma=0.0001, kernel=rbf;, score=0.093 total time=   6.4s\n",
            "[CV 3/5] END ...C=1.0, gamma=0.0001, kernel=rbf;, score=0.311 total time=   6.3s\n",
            "[CV 4/5] END ...C=1.0, gamma=0.0001, kernel=rbf;, score=0.595 total time=   6.3s\n",
            "[CV 5/5] END ...C=1.0, gamma=0.0001, kernel=rbf;, score=0.595 total time=   6.3s\n",
            "[CV 1/5] END ..C=10.0, gamma=1.0, kernel=linear;, score=0.337 total time=   4.9s\n",
            "[CV 2/5] END ..C=10.0, gamma=1.0, kernel=linear;, score=0.336 total time=   4.9s\n",
            "[CV 3/5] END ..C=10.0, gamma=1.0, kernel=linear;, score=0.365 total time=   5.0s\n",
            "[CV 4/5] END ..C=10.0, gamma=1.0, kernel=linear;, score=0.353 total time=   5.0s\n",
            "[CV 5/5] END ..C=10.0, gamma=1.0, kernel=linear;, score=0.338 total time=   5.1s\n",
            "[CV 1/5] END .....C=10.0, gamma=1.0, kernel=rbf;, score=0.527 total time=   6.1s\n",
            "[CV 2/5] END .....C=10.0, gamma=1.0, kernel=rbf;, score=0.511 total time=   6.1s\n",
            "[CV 3/5] END .....C=10.0, gamma=1.0, kernel=rbf;, score=0.515 total time=   6.1s\n",
            "[CV 4/5] END .....C=10.0, gamma=1.0, kernel=rbf;, score=0.508 total time=   6.1s\n",
            "[CV 5/5] END .....C=10.0, gamma=1.0, kernel=rbf;, score=0.510 total time=   6.2s\n",
            "[CV 1/5] END ..C=10.0, gamma=0.1, kernel=linear;, score=0.337 total time=   4.9s\n",
            "[CV 2/5] END ..C=10.0, gamma=0.1, kernel=linear;, score=0.336 total time=   4.9s\n",
            "[CV 3/5] END ..C=10.0, gamma=0.1, kernel=linear;, score=0.365 total time=   5.0s\n",
            "[CV 4/5] END ..C=10.0, gamma=0.1, kernel=linear;, score=0.353 total time=   5.0s\n",
            "[CV 5/5] END ..C=10.0, gamma=0.1, kernel=linear;, score=0.338 total time=   5.0s\n",
            "[CV 1/5] END .....C=10.0, gamma=0.1, kernel=rbf;, score=0.355 total time=   5.6s\n",
            "[CV 2/5] END .....C=10.0, gamma=0.1, kernel=rbf;, score=0.346 total time=   5.6s\n",
            "[CV 3/5] END .....C=10.0, gamma=0.1, kernel=rbf;, score=0.375 total time=   5.6s\n",
            "[CV 4/5] END .....C=10.0, gamma=0.1, kernel=rbf;, score=0.370 total time=   5.6s\n",
            "[CV 5/5] END .....C=10.0, gamma=0.1, kernel=rbf;, score=0.356 total time=   5.7s\n",
            "[CV 1/5] END .C=10.0, gamma=0.01, kernel=linear;, score=0.337 total time=   4.9s\n",
            "[CV 2/5] END .C=10.0, gamma=0.01, kernel=linear;, score=0.336 total time=   4.9s\n",
            "[CV 3/5] END .C=10.0, gamma=0.01, kernel=linear;, score=0.365 total time=   5.0s\n",
            "[CV 4/5] END .C=10.0, gamma=0.01, kernel=linear;, score=0.353 total time=   5.0s\n",
            "[CV 5/5] END .C=10.0, gamma=0.01, kernel=linear;, score=0.338 total time=   5.1s\n",
            "[CV 1/5] END ....C=10.0, gamma=0.01, kernel=rbf;, score=0.378 total time=   6.2s\n",
            "[CV 2/5] END ....C=10.0, gamma=0.01, kernel=rbf;, score=0.349 total time=   6.2s\n",
            "[CV 3/5] END ....C=10.0, gamma=0.01, kernel=rbf;, score=0.377 total time=   6.2s\n",
            "[CV 4/5] END ....C=10.0, gamma=0.01, kernel=rbf;, score=0.388 total time=   6.2s\n",
            "[CV 5/5] END ....C=10.0, gamma=0.01, kernel=rbf;, score=0.349 total time=   6.2s\n",
            "[CV 1/5] END C=10.0, gamma=0.001, kernel=linear;, score=0.337 total time=   5.0s\n",
            "[CV 2/5] END C=10.0, gamma=0.001, kernel=linear;, score=0.336 total time=   5.0s\n",
            "[CV 3/5] END C=10.0, gamma=0.001, kernel=linear;, score=0.365 total time=   5.0s\n",
            "[CV 4/5] END C=10.0, gamma=0.001, kernel=linear;, score=0.353 total time=   5.0s\n",
            "[CV 5/5] END C=10.0, gamma=0.001, kernel=linear;, score=0.338 total time=   5.1s\n",
            "[CV 1/5] END ...C=10.0, gamma=0.001, kernel=rbf;, score=0.093 total time=   6.3s\n",
            "[CV 2/5] END ...C=10.0, gamma=0.001, kernel=rbf;, score=0.093 total time=   6.3s\n",
            "[CV 3/5] END ...C=10.0, gamma=0.001, kernel=rbf;, score=0.311 total time=   6.3s\n",
            "[CV 4/5] END ...C=10.0, gamma=0.001, kernel=rbf;, score=0.595 total time=   6.3s\n",
            "[CV 5/5] END ...C=10.0, gamma=0.001, kernel=rbf;, score=0.595 total time=   6.3s\n",
            "[CV 1/5] END C=10.0, gamma=0.0001, kernel=linear;, score=0.337 total time=   4.9s\n",
            "[CV 2/5] END C=10.0, gamma=0.0001, kernel=linear;, score=0.336 total time=   5.0s\n",
            "[CV 3/5] END C=10.0, gamma=0.0001, kernel=linear;, score=0.365 total time=   5.0s\n",
            "[CV 4/5] END C=10.0, gamma=0.0001, kernel=linear;, score=0.353 total time=   5.1s\n",
            "[CV 5/5] END C=10.0, gamma=0.0001, kernel=linear;, score=0.338 total time=   5.1s\n",
            "[CV 1/5] END ..C=10.0, gamma=0.0001, kernel=rbf;, score=0.093 total time=   6.3s\n",
            "[CV 2/5] END ..C=10.0, gamma=0.0001, kernel=rbf;, score=0.093 total time=   6.4s\n",
            "[CV 3/5] END ..C=10.0, gamma=0.0001, kernel=rbf;, score=0.311 total time=   6.4s\n",
            "[CV 4/5] END ..C=10.0, gamma=0.0001, kernel=rbf;, score=0.595 total time=   6.3s\n",
            "[CV 5/5] END ..C=10.0, gamma=0.0001, kernel=rbf;, score=0.595 total time=   6.3s\n",
            "[CV 1/5] END .C=100.0, gamma=1.0, kernel=linear;, score=0.364 total time=  14.5s\n",
            "[CV 2/5] END .C=100.0, gamma=1.0, kernel=linear;, score=0.338 total time=  13.6s\n",
            "[CV 3/5] END .C=100.0, gamma=1.0, kernel=linear;, score=0.365 total time=  15.0s\n",
            "[CV 4/5] END .C=100.0, gamma=1.0, kernel=linear;, score=0.364 total time=  12.8s\n",
            "[CV 5/5] END .C=100.0, gamma=1.0, kernel=linear;, score=0.349 total time=  18.5s\n",
            "[CV 1/5] END ....C=100.0, gamma=1.0, kernel=rbf;, score=0.523 total time=   6.2s\n",
            "[CV 2/5] END ....C=100.0, gamma=1.0, kernel=rbf;, score=0.506 total time=   6.2s\n",
            "[CV 3/5] END ....C=100.0, gamma=1.0, kernel=rbf;, score=0.522 total time=   6.2s\n",
            "[CV 4/5] END ....C=100.0, gamma=1.0, kernel=rbf;, score=0.511 total time=   6.2s\n",
            "[CV 5/5] END ....C=100.0, gamma=1.0, kernel=rbf;, score=0.508 total time=   6.2s\n",
            "[CV 1/5] END .C=100.0, gamma=0.1, kernel=linear;, score=0.364 total time=  14.6s\n",
            "[CV 2/5] END .C=100.0, gamma=0.1, kernel=linear;, score=0.338 total time=  13.6s\n",
            "[CV 3/5] END .C=100.0, gamma=0.1, kernel=linear;, score=0.365 total time=  15.0s\n",
            "[CV 4/5] END .C=100.0, gamma=0.1, kernel=linear;, score=0.364 total time=  12.8s\n",
            "[CV 5/5] END .C=100.0, gamma=0.1, kernel=linear;, score=0.349 total time=  18.7s\n",
            "[CV 1/5] END ....C=100.0, gamma=0.1, kernel=rbf;, score=0.427 total time=   6.2s\n",
            "[CV 2/5] END ....C=100.0, gamma=0.1, kernel=rbf;, score=0.409 total time=   6.1s\n",
            "[CV 3/5] END ....C=100.0, gamma=0.1, kernel=rbf;, score=0.443 total time=   6.1s\n",
            "[CV 4/5] END ....C=100.0, gamma=0.1, kernel=rbf;, score=0.436 total time=   6.1s\n",
            "[CV 5/5] END ....C=100.0, gamma=0.1, kernel=rbf;, score=0.445 total time=   6.2s\n",
            "[CV 1/5] END C=100.0, gamma=0.01, kernel=linear;, score=0.364 total time=  14.6s\n",
            "[CV 2/5] END C=100.0, gamma=0.01, kernel=linear;, score=0.338 total time=  13.6s\n",
            "[CV 3/5] END C=100.0, gamma=0.01, kernel=linear;, score=0.365 total time=  15.0s\n",
            "[CV 4/5] END C=100.0, gamma=0.01, kernel=linear;, score=0.364 total time=  12.8s\n",
            "[CV 5/5] END C=100.0, gamma=0.01, kernel=linear;, score=0.349 total time=  18.5s\n",
            "[CV 1/5] END ...C=100.0, gamma=0.01, kernel=rbf;, score=0.338 total time=   5.6s\n",
            "[CV 2/5] END ...C=100.0, gamma=0.01, kernel=rbf;, score=0.341 total time=   5.6s\n",
            "[CV 3/5] END ...C=100.0, gamma=0.01, kernel=rbf;, score=0.364 total time=   5.6s\n",
            "[CV 4/5] END ...C=100.0, gamma=0.01, kernel=rbf;, score=0.347 total time=   5.6s\n",
            "[CV 5/5] END ...C=100.0, gamma=0.01, kernel=rbf;, score=0.338 total time=   5.7s\n",
            "[CV 1/5] END C=100.0, gamma=0.001, kernel=linear;, score=0.364 total time=  14.5s\n",
            "[CV 2/5] END C=100.0, gamma=0.001, kernel=linear;, score=0.338 total time=  13.5s\n",
            "[CV 3/5] END C=100.0, gamma=0.001, kernel=linear;, score=0.365 total time=  14.9s\n",
            "[CV 4/5] END C=100.0, gamma=0.001, kernel=linear;, score=0.364 total time=  12.8s\n",
            "[CV 5/5] END C=100.0, gamma=0.001, kernel=linear;, score=0.349 total time=  18.6s\n",
            "[CV 1/5] END ..C=100.0, gamma=0.001, kernel=rbf;, score=0.378 total time=   6.2s\n",
            "[CV 2/5] END ..C=100.0, gamma=0.001, kernel=rbf;, score=0.348 total time=   6.2s\n",
            "[CV 3/5] END ..C=100.0, gamma=0.001, kernel=rbf;, score=0.377 total time=   6.2s\n",
            "[CV 4/5] END ..C=100.0, gamma=0.001, kernel=rbf;, score=0.389 total time=   6.2s\n",
            "[CV 5/5] END ..C=100.0, gamma=0.001, kernel=rbf;, score=0.349 total time=   6.3s\n",
            "[CV 1/5] END C=100.0, gamma=0.0001, kernel=linear;, score=0.364 total time=  14.6s\n",
            "[CV 2/5] END C=100.0, gamma=0.0001, kernel=linear;, score=0.338 total time=  13.7s\n",
            "[CV 3/5] END C=100.0, gamma=0.0001, kernel=linear;, score=0.365 total time=  15.1s\n",
            "[CV 4/5] END C=100.0, gamma=0.0001, kernel=linear;, score=0.364 total time=  12.9s\n",
            "[CV 5/5] END C=100.0, gamma=0.0001, kernel=linear;, score=0.349 total time=  19.3s\n",
            "[CV 1/5] END .C=100.0, gamma=0.0001, kernel=rbf;, score=0.093 total time=   6.4s\n",
            "[CV 2/5] END .C=100.0, gamma=0.0001, kernel=rbf;, score=0.093 total time=   6.4s\n",
            "[CV 3/5] END .C=100.0, gamma=0.0001, kernel=rbf;, score=0.311 total time=   6.4s\n",
            "[CV 4/5] END .C=100.0, gamma=0.0001, kernel=rbf;, score=0.595 total time=   6.4s\n",
            "[CV 5/5] END .C=100.0, gamma=0.0001, kernel=rbf;, score=0.595 total time=   6.4s\n",
            "[CV 1/5] END C=1000.0, gamma=1.0, kernel=linear;, score=0.356 total time= 2.1min\n",
            "[CV 2/5] END C=1000.0, gamma=1.0, kernel=linear;, score=0.340 total time= 2.0min\n",
            "[CV 3/5] END C=1000.0, gamma=1.0, kernel=linear;, score=0.370 total time= 2.4min\n",
            "[CV 4/5] END C=1000.0, gamma=1.0, kernel=linear;, score=0.361 total time= 2.2min\n",
            "[CV 5/5] END C=1000.0, gamma=1.0, kernel=linear;, score=0.357 total time= 2.7min\n",
            "[CV 1/5] END ...C=1000.0, gamma=1.0, kernel=rbf;, score=0.522 total time=   6.4s\n",
            "[CV 2/5] END ...C=1000.0, gamma=1.0, kernel=rbf;, score=0.506 total time=   6.2s\n",
            "[CV 3/5] END ...C=1000.0, gamma=1.0, kernel=rbf;, score=0.521 total time=   6.2s\n",
            "[CV 4/5] END ...C=1000.0, gamma=1.0, kernel=rbf;, score=0.510 total time=   6.2s\n",
            "[CV 5/5] END ...C=1000.0, gamma=1.0, kernel=rbf;, score=0.508 total time=   6.2s\n",
            "[CV 1/5] END C=1000.0, gamma=0.1, kernel=linear;, score=0.356 total time= 2.1min\n",
            "[CV 2/5] END C=1000.0, gamma=0.1, kernel=linear;, score=0.340 total time= 2.0min\n",
            "[CV 3/5] END C=1000.0, gamma=0.1, kernel=linear;, score=0.370 total time= 2.4min\n",
            "[CV 4/5] END C=1000.0, gamma=0.1, kernel=linear;, score=0.361 total time= 2.2min\n",
            "[CV 5/5] END C=1000.0, gamma=0.1, kernel=linear;, score=0.357 total time= 2.7min\n",
            "[CV 1/5] END ...C=1000.0, gamma=0.1, kernel=rbf;, score=0.465 total time=   7.2s\n",
            "[CV 2/5] END ...C=1000.0, gamma=0.1, kernel=rbf;, score=0.462 total time=   7.1s\n",
            "[CV 3/5] END ...C=1000.0, gamma=0.1, kernel=rbf;, score=0.491 total time=   7.2s\n",
            "[CV 4/5] END ...C=1000.0, gamma=0.1, kernel=rbf;, score=0.479 total time=   7.2s\n",
            "[CV 5/5] END ...C=1000.0, gamma=0.1, kernel=rbf;, score=0.483 total time=   7.3s\n",
            "[CV 1/5] END C=1000.0, gamma=0.01, kernel=linear;, score=0.356 total time= 2.1min\n",
            "[CV 2/5] END C=1000.0, gamma=0.01, kernel=linear;, score=0.340 total time= 2.1min\n",
            "[CV 3/5] END C=1000.0, gamma=0.01, kernel=linear;, score=0.370 total time= 2.4min\n",
            "[CV 4/5] END C=1000.0, gamma=0.01, kernel=linear;, score=0.361 total time= 2.2min\n",
            "[CV 5/5] END C=1000.0, gamma=0.01, kernel=linear;, score=0.357 total time= 2.7min\n",
            "[CV 1/5] END ..C=1000.0, gamma=0.01, kernel=rbf;, score=0.347 total time=   6.2s\n",
            "[CV 2/5] END ..C=1000.0, gamma=0.01, kernel=rbf;, score=0.342 total time=   6.1s\n",
            "[CV 3/5] END ..C=1000.0, gamma=0.01, kernel=rbf;, score=0.386 total time=   6.3s\n",
            "[CV 4/5] END ..C=1000.0, gamma=0.01, kernel=rbf;, score=0.366 total time=   6.2s\n",
            "[CV 5/5] END ..C=1000.0, gamma=0.01, kernel=rbf;, score=0.364 total time=   6.3s\n",
            "[CV 1/5] END C=1000.0, gamma=0.001, kernel=linear;, score=0.356 total time= 2.1min\n",
            "[CV 2/5] END C=1000.0, gamma=0.001, kernel=linear;, score=0.340 total time= 2.0min\n",
            "[CV 3/5] END C=1000.0, gamma=0.001, kernel=linear;, score=0.370 total time= 2.4min\n",
            "[CV 4/5] END C=1000.0, gamma=0.001, kernel=linear;, score=0.361 total time= 2.2min\n",
            "[CV 5/5] END C=1000.0, gamma=0.001, kernel=linear;, score=0.357 total time= 2.7min\n",
            "[CV 1/5] END .C=1000.0, gamma=0.001, kernel=rbf;, score=0.333 total time=   5.6s\n",
            "[CV 2/5] END .C=1000.0, gamma=0.001, kernel=rbf;, score=0.344 total time=   5.6s\n",
            "[CV 3/5] END .C=1000.0, gamma=0.001, kernel=rbf;, score=0.368 total time=   5.6s\n",
            "[CV 4/5] END .C=1000.0, gamma=0.001, kernel=rbf;, score=0.349 total time=   5.6s\n",
            "[CV 5/5] END .C=1000.0, gamma=0.001, kernel=rbf;, score=0.341 total time=   5.6s\n",
            "[CV 1/5] END C=1000.0, gamma=0.0001, kernel=linear;, score=0.356 total time= 2.1min\n",
            "[CV 2/5] END C=1000.0, gamma=0.0001, kernel=linear;, score=0.340 total time= 2.0min\n",
            "[CV 3/5] END C=1000.0, gamma=0.0001, kernel=linear;, score=0.370 total time= 2.4min\n",
            "[CV 4/5] END C=1000.0, gamma=0.0001, kernel=linear;, score=0.361 total time= 2.2min\n",
            "[CV 5/5] END C=1000.0, gamma=0.0001, kernel=linear;, score=0.357 total time= 2.7min\n",
            "[CV 1/5] END C=1000.0, gamma=0.0001, kernel=rbf;, score=0.378 total time=   6.3s\n",
            "[CV 2/5] END C=1000.0, gamma=0.0001, kernel=rbf;, score=0.348 total time=   6.3s\n",
            "[CV 3/5] END C=1000.0, gamma=0.0001, kernel=rbf;, score=0.377 total time=   6.3s\n",
            "[CV 4/5] END C=1000.0, gamma=0.0001, kernel=rbf;, score=0.389 total time=   6.8s\n",
            "[CV 5/5] END C=1000.0, gamma=0.0001, kernel=rbf;, score=0.349 total time=   6.4s\n"
          ]
        },
        {
          "data": {
            "text/plain": [
              "GridSearchCV(cv=5,\n",
              "             estimator=SVC(class_weight={0: 3.5901234567901232,\n",
              "                                         1: 1.0699043414275202,\n",
              "                                         2: 0.5596612779060816}),\n",
              "             param_grid={'C': array([1.e-01, 1.e+00, 1.e+01, 1.e+02, 1.e+03]),\n",
              "                         'gamma': [1.0, 0.1, 0.01, 0.001, 0.0001],\n",
              "                         'kernel': ['linear', 'rbf']},\n",
              "             scoring='accuracy', verbose=3)"
            ]
          },
          "execution_count": 86,
          "metadata": {},
          "output_type": "execute_result"
        }
      ],
      "source": [
        "kernels = ['linear', 'rbf'] \n",
        "CArray = np.logspace(-1,3,5)\n",
        "gammaArray= list(np.logspace(0,-4,5))\n",
        "\n",
        "param_grid = dict(C=CArray, gamma=gammaArray, kernel = kernels)\n",
        "\n",
        "clf_svc_balanced = GridSearchCV(SVC(class_weight = class_weights), param_grid, cv=5, scoring='accuracy',verbose=3)\n",
        "clf_svc_balanced.fit(X_train, y_train)"
      ]
    },
    {
      "cell_type": "code",
      "execution_count": 87,
      "metadata": {},
      "outputs": [
        {
          "data": {
            "text/plain": [
              "SVC(C=100.0,\n",
              "    class_weight={0: 3.5901234567901232, 1: 1.0699043414275202,\n",
              "                  2: 0.5596612779060816},\n",
              "    gamma=1.0)"
            ]
          },
          "execution_count": 87,
          "metadata": {},
          "output_type": "execute_result"
        }
      ],
      "source": [
        "clf_svc_balanced.best_estimator_"
      ]
    },
    {
      "cell_type": "code",
      "execution_count": 88,
      "metadata": {
        "colab": {
          "base_uri": "https://localhost:8080/"
        },
        "id": "vf8X2zTjnxvs",
        "outputId": "6625b0bd-eea8-412c-9b9d-d998295be3c1"
      },
      "outputs": [
        {
          "name": "stdout",
          "output_type": "stream",
          "text": [
            "Treino - balanced_accuracy :  0.9624414773123152\n",
            "Treino - F1 :  0.9418812246406411\n"
          ]
        }
      ],
      "source": [
        "y_pred = clf_svc_balanced.predict(X_train)\n",
        "print(\"Treino - balanced_accuracy : \", balanced_accuracy_score(y_train,  y_pred))\n",
        "print(\"Treino - F1 : \", f1_score(y_train, y_pred, average='macro'))"
      ]
    },
    {
      "cell_type": "code",
      "execution_count": 89,
      "metadata": {
        "colab": {
          "base_uri": "https://localhost:8080/"
        },
        "id": "SgdVorPGnzB6",
        "outputId": "454ba316-74f1-42e6-c6c3-c44e7b20d5a3"
      },
      "outputs": [
        {
          "name": "stdout",
          "output_type": "stream",
          "text": [
            "Validacao - balanced_accuracy :  0.3215390518477598\n",
            "Treino - F1 :  0.31454694344443684\n"
          ]
        }
      ],
      "source": [
        "y_pred = clf_svc_balanced.predict(X_val)\n",
        "print(\"Validacao - balanced_accuracy : \", balanced_accuracy_score(y_val,  y_pred))\n",
        "print(\"Treino - F1 : \", f1_score(y_val, y_pred, average='macro'))"
      ]
    },
    {
      "cell_type": "code",
      "execution_count": 90,
      "metadata": {
        "colab": {
          "base_uri": "https://localhost:8080/",
          "height": 296
        },
        "id": "ADPhKIcPn05F",
        "outputId": "46edff90-6f1d-4c3f-dc79-8cb9a0817963"
      },
      "outputs": [
        {
          "data": {
            "image/png": "[encoded data removed]",
            "text/plain": [
              "<Figure size 720x288 with 2 Axes>"
            ]
          },
          "metadata": {
            "needs_background": "light"
          },
          "output_type": "display_data"
        }
      ],
      "source": [
        "labels = ['negative', 'neutral', 'positive']\n",
        "cm = confusion_matrix(y_val, y_pred)\n",
        "cmn = cm.astype('float') / cm.sum(axis=1)[:, np.newaxis]\n",
        "cm_df = pd.DataFrame(cmn,\n",
        "                     index = labels, \n",
        "                     columns = labels\n",
        "                     )\n",
        "\n",
        "plt.figure(figsize=(10,4))\n",
        "sns.heatmap(cm_df, annot=True ,fmt='g')\n",
        "plt.title('Confusion Matrix')\n",
        "plt.ylabel('Actual Values')\n",
        "plt.xlabel('Predicted Values')\n",
        "plt.show()"
      ]
    }
  ],
  "metadata": {
    "colab": {
      "collapsed_sections": [],
      "name": "analise-sentimento-memes.ipynb",
      "provenance": []
    },
    "kernelspec": {
      "display_name": "Python 3.7.0 64-bit",
      "language": "python",
      "name": "python3"
    },
    "language_info": {
      "codemirror_mode": {
        "name": "ipython",
        "version": 3
      },
      "file_extension": ".py",
      "mimetype": "text/x-python",
      "name": "python",
      "nbconvert_exporter": "python",
      "pygments_lexer": "ipython3",
      "version": "3.7.0"
    },
    "vscode": {
      "interpreter": {
        "hash": "f2487189b5835e73c5fa6cd7f2ed518f6fa1ff6c9bd8da44d17cb8ab10f576c2"
      }
    }
  },
  "nbformat": 4,
  "nbformat_minor": 0
}
