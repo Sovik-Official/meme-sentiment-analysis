{
 "cells": [
  {
   "cell_type": "code",
   "execution_count": 1,
   "metadata": {},
   "outputs": [
    {
     "name": "stdout",
     "output_type": "stream",
     "text": [
      "Requirement already satisfied: transformers in d:\\programas\\python37\\lib\\site-packages (4.20.1)\n",
      "Requirement already satisfied: filelock in d:\\programas\\python37\\lib\\site-packages (from transformers) (3.7.1)\n",
      "Requirement already satisfied: packaging>=20.0 in d:\\programas\\python37\\lib\\site-packages (from transformers) (21.0)\n",
      "Requirement already satisfied: requests in d:\\programas\\python37\\lib\\site-packages (from transformers) (2.26.0)\n",
      "Requirement already satisfied: huggingface-hub<1.0,>=0.1.0 in d:\\programas\\python37\\lib\\site-packages (from transformers) (0.8.1)\n",
      "Requirement already satisfied: pyyaml>=5.1 in d:\\programas\\python37\\lib\\site-packages (from transformers) (6.0)\n",
      "Requirement already satisfied: regex!=2019.12.17 in d:\\programas\\python37\\lib\\site-packages (from transformers) (2022.6.2)\n",
      "Requirement already satisfied: tqdm>=4.27 in d:\\programas\\python37\\lib\\site-packages (from transformers) (4.64.0)\n",
      "Requirement already satisfied: importlib-metadata in d:\\programas\\python37\\lib\\site-packages (from transformers) (4.11.3)\n",
      "Requirement already satisfied: tokenizers!=0.11.3,<0.13,>=0.11.1 in d:\\programas\\python37\\lib\\site-packages (from transformers) (0.12.1)\n",
      "Requirement already satisfied: numpy>=1.17 in d:\\programas\\python37\\lib\\site-packages (from transformers) (1.20.2)\n",
      "Requirement already satisfied: typing-extensions>=3.7.4.3 in d:\\programas\\python37\\lib\\site-packages (from huggingface-hub<1.0,>=0.1.0->transformers) (3.10.0.0)\n",
      "Requirement already satisfied: pyparsing>=2.0.2 in d:\\programas\\python37\\lib\\site-packages (from packaging>=20.0->transformers) (2.4.7)\n",
      "Requirement already satisfied: colorama in d:\\programas\\python37\\lib\\site-packages (from tqdm>=4.27->transformers) (0.4.4)\n",
      "Requirement already satisfied: zipp>=0.5 in d:\\programas\\python37\\lib\\site-packages (from importlib-metadata->transformers) (3.5.0)\n",
      "Requirement already satisfied: certifi>=2017.4.17 in d:\\programas\\python37\\lib\\site-packages (from requests->transformers) (2020.12.5)\n",
      "Requirement already satisfied: idna<4,>=2.5 in d:\\programas\\python37\\lib\\site-packages (from requests->transformers) (3.2)\n",
      "Requirement already satisfied: charset-normalizer~=2.0.0 in d:\\programas\\python37\\lib\\site-packages (from requests->transformers) (2.0.3)\n",
      "Requirement already satisfied: urllib3<1.27,>=1.21.1 in d:\\programas\\python37\\lib\\site-packages (from requests->transformers) (1.26.6)\n"
     ]
    },
    {
     "name": "stderr",
     "output_type": "stream",
     "text": [
      "WARNING: Ignoring invalid distribution -ip (d:\\programas\\python37\\lib\\site-packages)\n",
      "WARNING: Ignoring invalid distribution -ip (d:\\programas\\python37\\lib\\site-packages)\n",
      "WARNING: Ignoring invalid distribution -ip (d:\\programas\\python37\\lib\\site-packages)\n",
      "WARNING: Ignoring invalid distribution -ip (d:\\programas\\python37\\lib\\site-packages)\n",
      "WARNING: Ignoring invalid distribution -ip (d:\\programas\\python37\\lib\\site-packages)\n",
      "WARNING: Ignoring invalid distribution -ip (d:\\programas\\python37\\lib\\site-packages)\n",
      "WARNING: You are using pip version 21.2.2; however, version 22.1.2 is available.\n",
      "You should consider upgrading via the 'd:\\programas\\python37\\python.exe -m pip install --upgrade pip' command.\n"
     ]
    },
    {
     "name": "stdout",
     "output_type": "stream",
     "text": [
      "Requirement already satisfied: datasets in d:\\programas\\python37\\lib\\site-packages (2.3.2)\n",
      "Requirement already satisfied: requests>=2.19.0 in d:\\programas\\python37\\lib\\site-packages (from datasets) (2.26.0)\n",
      "Requirement already satisfied: tqdm>=4.62.1 in d:\\programas\\python37\\lib\\site-packages (from datasets) (4.64.0)\n",
      "Requirement already satisfied: responses<0.19 in d:\\programas\\python37\\lib\\site-packages (from datasets) (0.18.0)\n",
      "Requirement already satisfied: multiprocess in d:\\programas\\python37\\lib\\site-packages (from datasets) (0.70.13)\n",
      "Requirement already satisfied: huggingface-hub<1.0.0,>=0.1.0 in d:\\programas\\python37\\lib\\site-packages (from datasets) (0.8.1)\n",
      "Requirement already satisfied: pandas in d:\\programas\\python37\\lib\\site-packages (from datasets) (1.1.5)\n",
      "Requirement already satisfied: importlib-metadata in d:\\programas\\python37\\lib\\site-packages (from datasets) (4.11.3)\n",
      "Requirement already satisfied: pyarrow>=6.0.0 in d:\\programas\\python37\\lib\\site-packages (from datasets) (8.0.0)\n",
      "Requirement already satisfied: fsspec[http]>=2021.05.0 in d:\\programas\\python37\\lib\\site-packages (from datasets) (2022.5.0)\n",
      "Requirement already satisfied: packaging in d:\\programas\\python37\\lib\\site-packages (from datasets) (21.0)\n",
      "Requirement already satisfied: xxhash in d:\\programas\\python37\\lib\\site-packages (from datasets) (3.0.0)\n",
      "Requirement already satisfied: aiohttp in d:\\programas\\python37\\lib\\site-packages (from datasets) (3.8.1)\n",
      "Requirement already satisfied: dill<0.3.6 in d:\\programas\\python37\\lib\\site-packages (from datasets) (0.3.5.1)\n",
      "Requirement already satisfied: numpy>=1.17 in d:\\programas\\python37\\lib\\site-packages (from datasets) (1.20.2)\n",
      "Requirement already satisfied: pyyaml>=5.1 in d:\\programas\\python37\\lib\\site-packages (from huggingface-hub<1.0.0,>=0.1.0->datasets) (6.0)\n"
     ]
    },
    {
     "name": "stderr",
     "output_type": "stream",
     "text": [
      "WARNING: Ignoring invalid distribution -ip (d:\\programas\\python37\\lib\\site-packages)\n",
      "WARNING: Ignoring invalid distribution -ip (d:\\programas\\python37\\lib\\site-packages)\n",
      "WARNING: Ignoring invalid distribution -ip (d:\\programas\\python37\\lib\\site-packages)\n",
      "WARNING: Ignoring invalid distribution -ip (d:\\programas\\python37\\lib\\site-packages)\n",
      "WARNING: Ignoring invalid distribution -ip (d:\\programas\\python37\\lib\\site-packages)\n",
      "WARNING: Ignoring invalid distribution -ip (d:\\programas\\python37\\lib\\site-packages)\n",
      "WARNING: You are using pip version 21.2.2; however, version 22.1.2 is available.\n",
      "You should consider upgrading via the 'd:\\programas\\python37\\python.exe -m pip install --upgrade pip' command.\n"
     ]
    },
    {
     "name": "stdout",
     "output_type": "stream",
     "text": [
      "Requirement already satisfied: filelock in d:\\programas\\python37\\lib\\site-packages (from huggingface-hub<1.0.0,>=0.1.0->datasets) (3.7.1)\n",
      "Requirement already satisfied: typing-extensions>=3.7.4.3 in d:\\programas\\python37\\lib\\site-packages (from huggingface-hub<1.0.0,>=0.1.0->datasets) (3.10.0.0)\n",
      "Requirement already satisfied: pyparsing>=2.0.2 in d:\\programas\\python37\\lib\\site-packages (from packaging->datasets) (2.4.7)\n",
      "Requirement already satisfied: charset-normalizer~=2.0.0 in d:\\programas\\python37\\lib\\site-packages (from requests>=2.19.0->datasets) (2.0.3)\n",
      "Requirement already satisfied: certifi>=2017.4.17 in d:\\programas\\python37\\lib\\site-packages (from requests>=2.19.0->datasets) (2020.12.5)\n",
      "Requirement already satisfied: idna<4,>=2.5 in d:\\programas\\python37\\lib\\site-packages (from requests>=2.19.0->datasets) (3.2)\n",
      "Requirement already satisfied: urllib3<1.27,>=1.21.1 in d:\\programas\\python37\\lib\\site-packages (from requests>=2.19.0->datasets) (1.26.6)\n",
      "Requirement already satisfied: colorama in d:\\programas\\python37\\lib\\site-packages (from tqdm>=4.62.1->datasets) (0.4.4)\n",
      "Requirement already satisfied: frozenlist>=1.1.1 in d:\\programas\\python37\\lib\\site-packages (from aiohttp->datasets) (1.3.0)\n",
      "Requirement already satisfied: multidict<7.0,>=4.5 in d:\\programas\\python37\\lib\\site-packages (from aiohttp->datasets) (6.0.2)\n",
      "Requirement already satisfied: asynctest==0.13.0 in d:\\programas\\python37\\lib\\site-packages (from aiohttp->datasets) (0.13.0)\n",
      "Requirement already satisfied: aiosignal>=1.1.2 in d:\\programas\\python37\\lib\\site-packages (from aiohttp->datasets) (1.2.0)\n",
      "Requirement already satisfied: attrs>=17.3.0 in d:\\programas\\python37\\lib\\site-packages (from aiohttp->datasets) (21.2.0)\n",
      "Requirement already satisfied: async-timeout<5.0,>=4.0.0a3 in d:\\programas\\python37\\lib\\site-packages (from aiohttp->datasets) (4.0.2)\n",
      "Requirement already satisfied: yarl<2.0,>=1.0 in d:\\programas\\python37\\lib\\site-packages (from aiohttp->datasets) (1.7.2)\n",
      "Requirement already satisfied: zipp>=0.5 in d:\\programas\\python37\\lib\\site-packages (from importlib-metadata->datasets) (3.5.0)\n",
      "Requirement already satisfied: pytz>=2017.2 in d:\\programas\\python37\\lib\\site-packages (from pandas->datasets) (2021.1)\n",
      "Requirement already satisfied: python-dateutil>=2.7.3 in d:\\programas\\python37\\lib\\site-packages (from pandas->datasets) (2.8.1)\n",
      "Requirement already satisfied: six>=1.5 in d:\\programas\\python37\\lib\\site-packages (from python-dateutil>=2.7.3->pandas->datasets) (1.16.0)\n"
     ]
    }
   ],
   "source": [
    "! pip install transformers\n",
    "! pip install datasets"
   ]
  },
  {
   "cell_type": "code",
   "execution_count": 1,
   "metadata": {},
   "outputs": [],
   "source": [
    "import pandas as pd\n",
    "import numpy as np\n",
    "from sklearn.model_selection import train_test_split\n",
    "from datasets import Dataset\n",
    "from transformers import TFAutoModelForSequenceClassification, AutoTokenizer, DataCollatorWithPadding\n",
    "import tensorflow as tf\n",
    "from sklearn.utils import class_weight \n",
    "import keras\n",
    "\n",
    "from sklearn.metrics import confusion_matrix\n",
    "from sklearn.metrics import balanced_accuracy_score\n",
    "from sklearn.metrics import f1_score\n",
    "\n",
    "import matplotlib.pyplot as plt\n",
    "import seaborn as sns\n",
    "\n",
    "import yaml"
   ]
  },
  {
   "cell_type": "code",
   "execution_count": 2,
   "metadata": {},
   "outputs": [],
   "source": [
    "with open(\"../../config.yaml\", \"r\") as stream:\n",
    "    try:\n",
    "        configs = yaml.safe_load(stream)\n",
    "    except yaml.YAMLError as exc:\n",
    "        print(exc)"
   ]
  },
  {
   "cell_type": "code",
   "execution_count": 3,
   "metadata": {},
   "outputs": [],
   "source": [
    "SEED  = configs['SEED']\n",
    "PATH_TO_TRAIN_DS_PROCESSED = str(configs['ROOT_DIR'] + configs['PATH_TO_TRAIN_DS_PROCESSED'])\n",
    "PATH_TO_MODELS  = str(configs['ROOT_DIR'] + configs['PATH_TO_MODELS'])\n",
    "PATH_TO_WEIGHTS = str(configs['ROOT_DIR'] + configs['PATH_TO_WEIGHTS'])"
   ]
  },
  {
   "cell_type": "code",
   "execution_count": 4,
   "metadata": {},
   "outputs": [
    {
     "data": {
      "text/html": [
       "<div>\n",
       "<style scoped>\n",
       "    .dataframe tbody tr th:only-of-type {\n",
       "        vertical-align: middle;\n",
       "    }\n",
       "\n",
       "    .dataframe tbody tr th {\n",
       "        vertical-align: top;\n",
       "    }\n",
       "\n",
       "    .dataframe thead th {\n",
       "        text-align: right;\n",
       "    }\n",
       "</style>\n",
       "<table border=\"1\" class=\"dataframe\">\n",
       "  <thead>\n",
       "    <tr style=\"text-align: right;\">\n",
       "      <th></th>\n",
       "      <th>image_name</th>\n",
       "      <th>text</th>\n",
       "      <th>humour</th>\n",
       "      <th>sarcasm</th>\n",
       "      <th>offensive</th>\n",
       "      <th>motivational</th>\n",
       "      <th>target</th>\n",
       "    </tr>\n",
       "  </thead>\n",
       "  <tbody>\n",
       "    <tr>\n",
       "      <th>0</th>\n",
       "      <td>image_1415.jpeg</td>\n",
       "      <td>if you want to view paradis simpli look around...</td>\n",
       "      <td>not_funny</td>\n",
       "      <td>not_sarcastic</td>\n",
       "      <td>not_offensive</td>\n",
       "      <td>motivational</td>\n",
       "      <td>positive</td>\n",
       "    </tr>\n",
       "    <tr>\n",
       "      <th>1</th>\n",
       "      <td>image_6460.png</td>\n",
       "      <td>if i had a brick for everi lie hillari told i ...</td>\n",
       "      <td>hilarious</td>\n",
       "      <td>general</td>\n",
       "      <td>very_offensive</td>\n",
       "      <td>motivational</td>\n",
       "      <td>positive</td>\n",
       "    </tr>\n",
       "    <tr>\n",
       "      <th>2</th>\n",
       "      <td>image_2303.png</td>\n",
       "      <td>that thing over there can i eat that</td>\n",
       "      <td>very_funny</td>\n",
       "      <td>general</td>\n",
       "      <td>not_offensive</td>\n",
       "      <td>motivational</td>\n",
       "      <td>very_positive</td>\n",
       "    </tr>\n",
       "    <tr>\n",
       "      <th>3</th>\n",
       "      <td>image_2417.png</td>\n",
       "      <td>my dad point to liam and said when did david b...</td>\n",
       "      <td>not_funny</td>\n",
       "      <td>general</td>\n",
       "      <td>very_offensive</td>\n",
       "      <td>motivational</td>\n",
       "      <td>neutral</td>\n",
       "    </tr>\n",
       "    <tr>\n",
       "      <th>4</th>\n",
       "      <td>image_11.jpg</td>\n",
       "      <td>probabl the first man to do year challeng chen...</td>\n",
       "      <td>funny</td>\n",
       "      <td>general</td>\n",
       "      <td>very_offensive</td>\n",
       "      <td>motivational</td>\n",
       "      <td>negative</td>\n",
       "    </tr>\n",
       "  </tbody>\n",
       "</table>\n",
       "</div>"
      ],
      "text/plain": [
       "        image_name                                               text  \\\n",
       "0  image_1415.jpeg  if you want to view paradis simpli look around...   \n",
       "1   image_6460.png  if i had a brick for everi lie hillari told i ...   \n",
       "2   image_2303.png               that thing over there can i eat that   \n",
       "3   image_2417.png  my dad point to liam and said when did david b...   \n",
       "4     image_11.jpg  probabl the first man to do year challeng chen...   \n",
       "\n",
       "       humour        sarcasm       offensive  motivational         target  \n",
       "0   not_funny  not_sarcastic   not_offensive  motivational       positive  \n",
       "1   hilarious        general  very_offensive  motivational       positive  \n",
       "2  very_funny        general   not_offensive  motivational  very_positive  \n",
       "3   not_funny        general  very_offensive  motivational        neutral  \n",
       "4       funny        general  very_offensive  motivational       negative  "
      ]
     },
     "execution_count": 4,
     "metadata": {},
     "output_type": "execute_result"
    }
   ],
   "source": [
    "base = pd.read_csv(PATH_TO_TRAIN_DS_PROCESSED)\n",
    "base.head()"
   ]
  },
  {
   "cell_type": "code",
   "execution_count": 5,
   "metadata": {},
   "outputs": [
    {
     "data": {
      "text/html": [
       "<div>\n",
       "<style scoped>\n",
       "    .dataframe tbody tr th:only-of-type {\n",
       "        vertical-align: middle;\n",
       "    }\n",
       "\n",
       "    .dataframe tbody tr th {\n",
       "        vertical-align: top;\n",
       "    }\n",
       "\n",
       "    .dataframe thead th {\n",
       "        text-align: right;\n",
       "    }\n",
       "</style>\n",
       "<table border=\"1\" class=\"dataframe\">\n",
       "  <thead>\n",
       "    <tr style=\"text-align: right;\">\n",
       "      <th></th>\n",
       "      <th>text</th>\n",
       "      <th>target</th>\n",
       "    </tr>\n",
       "  </thead>\n",
       "  <tbody>\n",
       "    <tr>\n",
       "      <th>0</th>\n",
       "      <td>if you want to view paradis simpli look around...</td>\n",
       "      <td>positive</td>\n",
       "    </tr>\n",
       "    <tr>\n",
       "      <th>1</th>\n",
       "      <td>if i had a brick for everi lie hillari told i ...</td>\n",
       "      <td>positive</td>\n",
       "    </tr>\n",
       "    <tr>\n",
       "      <th>2</th>\n",
       "      <td>that thing over there can i eat that</td>\n",
       "      <td>very_positive</td>\n",
       "    </tr>\n",
       "    <tr>\n",
       "      <th>3</th>\n",
       "      <td>my dad point to liam and said when did david b...</td>\n",
       "      <td>neutral</td>\n",
       "    </tr>\n",
       "    <tr>\n",
       "      <th>4</th>\n",
       "      <td>probabl the first man to do year challeng chen...</td>\n",
       "      <td>negative</td>\n",
       "    </tr>\n",
       "  </tbody>\n",
       "</table>\n",
       "</div>"
      ],
      "text/plain": [
       "                                                text         target\n",
       "0  if you want to view paradis simpli look around...       positive\n",
       "1  if i had a brick for everi lie hillari told i ...       positive\n",
       "2               that thing over there can i eat that  very_positive\n",
       "3  my dad point to liam and said when did david b...        neutral\n",
       "4  probabl the first man to do year challeng chen...       negative"
      ]
     },
     "execution_count": 5,
     "metadata": {},
     "output_type": "execute_result"
    }
   ],
   "source": [
    "base.drop(columns=['image_name', 'humour', 'sarcasm','offensive','motivational'], inplace=True)\n",
    "base.head()"
   ]
  },
  {
   "cell_type": "markdown",
   "metadata": {},
   "source": [
    "#### Considerando somente as labels 'negative', 'neutral' e 'positive'."
   ]
  },
  {
   "cell_type": "code",
   "execution_count": 6,
   "metadata": {},
   "outputs": [
    {
     "data": {
      "text/html": [
       "<div>\n",
       "<style scoped>\n",
       "    .dataframe tbody tr th:only-of-type {\n",
       "        vertical-align: middle;\n",
       "    }\n",
       "\n",
       "    .dataframe tbody tr th {\n",
       "        vertical-align: top;\n",
       "    }\n",
       "\n",
       "    .dataframe thead th {\n",
       "        text-align: right;\n",
       "    }\n",
       "</style>\n",
       "<table border=\"1\" class=\"dataframe\">\n",
       "  <thead>\n",
       "    <tr style=\"text-align: right;\">\n",
       "      <th></th>\n",
       "      <th>text</th>\n",
       "      <th>target</th>\n",
       "    </tr>\n",
       "  </thead>\n",
       "  <tbody>\n",
       "    <tr>\n",
       "      <th>0</th>\n",
       "      <td>if you want to view paradis simpli look around...</td>\n",
       "      <td>2</td>\n",
       "    </tr>\n",
       "    <tr>\n",
       "      <th>1</th>\n",
       "      <td>if i had a brick for everi lie hillari told i ...</td>\n",
       "      <td>2</td>\n",
       "    </tr>\n",
       "    <tr>\n",
       "      <th>2</th>\n",
       "      <td>that thing over there can i eat that</td>\n",
       "      <td>2</td>\n",
       "    </tr>\n",
       "    <tr>\n",
       "      <th>3</th>\n",
       "      <td>my dad point to liam and said when did david b...</td>\n",
       "      <td>1</td>\n",
       "    </tr>\n",
       "    <tr>\n",
       "      <th>4</th>\n",
       "      <td>probabl the first man to do year challeng chen...</td>\n",
       "      <td>0</td>\n",
       "    </tr>\n",
       "  </tbody>\n",
       "</table>\n",
       "</div>"
      ],
      "text/plain": [
       "                                                text  target\n",
       "0  if you want to view paradis simpli look around...       2\n",
       "1  if i had a brick for everi lie hillari told i ...       2\n",
       "2               that thing over there can i eat that       2\n",
       "3  my dad point to liam and said when did david b...       1\n",
       "4  probabl the first man to do year challeng chen...       0"
      ]
     },
     "execution_count": 6,
     "metadata": {},
     "output_type": "execute_result"
    }
   ],
   "source": [
    "base.target.replace(\"very_positive\", \n",
    "           \"positive\", \n",
    "           inplace=True)\n",
    "base.target.replace(\"very_negative\", \n",
    "           \"negative\", \n",
    "           inplace=True)    \n",
    "NUM_LABELS = len(base.target.unique())\n",
    "base.target = base.target.astype('category').cat.codes\n",
    "\n",
    "base.head()"
   ]
  },
  {
   "cell_type": "code",
   "execution_count": 7,
   "metadata": {},
   "outputs": [
    {
     "name": "stdout",
     "output_type": "stream",
     "text": [
      "(4362, 2) (1091, 2)\n"
     ]
    }
   ],
   "source": [
    "train, val = train_test_split(base, test_size=0.2, random_state=SEED)\n",
    "print(train.shape, val.shape)"
   ]
  },
  {
   "cell_type": "code",
   "execution_count": 8,
   "metadata": {},
   "outputs": [],
   "source": [
    "dataset_train = Dataset.from_pandas(train, preserve_index=False)\n",
    "dataset_val = Dataset.from_pandas(val, preserve_index=False)"
   ]
  },
  {
   "cell_type": "code",
   "execution_count": 9,
   "metadata": {},
   "outputs": [
    {
     "data": {
      "text/plain": [
       "Dataset({\n",
       "    features: ['text', 'target'],\n",
       "    num_rows: 4362\n",
       "})"
      ]
     },
     "execution_count": 9,
     "metadata": {},
     "output_type": "execute_result"
    }
   ],
   "source": [
    "dataset_train"
   ]
  },
  {
   "cell_type": "code",
   "execution_count": 10,
   "metadata": {},
   "outputs": [
    {
     "data": {
      "text/plain": [
       "Dataset({\n",
       "    features: ['text', 'target'],\n",
       "    num_rows: 1091\n",
       "})"
      ]
     },
     "execution_count": 10,
     "metadata": {},
     "output_type": "execute_result"
    }
   ],
   "source": [
    "dataset_val"
   ]
  },
  {
   "cell_type": "markdown",
   "metadata": {},
   "source": [
    "# Utilização dos transformers"
   ]
  },
  {
   "cell_type": "code",
   "execution_count": 11,
   "metadata": {},
   "outputs": [
    {
     "data": {
      "application/vnd.jupyter.widget-view+json": {
       "model_id": "11150e28479d464fbf84ae3269b7b737",
       "version_major": 2,
       "version_minor": 0
      },
      "text/plain": [
       "Downloading:   0%|          | 0.00/481 [00:00<?, ?B/s]"
      ]
     },
     "metadata": {},
     "output_type": "display_data"
    },
    {
     "data": {
      "application/vnd.jupyter.widget-view+json": {
       "model_id": "fba32898257b4d868f2a9c5960eb126d",
       "version_major": 2,
       "version_minor": 0
      },
      "text/plain": [
       "Downloading:   0%|          | 0.00/878k [00:00<?, ?B/s]"
      ]
     },
     "metadata": {},
     "output_type": "display_data"
    },
    {
     "data": {
      "application/vnd.jupyter.widget-view+json": {
       "model_id": "841ccc4b6ab0489188320977250ab226",
       "version_major": 2,
       "version_minor": 0
      },
      "text/plain": [
       "Downloading:   0%|          | 0.00/446k [00:00<?, ?B/s]"
      ]
     },
     "metadata": {},
     "output_type": "display_data"
    },
    {
     "data": {
      "application/vnd.jupyter.widget-view+json": {
       "model_id": "036e462c392a4c29a3555ddc5003defb",
       "version_major": 2,
       "version_minor": 0
      },
      "text/plain": [
       "Downloading:   0%|          | 0.00/1.29M [00:00<?, ?B/s]"
      ]
     },
     "metadata": {},
     "output_type": "display_data"
    }
   ],
   "source": [
    "model_name = \"roberta-base\"\n",
    "tokenizer = AutoTokenizer.from_pretrained(model_name)"
   ]
  },
  {
   "cell_type": "code",
   "execution_count": 12,
   "metadata": {},
   "outputs": [
    {
     "name": "stderr",
     "output_type": "stream",
     "text": [
      "Parameter 'function'=<function tokenize_function at 0x00000276F1DF4D90> of the transform datasets.arrow_dataset.Dataset._map_single couldn't be hashed properly, a random hash was used instead. Make sure your transforms and parameters are serializable with pickle or dill for the dataset fingerprinting and caching to work. If you reuse this transform, the caching mechanism will consider it to be different from the previous calls and recompute everything. This warning is only showed once. Subsequent hashing failures won't be showed.\n"
     ]
    },
    {
     "data": {
      "application/vnd.jupyter.widget-view+json": {
       "model_id": "d77a6c9c86f54fa29dc0c6f1adbcef46",
       "version_major": 2,
       "version_minor": 0
      },
      "text/plain": [
       "  0%|          | 0/4362 [00:00<?, ?ex/s]"
      ]
     },
     "metadata": {},
     "output_type": "display_data"
    },
    {
     "data": {
      "application/vnd.jupyter.widget-view+json": {
       "model_id": "eed693b562ed4b9e8ba10ec8e833924a",
       "version_major": 2,
       "version_minor": 0
      },
      "text/plain": [
       "  0%|          | 0/1091 [00:00<?, ?ex/s]"
      ]
     },
     "metadata": {},
     "output_type": "display_data"
    }
   ],
   "source": [
    "def tokenize_function(sample):\n",
    "  return tokenizer(sample[\"text\"])\n",
    "\n",
    "tokenized_dataset_train = dataset_train.map(tokenize_function)\n",
    "tokenized_dataset_val = dataset_val.map(tokenize_function)"
   ]
  },
  {
   "cell_type": "code",
   "execution_count": 13,
   "metadata": {},
   "outputs": [
    {
     "data": {
      "text/plain": [
       "Dataset({\n",
       "    features: ['text', 'target', 'input_ids', 'attention_mask'],\n",
       "    num_rows: 4362\n",
       "})"
      ]
     },
     "execution_count": 13,
     "metadata": {},
     "output_type": "execute_result"
    }
   ],
   "source": [
    "tokenized_dataset_train"
   ]
  },
  {
   "cell_type": "code",
   "execution_count": 14,
   "metadata": {},
   "outputs": [
    {
     "data": {
      "text/plain": [
       "Dataset({\n",
       "    features: ['text', 'target', 'input_ids', 'attention_mask'],\n",
       "    num_rows: 1091\n",
       "})"
      ]
     },
     "execution_count": 14,
     "metadata": {},
     "output_type": "execute_result"
    }
   ],
   "source": [
    "tokenized_dataset_val"
   ]
  },
  {
   "cell_type": "code",
   "execution_count": 15,
   "metadata": {},
   "outputs": [],
   "source": [
    "data_collator = DataCollatorWithPadding(tokenizer=tokenizer, return_tensors=\"tf\")"
   ]
  },
  {
   "cell_type": "code",
   "execution_count": 16,
   "metadata": {},
   "outputs": [],
   "source": [
    "tf_train_dataset = tokenized_dataset_train.to_tf_dataset(\n",
    "    columns=[\"attention_mask\", \"input_ids\", \"token_type_ids\"],\n",
    "    label_cols=[\"target\"],\n",
    "    shuffle=True,\n",
    "    collate_fn=data_collator,\n",
    "    batch_size=8,\n",
    ")"
   ]
  },
  {
   "cell_type": "code",
   "execution_count": 17,
   "metadata": {},
   "outputs": [],
   "source": [
    "tf_val_dataset = tokenized_dataset_val.to_tf_dataset(\n",
    "    columns=[\"attention_mask\", \"input_ids\", \"token_type_ids\"],\n",
    "    label_cols=[\"target\"],\n",
    "    shuffle=False,\n",
    "    collate_fn=data_collator,\n",
    "    batch_size=8,\n",
    ")"
   ]
  },
  {
   "cell_type": "code",
   "execution_count": 18,
   "metadata": {},
   "outputs": [
    {
     "data": {
      "application/vnd.jupyter.widget-view+json": {
       "model_id": "ff8432293a804c41b0e49e0870675063",
       "version_major": 2,
       "version_minor": 0
      },
      "text/plain": [
       "Downloading:   0%|          | 0.00/627M [00:00<?, ?B/s]"
      ]
     },
     "metadata": {},
     "output_type": "display_data"
    },
    {
     "name": "stderr",
     "output_type": "stream",
     "text": [
      "All model checkpoint layers were used when initializing TFRobertaForSequenceClassification.\n",
      "\n",
      "Some layers of TFRobertaForSequenceClassification were not initialized from the model checkpoint at roberta-base and are newly initialized: ['classifier']\n",
      "You should probably TRAIN this model on a down-stream task to be able to use it for predictions and inference.\n"
     ]
    }
   ],
   "source": [
    "model = TFAutoModelForSequenceClassification.from_pretrained(model_name, num_labels=NUM_LABELS)"
   ]
  },
  {
   "cell_type": "code",
   "execution_count": 14,
   "metadata": {},
   "outputs": [],
   "source": [
    "class BalancedSparseCategoricalAccuracy(keras.metrics.SparseCategoricalAccuracy):\n",
    "    def __init__(self, name='balanced_sparse_categorical_accuracy', dtype=None):\n",
    "        super().__init__(name, dtype=dtype)\n",
    "\n",
    "    def update_state(self, y_true, y_pred, sample_weight=None):\n",
    "        y_flat = y_true\n",
    "        if y_true.shape.ndims == y_pred.shape.ndims:\n",
    "            y_flat = tf.squeeze(y_flat, axis=[-1])\n",
    "        y_true_int = tf.cast(y_flat, tf.int32)\n",
    "\n",
    "        cls_counts = tf.math.bincount(y_true_int)\n",
    "        cls_counts = tf.math.reciprocal_no_nan(tf.cast(cls_counts, self.dtype))\n",
    "        weight = tf.gather(cls_counts, y_true_int)\n",
    "        return super().update_state(y_true, y_pred, sample_weight=weight)"
   ]
  },
  {
   "cell_type": "code",
   "execution_count": 20,
   "metadata": {},
   "outputs": [
    {
     "name": "stdout",
     "output_type": "stream",
     "text": [
      "Model: \"tf_roberta_for_sequence_classification\"\n",
      "_________________________________________________________________\n",
      " Layer (type)                Output Shape              Param #   \n",
      "=================================================================\n",
      " roberta (TFRobertaMainLayer  multiple                 124055040 \n",
      " )                                                               \n",
      "                                                                 \n",
      " classifier (TFRobertaClassi  multiple                 592899    \n",
      " ficationHead)                                                   \n",
      "                                                                 \n",
      "=================================================================\n",
      "Total params: 124,647,939\n",
      "Trainable params: 124,647,939\n",
      "Non-trainable params: 0\n",
      "_________________________________________________________________\n"
     ]
    }
   ],
   "source": [
    "opt = tf.keras.optimizers.Adam(learning_rate=1e-5)\n",
    "\n",
    "model.compile(\n",
    "    optimizer=opt,\n",
    "    loss=tf.keras.losses.SparseCategoricalCrossentropy(from_logits=True),\n",
    "    metrics=[BalancedSparseCategoricalAccuracy()]\n",
    ")\n",
    "model.summary()"
   ]
  },
  {
   "cell_type": "code",
   "execution_count": 21,
   "metadata": {},
   "outputs": [
    {
     "data": {
      "text/plain": [
       "{0: 3.5901234567901232, 1: 1.0699043414275202, 2: 0.5596612779060816}"
      ]
     },
     "execution_count": 21,
     "metadata": {},
     "output_type": "execute_result"
    }
   ],
   "source": [
    "weights = class_weight.compute_class_weight(class_weight='balanced', classes = np.unique(train.target) ,y = train.target).ravel()\n",
    "class_weights = dict((i,v) for i, v in enumerate(weights))\n",
    "class_weights"
   ]
  },
  {
   "cell_type": "code",
   "execution_count": 22,
   "metadata": {},
   "outputs": [
    {
     "name": "stdout",
     "output_type": "stream",
     "text": [
      "Epoch 1/10\n",
      "546/546 [==============================] - 969s 2s/step - loss: 1.1020 - balanced_sparse_categorical_accuracy: 0.3134 - val_loss: 1.0808 - val_balanced_sparse_categorical_accuracy: 0.3800\n",
      "Epoch 2/10\n",
      "546/546 [==============================] - 942s 2s/step - loss: 1.0994 - balanced_sparse_categorical_accuracy: 0.3388 - val_loss: 1.0628 - val_balanced_sparse_categorical_accuracy: 0.3710\n",
      "Epoch 3/10\n",
      "546/546 [==============================] - 908s 2s/step - loss: 1.0897 - balanced_sparse_categorical_accuracy: 0.3697 - val_loss: 1.1408 - val_balanced_sparse_categorical_accuracy: 0.2556\n",
      "Epoch 4/10\n",
      "546/546 [==============================] - 900s 2s/step - loss: 1.0290 - balanced_sparse_categorical_accuracy: 0.4414 - val_loss: 1.1463 - val_balanced_sparse_categorical_accuracy: 0.3233\n",
      "Epoch 5/10\n",
      "546/546 [==============================] - 900s 2s/step - loss: 0.8414 - balanced_sparse_categorical_accuracy: 0.5741 - val_loss: 1.1157 - val_balanced_sparse_categorical_accuracy: 0.3777\n",
      "Epoch 6/10\n",
      "546/546 [==============================] - 909s 2s/step - loss: 0.6662 - balanced_sparse_categorical_accuracy: 0.6535 - val_loss: 1.2527 - val_balanced_sparse_categorical_accuracy: 0.3649\n",
      "Epoch 7/10\n",
      "546/546 [==============================] - 902s 2s/step - loss: 0.5197 - balanced_sparse_categorical_accuracy: 0.7224 - val_loss: 1.2718 - val_balanced_sparse_categorical_accuracy: 0.3636\n",
      "Epoch 8/10\n",
      "546/546 [==============================] - 897s 2s/step - loss: 0.4218 - balanced_sparse_categorical_accuracy: 0.7753 - val_loss: 1.4815 - val_balanced_sparse_categorical_accuracy: 0.3717\n",
      "Epoch 9/10\n",
      "546/546 [==============================] - 906s 2s/step - loss: 0.3664 - balanced_sparse_categorical_accuracy: 0.8149 - val_loss: 1.5509 - val_balanced_sparse_categorical_accuracy: 0.3698\n",
      "Epoch 10/10\n",
      "546/546 [==============================] - 898s 2s/step - loss: 0.3180 - balanced_sparse_categorical_accuracy: 0.8452 - val_loss: 1.8998 - val_balanced_sparse_categorical_accuracy: 0.3619\n"
     ]
    },
    {
     "data": {
      "text/plain": [
       "<keras.callbacks.History at 0x276800c5860>"
      ]
     },
     "execution_count": 22,
     "metadata": {},
     "output_type": "execute_result"
    }
   ],
   "source": [
    "model.fit(tf_train_dataset, validation_data=tf_val_dataset, epochs=10, class_weight = class_weights)"
   ]
  },
  {
   "cell_type": "code",
   "execution_count": 23,
   "metadata": {},
   "outputs": [
    {
     "name": "stdout",
     "output_type": "stream",
     "text": [
      "137/137 [==============================] - 52s 356ms/step\n"
     ]
    },
    {
     "data": {
      "text/plain": [
       "TFSequenceClassifierOutput(loss=None, logits=array([[-0.19087979, -1.2020035 ,  1.5307783 ],\n",
       "       [-2.2945757 , -1.2491194 ,  3.8349245 ],\n",
       "       [-4.401391  ,  3.4730864 ,  0.7364215 ],\n",
       "       ...,\n",
       "       [-3.907759  ,  3.1372478 ,  0.70754105],\n",
       "       [-1.1489426 , -0.28807667,  1.4305646 ],\n",
       "       [-2.948936  ,  0.23917764,  2.6663866 ]], dtype=float32), hidden_states=None, attentions=None)"
      ]
     },
     "execution_count": 23,
     "metadata": {},
     "output_type": "execute_result"
    }
   ],
   "source": [
    "preds = model.predict(tf_val_dataset, verbose=1)\n",
    "preds"
   ]
  },
  {
   "cell_type": "code",
   "execution_count": 24,
   "metadata": {},
   "outputs": [
    {
     "name": "stdout",
     "output_type": "stream",
     "text": [
      "137/137 [==============================] - 48s 352ms/step - loss: 1.8998 - balanced_sparse_categorical_accuracy: 0.3619\n",
      "Loss: 1.8997732400894165\n",
      "Accuracy: 0.3619326651096344\n"
     ]
    }
   ],
   "source": [
    "loss, accuracy = model.evaluate(tf_val_dataset)\n",
    "\n",
    "print(f'Loss: {loss}')\n",
    "print(f'Accuracy: {accuracy}')"
   ]
  },
  {
   "cell_type": "code",
   "execution_count": 25,
   "metadata": {},
   "outputs": [
    {
     "name": "stdout",
     "output_type": "stream",
     "text": [
      "546/546 [==============================] - 191s 351ms/step - loss: 0.4458 - balanced_sparse_categorical_accuracy: 0.8558\n",
      "Loss: 0.4457909166812897\n",
      "Accuracy: 0.8557717800140381\n"
     ]
    }
   ],
   "source": [
    "loss, accuracy = model.evaluate(tf_train_dataset)\n",
    "\n",
    "print(f'Loss: {loss}')\n",
    "print(f'Accuracy: {accuracy}')"
   ]
  },
  {
   "cell_type": "code",
   "execution_count": 26,
   "metadata": {},
   "outputs": [
    {
     "data": {
      "text/plain": [
       "array([[-0.19087979, -1.2020035 ,  1.5307783 ],\n",
       "       [-2.2945757 , -1.2491194 ,  3.8349245 ],\n",
       "       [-4.401391  ,  3.4730864 ,  0.7364215 ],\n",
       "       ...,\n",
       "       [-3.907759  ,  3.1372478 ,  0.70754105],\n",
       "       [-1.1489426 , -0.28807667,  1.4305646 ],\n",
       "       [-2.948936  ,  0.23917764,  2.6663866 ]], dtype=float32)"
      ]
     },
     "execution_count": 26,
     "metadata": {},
     "output_type": "execute_result"
    }
   ],
   "source": [
    "preds['logits']"
   ]
  },
  {
   "cell_type": "code",
   "execution_count": 27,
   "metadata": {},
   "outputs": [
    {
     "data": {
      "text/plain": [
       "array([[1.4372762e-01, 5.2289527e-02, 8.0398291e-01],\n",
       "       [2.1595878e-03, 6.1433716e-03, 9.9169707e-01],\n",
       "       [3.5705941e-04, 9.3882048e-01, 6.0822483e-02],\n",
       "       ...,\n",
       "       [8.0055417e-04, 9.1832894e-01, 8.0870479e-02],\n",
       "       [6.0401622e-02, 1.4286241e-01, 7.9673594e-01],\n",
       "       [3.3350608e-03, 8.0850735e-02, 9.1581422e-01]], dtype=float32)"
      ]
     },
     "execution_count": 27,
     "metadata": {},
     "output_type": "execute_result"
    }
   ],
   "source": [
    "tf.nn.softmax(preds['logits']).numpy()"
   ]
  },
  {
   "cell_type": "markdown",
   "metadata": {},
   "source": [
    "# Salvando o modelo"
   ]
  },
  {
   "cell_type": "code",
   "execution_count": 28,
   "metadata": {},
   "outputs": [],
   "source": [
    "model.save_weights(PATH_TO_WEIGHTS + model_name + '.hdf5')\n",
    "model.save_pretrained(PATH_TO_MODELS + model_name)"
   ]
  },
  {
   "cell_type": "markdown",
   "metadata": {},
   "source": [
    "# VALIDAÇÃO COM ACURÁCIA BALANCEADA!"
   ]
  },
  {
   "cell_type": "code",
   "execution_count": 9,
   "metadata": {},
   "outputs": [],
   "source": [
    "model_name = \"roberta-base\""
   ]
  },
  {
   "cell_type": "code",
   "execution_count": 10,
   "metadata": {},
   "outputs": [
    {
     "name": "stderr",
     "output_type": "stream",
     "text": [
      "All model checkpoint layers were used when initializing TFRobertaForSequenceClassification.\n",
      "\n",
      "Some layers of TFRobertaForSequenceClassification were not initialized from the model checkpoint at roberta-base and are newly initialized: ['classifier']\n",
      "You should probably TRAIN this model on a down-stream task to be able to use it for predictions and inference.\n"
     ]
    }
   ],
   "source": [
    "tokenizer = AutoTokenizer.from_pretrained(model_name)\n",
    "model = TFAutoModelForSequenceClassification.from_pretrained(model_name, num_labels=3)\n",
    "model.load_weights(PATH_TO_WEIGHTS + model_name + '.hdf5')"
   ]
  },
  {
   "cell_type": "code",
   "execution_count": 11,
   "metadata": {},
   "outputs": [
    {
     "name": "stderr",
     "output_type": "stream",
     "text": [
      "Parameter 'function'=<function tokenize_function at 0x000001882400A840> of the transform datasets.arrow_dataset.Dataset._map_single couldn't be hashed properly, a random hash was used instead. Make sure your transforms and parameters are serializable with pickle or dill for the dataset fingerprinting and caching to work. If you reuse this transform, the caching mechanism will consider it to be different from the previous calls and recompute everything. This warning is only showed once. Subsequent hashing failures won't be showed.\n"
     ]
    },
    {
     "data": {
      "application/vnd.jupyter.widget-view+json": {
       "model_id": "5ac116d00b0446f59d6a2145628cd05a",
       "version_major": 2,
       "version_minor": 0
      },
      "text/plain": [
       "  0%|          | 0/1091 [00:00<?, ?ex/s]"
      ]
     },
     "metadata": {},
     "output_type": "display_data"
    }
   ],
   "source": [
    "def tokenize_function(sample):\n",
    "  return tokenizer(sample[\"text\"])\n",
    "\n",
    "dataset_val = Dataset.from_pandas(val, preserve_index=False)\n",
    "tokenized_dataset_val = dataset_val.map(tokenize_function)"
   ]
  },
  {
   "cell_type": "code",
   "execution_count": 12,
   "metadata": {},
   "outputs": [],
   "source": [
    "data_collator = DataCollatorWithPadding(tokenizer=tokenizer, return_tensors=\"tf\")\n",
    "tf_val_dataset = tokenized_dataset_val.to_tf_dataset(\n",
    "    columns=[\"attention_mask\", \"input_ids\", \"token_type_ids\"],\n",
    "    label_cols=[\"target\"],\n",
    "    shuffle=False,\n",
    "    collate_fn=data_collator,\n",
    "    batch_size=8,\n",
    ")"
   ]
  },
  {
   "cell_type": "code",
   "execution_count": 15,
   "metadata": {},
   "outputs": [],
   "source": [
    "model.compile(\n",
    "    loss=tf.keras.losses.SparseCategoricalCrossentropy(from_logits=True),\n",
    "    metrics=[BalancedSparseCategoricalAccuracy()]\n",
    ")"
   ]
  },
  {
   "cell_type": "code",
   "execution_count": 16,
   "metadata": {},
   "outputs": [
    {
     "data": {
      "text/plain": [
       "TFSequenceClassifierOutput(loss=None, logits=array([[-0.19087979, -1.2020035 ,  1.5307783 ],\n",
       "       [-2.2945757 , -1.2491194 ,  3.8349245 ],\n",
       "       [-4.401391  ,  3.4730864 ,  0.7364215 ],\n",
       "       ...,\n",
       "       [-3.907759  ,  3.1372478 ,  0.70754105],\n",
       "       [-1.1489426 , -0.28807667,  1.4305646 ],\n",
       "       [-2.948936  ,  0.23917764,  2.6663866 ]], dtype=float32), hidden_states=None, attentions=None)"
      ]
     },
     "execution_count": 16,
     "metadata": {},
     "output_type": "execute_result"
    }
   ],
   "source": [
    "preds = model.predict(tf_val_dataset, verbose=3)\n",
    "preds"
   ]
  },
  {
   "cell_type": "code",
   "execution_count": 17,
   "metadata": {},
   "outputs": [],
   "source": [
    "prob = tf.nn.softmax(preds['logits']).numpy()\n",
    "y_pred = np.argmax(prob, axis=1)"
   ]
  },
  {
   "cell_type": "code",
   "execution_count": 25,
   "metadata": {},
   "outputs": [
    {
     "name": "stdout",
     "output_type": "stream",
     "text": [
      "Val - balanced_accuracy :  0.3196528625188959\n",
      "Val - F1 :  0.29048413588261096\n"
     ]
    }
   ],
   "source": [
    "print(\"Val - balanced_accuracy : \", balanced_accuracy_score(val.target,  y_pred))\n",
    "print(\"Val - F1 : \", f1_score(val.target, y_pred, average='macro'))"
   ]
  },
  {
   "cell_type": "code",
   "execution_count": 27,
   "metadata": {},
   "outputs": [
    {
     "data": {
      "image/png": "[encoded data removed]",
      "text/plain": [
       "<Figure size 720x288 with 2 Axes>"
      ]
     },
     "metadata": {
      "needs_background": "light"
     },
     "output_type": "display_data"
    }
   ],
   "source": [
    "labels = ['negative', 'neutral', 'positive']\n",
    "cm = confusion_matrix(val.target, y_pred)\n",
    "cmn = cm.astype('float') / cm.sum(axis=1)[:, np.newaxis]\n",
    "cm_df = pd.DataFrame(cmn,\n",
    "                     index = labels, \n",
    "                     columns = labels\n",
    "                     )\n",
    "\n",
    "plt.figure(figsize=(10,4))\n",
    "sns.heatmap(cm_df, annot=True ,fmt='g')\n",
    "plt.title('Confusion Matrix')\n",
    "plt.ylabel('Actual Values')\n",
    "plt.xlabel('Predicted Values')\n",
    "plt.show()"
   ]
  }
 ],
 "metadata": {
  "kernelspec": {
   "display_name": "Python 3.7.0 64-bit",
   "language": "python",
   "name": "python3"
  },
  "language_info": {
   "codemirror_mode": {
    "name": "ipython",
    "version": 3
   },
   "file_extension": ".py",
   "mimetype": "text/x-python",
   "name": "python",
   "nbconvert_exporter": "python",
   "pygments_lexer": "ipython3",
   "version": "3.7.0"
  },
  "orig_nbformat": 4,
  "vscode": {
   "interpreter": {
    "hash": "f2487189b5835e73c5fa6cd7f2ed518f6fa1ff6c9bd8da44d17cb8ab10f576c2"
   }
  }
 },
 "nbformat": 4,
 "nbformat_minor": 2
}
