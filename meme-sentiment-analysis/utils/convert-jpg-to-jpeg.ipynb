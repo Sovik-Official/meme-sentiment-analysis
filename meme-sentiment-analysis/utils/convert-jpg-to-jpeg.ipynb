{
 "cells": [
  {
   "cell_type": "code",
   "execution_count": 1,
   "id": "ef3d4b9d-dd05-4ad8-9b7f-6956f6534e2b",
   "metadata": {},
   "outputs": [],
   "source": [
    "import yaml\n",
    "import glob\n",
    "import os\n",
    "from PIL import Image"
   ]
  },
  {
   "cell_type": "code",
   "execution_count": 2,
   "id": "5f68fd93-5714-4b34-851d-d4068469ae51",
   "metadata": {},
   "outputs": [],
   "source": [
    "with open(\"../../config.yaml\", \"r\") as stream:\n",
    "    try:\n",
    "        configs = yaml.safe_load(stream)\n",
    "    except yaml.YAMLError as exc:\n",
    "        print(exc)"
   ]
  },
  {
   "cell_type": "code",
   "execution_count": 3,
   "id": "3663d11b-8127-454e-ab39-7cfb7ee7f791",
   "metadata": {},
   "outputs": [
    {
     "data": {
      "text/plain": [
       "['B:\\\\utils\\\\Documentos\\\\MDC\\\\projeto_final\\\\meme-sentiment-analysis/datasets/images-multimodal\\\\image_1.jpg',\n",
       " 'B:\\\\utils\\\\Documentos\\\\MDC\\\\projeto_final\\\\meme-sentiment-analysis/datasets/images-multimodal\\\\image_10.png',\n",
       " 'B:\\\\utils\\\\Documentos\\\\MDC\\\\projeto_final\\\\meme-sentiment-analysis/datasets/images-multimodal\\\\image_100.jpg',\n",
       " 'B:\\\\utils\\\\Documentos\\\\MDC\\\\projeto_final\\\\meme-sentiment-analysis/datasets/images-multimodal\\\\image_1000.png',\n",
       " 'B:\\\\utils\\\\Documentos\\\\MDC\\\\projeto_final\\\\meme-sentiment-analysis/datasets/images-multimodal\\\\image_1001.png']"
      ]
     },
     "execution_count": 3,
     "metadata": {},
     "output_type": "execute_result"
    }
   ],
   "source": [
    "PATH_TO_IMAGES_MULTIMODAL = str(configs['ROOT_DIR'] + configs['PATH_TO_IMAGES_MULTIMODAL'])\n",
    "imgs = glob.glob(PATH_TO_IMAGES_MULTIMODAL + '*')\n",
    "imgs[:5]"
   ]
  },
  {
   "cell_type": "code",
   "execution_count": 4,
   "id": "225514e8",
   "metadata": {},
   "outputs": [],
   "source": [
    "for img in imgs:\n",
    "  if img.endswith('.jpg') or img.endswith('.JPG'):\n",
    "    new_name = img.replace('.jpg', '.jpeg').replace('.JPG','.jpeg')\n",
    "    Image.open(img).convert('RGB').save(new_name)\n",
    "    os.remove(img)\n",
    "  "
   ]
  }
 ],
 "metadata": {
  "kernelspec": {
   "display_name": "Python 3.7.0 64-bit",
   "language": "python",
   "name": "python3"
  },
  "language_info": {
   "codemirror_mode": {
    "name": "ipython",
    "version": 3
   },
   "file_extension": ".py",
   "mimetype": "text/x-python",
   "name": "python",
   "nbconvert_exporter": "python",
   "pygments_lexer": "ipython3",
   "version": "3.7.0"
  },
  "vscode": {
   "interpreter": {
    "hash": "f2487189b5835e73c5fa6cd7f2ed518f6fa1ff6c9bd8da44d17cb8ab10f576c2"
   }
  }
 },
 "nbformat": 4,
 "nbformat_minor": 5
}
